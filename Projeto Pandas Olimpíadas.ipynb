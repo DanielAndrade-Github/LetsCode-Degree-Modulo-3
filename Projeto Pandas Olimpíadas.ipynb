{
 "cells": [
  {
   "cell_type": "markdown",
   "metadata": {},
   "source": [
    "### Importando as bibliotecas"
   ]
  },
  {
   "cell_type": "code",
   "execution_count": 1,
   "metadata": {
    "ExecuteTime": {
     "end_time": "2021-10-22T22:00:20.761415Z",
     "start_time": "2021-10-22T22:00:17.521117Z"
    }
   },
   "outputs": [],
   "source": [
    "import pandas as pd\n",
    "import numpy as np\n",
    "import matplotlib.pyplot as plt\n",
    "import seaborn as sns\n",
    "%matplotlib inline"
   ]
  },
  {
   "cell_type": "markdown",
   "metadata": {
    "id": "RofcZIsJHmTg"
   },
   "source": [
    "### 1. O Brasil nas Olimpíadas\n",
    "\n",
    "Vamos começar estudando o desempenho do nossos próprio país. Gere um DataFrame novo contendo apenas as informações sobre atletas brasileiros."
   ]
  },
  {
   "cell_type": "markdown",
   "metadata": {},
   "source": [
    "#### 1.1 Importação, análise e modelagem dos dados"
   ]
  },
  {
   "cell_type": "code",
   "execution_count": 2,
   "metadata": {
    "ExecuteTime": {
     "end_time": "2021-10-22T22:00:21.640933Z",
     "start_time": "2021-10-22T22:00:20.799396Z"
    },
    "id": "ij5r6wH6HmTk",
    "scrolled": true
   },
   "outputs": [],
   "source": [
    "# Importando banco de dados 'csv'\n",
    "df_dados_olimpicos = pd.read_csv('athlete_events.csv')\n",
    "# Importando 'csv' com siglas\n",
    "noc_regions = pd.read_csv('noc_regions.csv')"
   ]
  },
  {
   "cell_type": "code",
   "execution_count": 3,
   "metadata": {
    "ExecuteTime": {
     "end_time": "2021-10-22T22:00:21.781718Z",
     "start_time": "2021-10-22T22:00:21.738744Z"
    }
   },
   "outputs": [
    {
     "data": {
      "text/html": [
       "<div>\n",
       "<style scoped>\n",
       "    .dataframe tbody tr th:only-of-type {\n",
       "        vertical-align: middle;\n",
       "    }\n",
       "\n",
       "    .dataframe tbody tr th {\n",
       "        vertical-align: top;\n",
       "    }\n",
       "\n",
       "    .dataframe thead th {\n",
       "        text-align: right;\n",
       "    }\n",
       "</style>\n",
       "<table border=\"1\" class=\"dataframe\">\n",
       "  <thead>\n",
       "    <tr style=\"text-align: right;\">\n",
       "      <th></th>\n",
       "      <th>ID</th>\n",
       "      <th>Name</th>\n",
       "      <th>Sex</th>\n",
       "      <th>Age</th>\n",
       "      <th>Height</th>\n",
       "      <th>Weight</th>\n",
       "      <th>Team</th>\n",
       "      <th>NOC</th>\n",
       "      <th>Games</th>\n",
       "      <th>Year</th>\n",
       "      <th>Season</th>\n",
       "      <th>City</th>\n",
       "      <th>Sport</th>\n",
       "      <th>Event</th>\n",
       "      <th>Medal</th>\n",
       "    </tr>\n",
       "  </thead>\n",
       "  <tbody>\n",
       "    <tr>\n",
       "      <th>0</th>\n",
       "      <td>1</td>\n",
       "      <td>A Dijiang</td>\n",
       "      <td>M</td>\n",
       "      <td>24.0</td>\n",
       "      <td>180.0</td>\n",
       "      <td>80.0</td>\n",
       "      <td>China</td>\n",
       "      <td>CHN</td>\n",
       "      <td>1992 Summer</td>\n",
       "      <td>1992</td>\n",
       "      <td>Summer</td>\n",
       "      <td>Barcelona</td>\n",
       "      <td>Basketball</td>\n",
       "      <td>Basketball Men's Basketball</td>\n",
       "      <td>NaN</td>\n",
       "    </tr>\n",
       "  </tbody>\n",
       "</table>\n",
       "</div>"
      ],
      "text/plain": [
       "   ID       Name Sex   Age  Height  Weight   Team  NOC        Games  Year  \\\n",
       "0   1  A Dijiang   M  24.0   180.0    80.0  China  CHN  1992 Summer  1992   \n",
       "\n",
       "   Season       City       Sport                        Event Medal  \n",
       "0  Summer  Barcelona  Basketball  Basketball Men's Basketball   NaN  "
      ]
     },
     "execution_count": 3,
     "metadata": {},
     "output_type": "execute_result"
    }
   ],
   "source": [
    "# VISUALIÇÃO 'df_dados_olimpicos'\n",
    "df_dados_olimpicos.head(1)"
   ]
  },
  {
   "cell_type": "code",
   "execution_count": 4,
   "metadata": {
    "ExecuteTime": {
     "end_time": "2021-10-22T22:00:21.906648Z",
     "start_time": "2021-10-22T22:00:21.879663Z"
    }
   },
   "outputs": [
    {
     "data": {
      "text/html": [
       "<div>\n",
       "<style scoped>\n",
       "    .dataframe tbody tr th:only-of-type {\n",
       "        vertical-align: middle;\n",
       "    }\n",
       "\n",
       "    .dataframe tbody tr th {\n",
       "        vertical-align: top;\n",
       "    }\n",
       "\n",
       "    .dataframe thead th {\n",
       "        text-align: right;\n",
       "    }\n",
       "</style>\n",
       "<table border=\"1\" class=\"dataframe\">\n",
       "  <thead>\n",
       "    <tr style=\"text-align: right;\">\n",
       "      <th></th>\n",
       "      <th>NOC</th>\n",
       "      <th>region</th>\n",
       "      <th>notes</th>\n",
       "    </tr>\n",
       "  </thead>\n",
       "  <tbody>\n",
       "    <tr>\n",
       "      <th>0</th>\n",
       "      <td>AFG</td>\n",
       "      <td>Afghanistan</td>\n",
       "      <td>NaN</td>\n",
       "    </tr>\n",
       "  </tbody>\n",
       "</table>\n",
       "</div>"
      ],
      "text/plain": [
       "   NOC       region notes\n",
       "0  AFG  Afghanistan   NaN"
      ]
     },
     "execution_count": 4,
     "metadata": {},
     "output_type": "execute_result"
    }
   ],
   "source": [
    "# VISUALIZAÇÃO 'noc_regions'\n",
    "noc_regions.head(1)"
   ]
  },
  {
   "cell_type": "code",
   "execution_count": 5,
   "metadata": {
    "ExecuteTime": {
     "end_time": "2021-10-22T22:00:22.018583Z",
     "start_time": "2021-10-22T22:00:22.005590Z"
    }
   },
   "outputs": [
    {
     "name": "stdout",
     "output_type": "stream",
     "text": [
      "Linhas no dataframe: df_dados_olimpicos 271116\n",
      "Colunas no dataframe: df_dados_olimpicos 15\n",
      "Linhas no dataframe: noc_regions 230\n",
      "Colunas no dataframe: noc_regions 3\n"
     ]
    }
   ],
   "source": [
    "# VISUALIZANDO NÚMERO DE COLUNAS E LINHAS USANDO O COMANDO \"shape\": [0]linhas [1]colunas\n",
    "print('Linhas no dataframe: df_dados_olimpicos',df_dados_olimpicos.shape[0])\n",
    "print('Colunas no dataframe: df_dados_olimpicos',df_dados_olimpicos.shape[1])\n",
    "print('Linhas no dataframe: noc_regions',noc_regions.shape[0])\n",
    "print('Colunas no dataframe: noc_regions',noc_regions.shape[1])"
   ]
  },
  {
   "cell_type": "code",
   "execution_count": 6,
   "metadata": {
    "ExecuteTime": {
     "end_time": "2021-10-22T22:00:22.206229Z",
     "start_time": "2021-10-22T22:00:22.149510Z"
    }
   },
   "outputs": [],
   "source": [
    "# RETIRAR COLUNA 'ID' USANDO O \"drop\" com \"inplace=True\" --> df_dados_olimpicos\n",
    "df_dados_olimpicos.drop(columns=['ID'],inplace=True)"
   ]
  },
  {
   "cell_type": "code",
   "execution_count": 7,
   "metadata": {
    "ExecuteTime": {
     "end_time": "2021-10-22T22:00:22.314168Z",
     "start_time": "2021-10-22T22:00:22.302177Z"
    }
   },
   "outputs": [],
   "source": [
    "# RETIRAR COLUNA 'notes' USANDO O \"drop\" com \"inplace=True\" --> noc_regions\n",
    "noc_regions.drop(columns=['notes'],inplace=True)"
   ]
  },
  {
   "cell_type": "code",
   "execution_count": 8,
   "metadata": {
    "ExecuteTime": {
     "end_time": "2021-10-22T22:00:22.734929Z",
     "start_time": "2021-10-22T22:00:22.425106Z"
    }
   },
   "outputs": [],
   "source": [
    "# FAZENDO MERGING COM O CSV COM 'NOC' COM O OBJETIVO DE FILTRAR E EXPOR MELHOR OS DADOS POR PAÍSES\n",
    "df_dados_olimpicos = df_dados_olimpicos.merge(noc_regions,on='NOC',how='left')"
   ]
  },
  {
   "cell_type": "code",
   "execution_count": 9,
   "metadata": {
    "ExecuteTime": {
     "end_time": "2021-10-22T22:00:23.107716Z",
     "start_time": "2021-10-22T22:00:22.847863Z"
    }
   },
   "outputs": [
    {
     "name": "stdout",
     "output_type": "stream",
     "text": [
      "<class 'pandas.core.frame.DataFrame'>\n",
      "Int64Index: 271116 entries, 0 to 271115\n",
      "Data columns (total 15 columns):\n",
      " #   Column  Non-Null Count   Dtype  \n",
      "---  ------  --------------   -----  \n",
      " 0   Name    271116 non-null  object \n",
      " 1   Sex     271116 non-null  object \n",
      " 2   Age     261642 non-null  float64\n",
      " 3   Height  210945 non-null  float64\n",
      " 4   Weight  208241 non-null  float64\n",
      " 5   Team    271116 non-null  object \n",
      " 6   NOC     271116 non-null  object \n",
      " 7   Games   271116 non-null  object \n",
      " 8   Year    271116 non-null  int64  \n",
      " 9   Season  271116 non-null  object \n",
      " 10  City    271116 non-null  object \n",
      " 11  Sport   271116 non-null  object \n",
      " 12  Event   271116 non-null  object \n",
      " 13  Medal   39783 non-null   object \n",
      " 14  region  270746 non-null  object \n",
      "dtypes: float64(3), int64(1), object(11)\n",
      "memory usage: 33.1+ MB\n"
     ]
    }
   ],
   "source": [
    "# CHECANDO O MERGIN\n",
    "df_dados_olimpicos.info(1)"
   ]
  },
  {
   "cell_type": "code",
   "execution_count": 10,
   "metadata": {
    "ExecuteTime": {
     "end_time": "2021-10-22T22:00:24.103144Z",
     "start_time": "2021-10-22T22:00:23.219655Z"
    },
    "scrolled": true
   },
   "outputs": [
    {
     "name": "stdout",
     "output_type": "stream",
     "text": [
      "Name           0\n",
      "Sex            0\n",
      "Age         9474\n",
      "Height     60171\n",
      "Weight     62875\n",
      "Team           0\n",
      "NOC            0\n",
      "Games          0\n",
      "Year           0\n",
      "Season         0\n",
      "City           0\n",
      "Sport          0\n",
      "Event          0\n",
      "Medal     231333\n",
      "region       370\n",
      "dtype: int64\n",
      "1385\n"
     ]
    }
   ],
   "source": [
    "# CHECANDO VALORES NULOS COM 'isna' E TOTALIZANDO COM \"sum()\"\n",
    "print(df_dados_olimpicos.isna().sum())\n",
    "#CHECANDO VALORES DUPLICADOS COM 'duplicated' e TOTALIZANDO COM \"sum()\"\n",
    "print(df_dados_olimpicos.duplicated().sum())"
   ]
  },
  {
   "cell_type": "code",
   "execution_count": 11,
   "metadata": {
    "ExecuteTime": {
     "end_time": "2021-10-22T22:00:24.778759Z",
     "start_time": "2021-10-22T22:00:24.172107Z"
    }
   },
   "outputs": [],
   "source": [
    "# REMOVENDO DUPLICADOS\n",
    "df_dados_olimpicos.drop_duplicates(inplace=True)"
   ]
  },
  {
   "cell_type": "code",
   "execution_count": 12,
   "metadata": {
    "ExecuteTime": {
     "end_time": "2021-10-22T22:00:27.688916Z",
     "start_time": "2021-10-22T22:00:27.658931Z"
    },
    "scrolled": true
   },
   "outputs": [
    {
     "data": {
      "text/plain": [
       "array([nan, 'Gold', 'Bronze', 'Silver'], dtype=object)"
      ]
     },
     "execution_count": 12,
     "metadata": {},
     "output_type": "execute_result"
    }
   ],
   "source": [
    "# VERIFICANDO DADOS COLUNA 'MEDAL'\n",
    "df_dados_olimpicos['Medal'].unique()"
   ]
  },
  {
   "cell_type": "code",
   "execution_count": 13,
   "metadata": {
    "ExecuteTime": {
     "end_time": "2021-10-22T22:00:28.105419Z",
     "start_time": "2021-10-22T22:00:28.079433Z"
    },
    "scrolled": true
   },
   "outputs": [
    {
     "data": {
      "text/plain": [
       "Gold      13369\n",
       "Bronze    13295\n",
       "Silver    13108\n",
       "Name: Medal, dtype: int64"
      ]
     },
     "execution_count": 13,
     "metadata": {},
     "output_type": "execute_result"
    }
   ],
   "source": [
    "# CONTAGEM COLUNA 'MEDALS' (O 'value_counts' ignora os NaN)\n",
    "df_dados_olimpicos['Medal'].value_counts()"
   ]
  },
  {
   "cell_type": "code",
   "execution_count": 14,
   "metadata": {
    "ExecuteTime": {
     "end_time": "2021-10-22T22:00:28.570901Z",
     "start_time": "2021-10-22T22:00:28.434976Z"
    },
    "scrolled": false
   },
   "outputs": [
    {
     "data": {
      "text/html": [
       "<div>\n",
       "<style scoped>\n",
       "    .dataframe tbody tr th:only-of-type {\n",
       "        vertical-align: middle;\n",
       "    }\n",
       "\n",
       "    .dataframe tbody tr th {\n",
       "        vertical-align: top;\n",
       "    }\n",
       "\n",
       "    .dataframe thead th {\n",
       "        text-align: right;\n",
       "    }\n",
       "</style>\n",
       "<table border=\"1\" class=\"dataframe\">\n",
       "  <thead>\n",
       "    <tr style=\"text-align: right;\">\n",
       "      <th></th>\n",
       "      <th>Name</th>\n",
       "      <th>Sex</th>\n",
       "      <th>Age</th>\n",
       "      <th>Height</th>\n",
       "      <th>Weight</th>\n",
       "      <th>Team</th>\n",
       "      <th>NOC</th>\n",
       "      <th>Games</th>\n",
       "      <th>Year</th>\n",
       "      <th>Season</th>\n",
       "      <th>City</th>\n",
       "      <th>Sport</th>\n",
       "      <th>Event</th>\n",
       "      <th>Medal</th>\n",
       "      <th>region</th>\n",
       "      <th>Bronze</th>\n",
       "      <th>Gold</th>\n",
       "      <th>Silver</th>\n",
       "    </tr>\n",
       "  </thead>\n",
       "  <tbody>\n",
       "    <tr>\n",
       "      <th>0</th>\n",
       "      <td>A Dijiang</td>\n",
       "      <td>M</td>\n",
       "      <td>24.0</td>\n",
       "      <td>180.0</td>\n",
       "      <td>80.0</td>\n",
       "      <td>China</td>\n",
       "      <td>CHN</td>\n",
       "      <td>1992 Summer</td>\n",
       "      <td>1992</td>\n",
       "      <td>Summer</td>\n",
       "      <td>Barcelona</td>\n",
       "      <td>Basketball</td>\n",
       "      <td>Basketball Men's Basketball</td>\n",
       "      <td>NaN</td>\n",
       "      <td>China</td>\n",
       "      <td>0</td>\n",
       "      <td>0</td>\n",
       "      <td>0</td>\n",
       "    </tr>\n",
       "  </tbody>\n",
       "</table>\n",
       "</div>"
      ],
      "text/plain": [
       "        Name Sex   Age  Height  Weight   Team  NOC        Games  Year  Season  \\\n",
       "0  A Dijiang   M  24.0   180.0    80.0  China  CHN  1992 Summer  1992  Summer   \n",
       "\n",
       "        City       Sport                        Event Medal region  Bronze  \\\n",
       "0  Barcelona  Basketball  Basketball Men's Basketball   NaN  China       0   \n",
       "\n",
       "   Gold  Silver  \n",
       "0     0       0  "
      ]
     },
     "execution_count": 14,
     "metadata": {},
     "output_type": "execute_result"
    }
   ],
   "source": [
    "# UTILIZANDO O MÉTODO GET-DUMMIES, ALOCAMOS CADA TIPO DE MEDALHA EM UMA COLUNA\n",
    "df_dados_olimpicos = pd.concat([df_dados_olimpicos,pd.get_dummies(df_dados_olimpicos['Medal'])],axis=1)\n",
    "df_dados_olimpicos.head(1)"
   ]
  },
  {
   "cell_type": "markdown",
   "metadata": {},
   "source": [
    "#### 1.2 Uma observaçao interessante: o número total de medalhas leva em conta por exemplo cada medalha conquistada nos esportes coletivos, o que gera um excesso nesse número. Para tratar, podemos remover esses dados duplicados:"
   ]
  },
  {
   "cell_type": "code",
   "execution_count": 15,
   "metadata": {
    "ExecuteTime": {
     "end_time": "2021-10-22T22:00:29.413885Z",
     "start_time": "2021-10-22T22:00:29.106157Z"
    },
    "scrolled": true
   },
   "outputs": [],
   "source": [
    "df_dados_tratados = df_dados_olimpicos.drop_duplicates(subset=['Team','NOC','Games','Year','City','Sport','Event','Medal'])"
   ]
  },
  {
   "cell_type": "code",
   "execution_count": 16,
   "metadata": {
    "ExecuteTime": {
     "end_time": "2021-10-22T22:00:29.677738Z",
     "start_time": "2021-10-22T22:00:29.574798Z"
    },
    "scrolled": true
   },
   "outputs": [
    {
     "data": {
      "text/html": [
       "<div>\n",
       "<style scoped>\n",
       "    .dataframe tbody tr th:only-of-type {\n",
       "        vertical-align: middle;\n",
       "    }\n",
       "\n",
       "    .dataframe tbody tr th {\n",
       "        vertical-align: top;\n",
       "    }\n",
       "\n",
       "    .dataframe thead th {\n",
       "        text-align: right;\n",
       "    }\n",
       "</style>\n",
       "<table border=\"1\" class=\"dataframe\">\n",
       "  <thead>\n",
       "    <tr style=\"text-align: right;\">\n",
       "      <th></th>\n",
       "      <th>region</th>\n",
       "      <th>Gold</th>\n",
       "      <th>Silver</th>\n",
       "      <th>Bronze</th>\n",
       "    </tr>\n",
       "  </thead>\n",
       "  <tbody>\n",
       "    <tr>\n",
       "      <th>0</th>\n",
       "      <td>USA</td>\n",
       "      <td>1131.0</td>\n",
       "      <td>901.0</td>\n",
       "      <td>792.0</td>\n",
       "    </tr>\n",
       "  </tbody>\n",
       "</table>\n",
       "</div>"
      ],
      "text/plain": [
       "  region    Gold  Silver  Bronze\n",
       "0    USA  1131.0   901.0   792.0"
      ]
     },
     "execution_count": 16,
     "metadata": {},
     "output_type": "execute_result"
    }
   ],
   "source": [
    "df_medalhas = df_dados_tratados.groupby('region').sum()[['Gold','Silver','Bronze']].sort_values('Gold',ascending=False).reset_index()\n",
    "# VERIFICANDO ALTERAÇÕES\n",
    "df_medalhas.head(1)"
   ]
  },
  {
   "cell_type": "code",
   "execution_count": 17,
   "metadata": {
    "ExecuteTime": {
     "end_time": "2021-10-22T22:00:29.893653Z",
     "start_time": "2021-10-22T22:00:29.866668Z"
    }
   },
   "outputs": [
    {
     "name": "stdout",
     "output_type": "stream",
     "text": [
      "Os anos que ocorreram jogos olímpicos foram: [1992, 2012, 1920, 1900, 1988, 1994, 1932, 2002, 1952, 1980, 2000, 1996, 1912, 1924, 2014, 1948, 1998, 2006, 2008, 2016, 2004, 1960, 1964, 1984, 1968, 1972, 1936, 1956, 1928, 1976, 2010, 1906, 1904, 1908, 1896]\n",
      "___________________________________\n",
      "Em números totais foram 35 edições.\n"
     ]
    }
   ],
   "source": [
    "# QUANTAS EDIÇÕES DOS JOGOS JÁ OCORRERAM? \n",
    "# 'unique' --> Os únicos são devolvidos por ordem de aparecimento.\n",
    "# 'nunique' --> Contar o número de elementos distintos no eixo especificado\n",
    "edicoes_jogos = df_dados_olimpicos['Year'].unique().tolist()\n",
    "print(f'Os anos que ocorreram jogos olímpicos foram: {edicoes_jogos}')\n",
    "print('_' *35)\n",
    "n_edicoes = df_dados_olimpicos['Year'].nunique()\n",
    "print(f'Em números totais foram {n_edicoes} edições.')"
   ]
  },
  {
   "cell_type": "code",
   "execution_count": 18,
   "metadata": {
    "ExecuteTime": {
     "end_time": "2021-10-22T22:00:30.415968Z",
     "start_time": "2021-10-22T22:00:30.127131Z"
    }
   },
   "outputs": [
    {
     "name": "stdout",
     "output_type": "stream",
     "text": [
      "O total de países participantes foram:  230\n"
     ]
    }
   ],
   "source": [
    "# QUANTOS PAÍSES AO TODO JÁ PARTICIPARAM?\n",
    "paises_participantes = np.unique(df_dados_olimpicos['NOC'].dropna().values).tolist()\n",
    "print(\"O total de países participantes foram: \", len(paises_participantes))"
   ]
  },
  {
   "cell_type": "code",
   "execution_count": 63,
   "metadata": {
    "ExecuteTime": {
     "end_time": "2021-10-22T22:32:22.366420Z",
     "start_time": "2021-10-22T22:32:22.279475Z"
    }
   },
   "outputs": [
    {
     "data": {
      "text/html": [
       "<div>\n",
       "<style scoped>\n",
       "    .dataframe tbody tr th:only-of-type {\n",
       "        vertical-align: middle;\n",
       "    }\n",
       "\n",
       "    .dataframe tbody tr th {\n",
       "        vertical-align: top;\n",
       "    }\n",
       "\n",
       "    .dataframe thead th {\n",
       "        text-align: right;\n",
       "    }\n",
       "</style>\n",
       "<table border=\"1\" class=\"dataframe\">\n",
       "  <thead>\n",
       "    <tr style=\"text-align: right;\">\n",
       "      <th></th>\n",
       "      <th>Year</th>\n",
       "      <th>No de países</th>\n",
       "    </tr>\n",
       "  </thead>\n",
       "  <tbody>\n",
       "    <tr>\n",
       "      <th>20</th>\n",
       "      <td>1998</td>\n",
       "      <td>72</td>\n",
       "    </tr>\n",
       "    <tr>\n",
       "      <th>4</th>\n",
       "      <td>2000</td>\n",
       "      <td>199</td>\n",
       "    </tr>\n",
       "    <tr>\n",
       "      <th>18</th>\n",
       "      <td>2002</td>\n",
       "      <td>76</td>\n",
       "    </tr>\n",
       "    <tr>\n",
       "      <th>3</th>\n",
       "      <td>2004</td>\n",
       "      <td>200</td>\n",
       "    </tr>\n",
       "    <tr>\n",
       "      <th>17</th>\n",
       "      <td>2006</td>\n",
       "      <td>78</td>\n",
       "    </tr>\n",
       "    <tr>\n",
       "      <th>2</th>\n",
       "      <td>2008</td>\n",
       "      <td>202</td>\n",
       "    </tr>\n",
       "    <tr>\n",
       "      <th>16</th>\n",
       "      <td>2010</td>\n",
       "      <td>81</td>\n",
       "    </tr>\n",
       "    <tr>\n",
       "      <th>1</th>\n",
       "      <td>2012</td>\n",
       "      <td>203</td>\n",
       "    </tr>\n",
       "    <tr>\n",
       "      <th>14</th>\n",
       "      <td>2014</td>\n",
       "      <td>88</td>\n",
       "    </tr>\n",
       "    <tr>\n",
       "      <th>0</th>\n",
       "      <td>2016</td>\n",
       "      <td>204</td>\n",
       "    </tr>\n",
       "  </tbody>\n",
       "</table>\n",
       "</div>"
      ],
      "text/plain": [
       "    Year  No de países\n",
       "20  1998            72\n",
       "4   2000           199\n",
       "18  2002            76\n",
       "3   2004           200\n",
       "17  2006            78\n",
       "2   2008           202\n",
       "16  2010            81\n",
       "1   2012           203\n",
       "14  2014            88\n",
       "0   2016           204"
      ]
     },
     "execution_count": 63,
     "metadata": {},
     "output_type": "execute_result"
    }
   ],
   "source": [
    "# NÚMERO DE PAÍSES POR EDIÇÃO DOS JOGOS --> USEI UM '.sample' PARA PEGAR DADOS ALEATÓRIOS\n",
    "paises_por_edicao = df_dados_olimpicos.drop_duplicates(['Year','region'])['Year'].value_counts().reset_index().sort_values('index')\n",
    "paises_por_edicao.rename(columns={'Year':'No de países','index':'Year'},inplace=True)\n",
    "paises_por_edicao.tail(10)"
   ]
  },
  {
   "cell_type": "code",
   "execution_count": 65,
   "metadata": {
    "ExecuteTime": {
     "end_time": "2021-10-22T22:33:15.620800Z",
     "start_time": "2021-10-22T22:33:15.108090Z"
    },
    "scrolled": false
   },
   "outputs": [
    {
     "data": {
      "image/png": "[encoded data removed]",
      "text/plain": [
       "<Figure size 864x432 with 1 Axes>"
      ]
     },
     "metadata": {
      "needs_background": "light"
     },
     "output_type": "display_data"
    }
   ],
   "source": [
    "# Gráfico 10 países mais vitoriosos de 1896 a 2016\n",
    "ranking_paises = df_dados_olimpicos.Team.value_counts().sort_values(ascending=False).head(10)\n",
    "\n",
    "plt.figure(figsize=(12,6))\n",
    "plt.title('Ranking 10 países mais vitoriosos')\n",
    "sns.barplot(x=ranking_paises.index, y= ranking_paises, palette='Set2');"
   ]
  },
  {
   "cell_type": "markdown",
   "metadata": {},
   "source": [
    "#### 1.3 Analisando o desempenho brasileiro"
   ]
  },
  {
   "cell_type": "code",
   "execution_count": 21,
   "metadata": {
    "ExecuteTime": {
     "end_time": "2021-10-22T22:00:31.648212Z",
     "start_time": "2021-10-22T22:00:31.602238Z"
    },
    "scrolled": false
   },
   "outputs": [
    {
     "data": {
      "text/html": [
       "<div>\n",
       "<style scoped>\n",
       "    .dataframe tbody tr th:only-of-type {\n",
       "        vertical-align: middle;\n",
       "    }\n",
       "\n",
       "    .dataframe tbody tr th {\n",
       "        vertical-align: top;\n",
       "    }\n",
       "\n",
       "    .dataframe thead th {\n",
       "        text-align: right;\n",
       "    }\n",
       "</style>\n",
       "<table border=\"1\" class=\"dataframe\">\n",
       "  <thead>\n",
       "    <tr style=\"text-align: right;\">\n",
       "      <th></th>\n",
       "      <th>Name</th>\n",
       "      <th>Sex</th>\n",
       "      <th>Age</th>\n",
       "      <th>Height</th>\n",
       "      <th>Weight</th>\n",
       "      <th>Team</th>\n",
       "      <th>NOC</th>\n",
       "      <th>Games</th>\n",
       "      <th>Year</th>\n",
       "      <th>Season</th>\n",
       "      <th>City</th>\n",
       "      <th>Sport</th>\n",
       "      <th>Event</th>\n",
       "      <th>Medal</th>\n",
       "      <th>region</th>\n",
       "      <th>Bronze</th>\n",
       "      <th>Gold</th>\n",
       "      <th>Silver</th>\n",
       "    </tr>\n",
       "  </thead>\n",
       "  <tbody>\n",
       "    <tr>\n",
       "      <th>0</th>\n",
       "      <td>Alexandre Abeid</td>\n",
       "      <td>M</td>\n",
       "      <td>22.0</td>\n",
       "      <td>194.0</td>\n",
       "      <td>92.0</td>\n",
       "      <td>Brazil</td>\n",
       "      <td>BRA</td>\n",
       "      <td>1972 Summer</td>\n",
       "      <td>1972</td>\n",
       "      <td>Summer</td>\n",
       "      <td>Munich</td>\n",
       "      <td>Volleyball</td>\n",
       "      <td>Volleyball Men's Volleyball</td>\n",
       "      <td>NaN</td>\n",
       "      <td>Brazil</td>\n",
       "      <td>0</td>\n",
       "      <td>0</td>\n",
       "      <td>0</td>\n",
       "    </tr>\n",
       "  </tbody>\n",
       "</table>\n",
       "</div>"
      ],
      "text/plain": [
       "              Name Sex   Age  Height  Weight    Team  NOC        Games  Year  \\\n",
       "0  Alexandre Abeid   M  22.0   194.0    92.0  Brazil  BRA  1972 Summer  1972   \n",
       "\n",
       "   Season    City       Sport                        Event Medal  region  \\\n",
       "0  Summer  Munich  Volleyball  Volleyball Men's Volleyball   NaN  Brazil   \n",
       "\n",
       "   Bronze  Gold  Silver  \n",
       "0       0     0       0  "
      ]
     },
     "execution_count": 21,
     "metadata": {},
     "output_type": "execute_result"
    }
   ],
   "source": [
    "# FILTRANDO APENAS OS ATLETAS BRASILEIROS\n",
    "brasil=['Brazil']\n",
    "df_atletas_br = df_dados_olimpicos[df_dados_olimpicos.Team.isin(brasil)]\n",
    "df_brasil_olimpico = df_atletas_br.reset_index()\n",
    "del df_brasil_olimpico['index']\n",
    "df_brasil_olimpico.head(1)"
   ]
  },
  {
   "cell_type": "code",
   "execution_count": 22,
   "metadata": {
    "ExecuteTime": {
     "end_time": "2021-10-22T22:00:33.534999Z",
     "start_time": "2021-10-22T22:00:31.971606Z"
    }
   },
   "outputs": [
    {
     "data": {
      "text/plain": [
       "<AxesSubplot:>"
      ]
     },
     "execution_count": 22,
     "metadata": {},
     "output_type": "execute_result"
    },
    {
     "data": {
      "image/png": "[encoded data removed]",
      "text/plain": [
       "<Figure size 864x432 with 1 Axes>"
      ]
     },
     "metadata": {
      "needs_background": "light"
     },
     "output_type": "display_data"
    }
   ],
   "source": [
    "# GRÁFICO DA DISTRIBUIÇÃO DO NÚMERO DE ATLETAS BRASILEIROS POR ESPORTE NOS SUMMER GAMES\n",
    "plt.figure(figsize=(12,6))\n",
    "df_brasil_olimpico.query(\"Season == 'Summer'\")['Sport'].value_counts().plot(kind='bar')"
   ]
  },
  {
   "cell_type": "code",
   "execution_count": 23,
   "metadata": {
    "ExecuteTime": {
     "end_time": "2021-10-22T22:00:34.745665Z",
     "start_time": "2021-10-22T22:00:33.806844Z"
    },
    "scrolled": false
   },
   "outputs": [
    {
     "data": {
      "text/plain": [
       "<AxesSubplot:xlabel='count', ylabel='Sport'>"
      ]
     },
     "execution_count": 23,
     "metadata": {},
     "output_type": "execute_result"
    },
    {
     "data": {
      "image/png": "[encoded data removed]",
      "text/plain": [
       "<Figure size 1080x720 with 1 Axes>"
      ]
     },
     "metadata": {
      "needs_background": "light"
     },
     "output_type": "display_data"
    }
   ],
   "source": [
    "# RELAÇÃO DA PRESENÇA BRASILEIRA: ESPORTE X GÊNERO\n",
    "plt.figure(figsize=(15,10))\n",
    "sns.countplot(data=df_brasil_olimpico, y = df_brasil_olimpico.query(\"Season == 'Summer'\")['Sport'], hue='Sex')"
   ]
  },
  {
   "cell_type": "code",
   "execution_count": 24,
   "metadata": {
    "ExecuteTime": {
     "end_time": "2021-10-22T22:00:34.964208Z",
     "start_time": "2021-10-22T22:00:34.952217Z"
    },
    "scrolled": true
   },
   "outputs": [
    {
     "name": "stdout",
     "output_type": "stream",
     "text": [
      "Total de atletas masculinos e femininos foi:\n",
      "M    2648\n",
      "F    1124\n",
      "Name: Sex, dtype: int64\n"
     ]
    }
   ],
   "source": [
    "# TOTALIZAÇÃO NUMÉRICA DO GRÁFICO ACIMA\n",
    "contagem_por_sexo = df_brasil_olimpico['Sex'].value_counts()\n",
    "print(f'Total de atletas masculinos e femininos foi:\\n{contagem_por_sexo}')"
   ]
  },
  {
   "cell_type": "markdown",
   "metadata": {
    "id": "gYULFE4xHmTw"
   },
   "source": [
    "#### 1.4 Medalhistas\n",
    "\n",
    "#### Vamos focar um pouco nos casos de sucesso do Brasil. Use o seu DataFrame anterior para filtrar apenas informações sobre **medalhistas** brasileiros. \n",
    "\n",
    "#### **DICA:** observe como a coluna ```Medal``` é representada quando o atleta não ganhou medalha."
   ]
  },
  {
   "cell_type": "code",
   "execution_count": 25,
   "metadata": {
    "ExecuteTime": {
     "end_time": "2021-10-22T22:00:35.200079Z",
     "start_time": "2021-10-22T22:00:35.189085Z"
    },
    "scrolled": true
   },
   "outputs": [
    {
     "data": {
      "text/plain": [
       "Bronze    185\n",
       "Silver    161\n",
       "Gold      103\n",
       "Name: Medal, dtype: int64"
      ]
     },
     "execution_count": 25,
     "metadata": {},
     "output_type": "execute_result"
    }
   ],
   "source": [
    "# Contagem de medalhas\n",
    "df_brasil_olimpico['Medal'].value_counts()"
   ]
  },
  {
   "cell_type": "code",
   "execution_count": 26,
   "metadata": {
    "ExecuteTime": {
     "end_time": "2021-10-22T22:00:35.420576Z",
     "start_time": "2021-10-22T22:00:35.392591Z"
    }
   },
   "outputs": [
    {
     "data": {
      "text/html": [
       "<div>\n",
       "<style scoped>\n",
       "    .dataframe tbody tr th:only-of-type {\n",
       "        vertical-align: middle;\n",
       "    }\n",
       "\n",
       "    .dataframe tbody tr th {\n",
       "        vertical-align: top;\n",
       "    }\n",
       "\n",
       "    .dataframe thead th {\n",
       "        text-align: right;\n",
       "    }\n",
       "</style>\n",
       "<table border=\"1\" class=\"dataframe\">\n",
       "  <thead>\n",
       "    <tr style=\"text-align: right;\">\n",
       "      <th></th>\n",
       "      <th>region</th>\n",
       "      <th>Gold</th>\n",
       "      <th>Silver</th>\n",
       "      <th>Bronze</th>\n",
       "    </tr>\n",
       "  </thead>\n",
       "  <tbody>\n",
       "    <tr>\n",
       "      <th>0</th>\n",
       "      <td>USA</td>\n",
       "      <td>1131.0</td>\n",
       "      <td>901.0</td>\n",
       "      <td>792.0</td>\n",
       "    </tr>\n",
       "    <tr>\n",
       "      <th>1</th>\n",
       "      <td>Russia</td>\n",
       "      <td>727.0</td>\n",
       "      <td>600.0</td>\n",
       "      <td>589.0</td>\n",
       "    </tr>\n",
       "    <tr>\n",
       "      <th>2</th>\n",
       "      <td>Germany</td>\n",
       "      <td>580.0</td>\n",
       "      <td>592.0</td>\n",
       "      <td>597.0</td>\n",
       "    </tr>\n",
       "  </tbody>\n",
       "</table>\n",
       "</div>"
      ],
      "text/plain": [
       "    region    Gold  Silver  Bronze\n",
       "0      USA  1131.0   901.0   792.0\n",
       "1   Russia   727.0   600.0   589.0\n",
       "2  Germany   580.0   592.0   597.0"
      ]
     },
     "execution_count": 26,
     "metadata": {},
     "output_type": "execute_result"
    }
   ],
   "source": [
    "# TOP 3 GLOBAL\n",
    "df_medalhas.groupby(by='region')['Gold']\n",
    "df_medalhas.head(3)"
   ]
  },
  {
   "cell_type": "code",
   "execution_count": 66,
   "metadata": {
    "ExecuteTime": {
     "end_time": "2021-10-22T22:52:19.187853Z",
     "start_time": "2021-10-22T22:52:19.167861Z"
    },
    "id": "dvwUw8CTHmUH",
    "scrolled": true
   },
   "outputs": [],
   "source": [
    "# NOS TRATAMENTOS ABAIXO OS VALORES 'NaN' FORAM SUBSTITUÍDOS PELA MEDIANA DOS VALORES\n",
    "# TRATANDO A COLUNA 'Weight'\n",
    "mediana_peso = df_brasil_olimpico['Weight'].median()\n",
    "df_brasil_olimpico['Weight'] = df_brasil_olimpico['Weight'].fillna(mediana_peso)\n",
    "\n",
    "# TRATANDO A COLUNA 'Height'\n",
    "mediana_altura = df_brasil_olimpico['Height'].median()\n",
    "df_brasil_olimpico['Height'] = df_brasil_olimpico['Height'].fillna(mediana_altura)\n",
    "\n",
    "# TRATANDO A COLUNA 'Age'\n",
    "mediana_idade = df_brasil_olimpico['Age'].median()\n",
    "df_brasil_olimpico['Age'] = df_brasil_olimpico['Age'].fillna(mediana_idade)"
   ]
  },
  {
   "cell_type": "markdown",
   "metadata": {
    "id": "w68ZQD5EHmUL"
   },
   "source": [
    "#### 1.5 Verão vs Inverno\n",
    "\n",
    "#### Você deve ter notado que temos duas categorias distintas de jogos olímpicos, representados pela estação: temos os jogos de verão e os jogos de inverno, que ocorrem de maneira intercalada.\n",
    "\n",
    "#### Agora que já conhecemos os medalhistas brasileiros, resposta: quantos atletas brasileiros receberam medalha nos jogos de verão e quantos receberam nos jogos de inverno?"
   ]
  },
  {
   "cell_type": "code",
   "execution_count": 28,
   "metadata": {
    "ExecuteTime": {
     "end_time": "2021-10-22T22:00:35.868922Z",
     "start_time": "2021-10-22T22:00:35.841907Z"
    },
    "id": "Q5FNLuE2HmUj"
   },
   "outputs": [
    {
     "name": "stdout",
     "output_type": "stream",
     "text": [
      "Desempenho brasileiro em número de medalhas: Verão {'Bronze': 185, 'Silver': 161, 'Gold': 103} | Inverno {}\n"
     ]
    }
   ],
   "source": [
    "# CRIANDO DATAFRAMES SEPARADOS PARA VERÃO E INVERNO\n",
    "summer = ['Summer']\n",
    "df_brasil_summer = df_brasil_olimpico[df_brasil_olimpico.Season.isin(summer)]\n",
    "\n",
    "winter = ['Winter']\n",
    "df_brasil_winter = df_brasil_olimpico[df_brasil_olimpico.Season.isin(winter)]\n",
    "\n",
    "# CONTAGEM DAS MEDALHAS\n",
    "medalhas_summer = df_brasil_summer['Medal'].value_counts().to_dict()\n",
    "medalhas_winter = df_brasil_winter['Medal'].value_counts().to_dict()\n",
    "print(f'Desempenho brasileiro em número de medalhas: Verão {medalhas_summer} | Inverno {medalhas_winter}')"
   ]
  },
  {
   "cell_type": "markdown",
   "metadata": {
    "heading_collapsed": true,
    "id": "tlCGNrBPHmUp"
   },
   "source": [
    "#### 1.5.1 Os jogos de verão são bem mais populares do que os jogos de inverno no Brasil. Portanto, deste ponto em diante iremos focar apenas nos jogos de verão. Descarte de seu DataFrame os dados dos jogos de inverno.\n",
    "\n"
   ]
  },
  {
   "cell_type": "code",
   "execution_count": 29,
   "metadata": {
    "ExecuteTime": {
     "end_time": "2021-10-22T22:00:36.165683Z",
     "start_time": "2021-10-22T22:00:36.154771Z"
    },
    "hidden": true
   },
   "outputs": [],
   "source": [
    "del df_brasil_winter"
   ]
  },
  {
   "cell_type": "markdown",
   "metadata": {
    "heading_collapsed": true,
    "id": "34e_suplHmU0"
   },
   "source": [
    "#### 1.6 Atletas do Brasil\n",
    "\n",
    "#### Vamos conhecer um pouco melhor nossos atletas. Descubra a altura e peso médio de nossos medalhistas."
   ]
  },
  {
   "cell_type": "code",
   "execution_count": 30,
   "metadata": {
    "ExecuteTime": {
     "end_time": "2021-10-22T22:00:36.727655Z",
     "start_time": "2021-10-22T22:00:36.705668Z"
    },
    "hidden": true
   },
   "outputs": [
    {
     "name": "stdout",
     "output_type": "stream",
     "text": [
      "A média da altura dos atletas medalhistas é 182.04cm e o peso médio é 76.92Kg\n"
     ]
    }
   ],
   "source": [
    "# Filtrando medalhistas\n",
    "medalhas = ['Bronze', 'Prata', 'Ouro']\n",
    "df_summer_medals = df_brasil_summer.loc[df_brasil_summer['Medal'].isin(medalhas)]\n",
    "\n",
    "# Calculando as médias\n",
    "media_altura = df_summer_medals['Height'].mean()\n",
    "media_peso = df_summer_medals['Weight'].mean()\n",
    "\n",
    "# Print com formatação para até duas casas após a vírgula\n",
    "print(f'A média da altura dos atletas medalhistas é {media_altura:.2f}cm e o peso médio é {media_peso:.2f}Kg')"
   ]
  },
  {
   "cell_type": "markdown",
   "metadata": {
    "heading_collapsed": true,
    "id": "PU5b8FngHmU6"
   },
   "source": [
    "#### 1.7 Imaginamos que diferentes esportes podem beneficiar diferentes tipos físicos, certo? Então refaça a análise anterior, mas obtendo os valores médios **por esporte**."
   ]
  },
  {
   "cell_type": "code",
   "execution_count": 31,
   "metadata": {
    "ExecuteTime": {
     "end_time": "2021-10-22T22:00:38.067043Z",
     "start_time": "2021-10-22T22:00:37.512249Z"
    },
    "hidden": true,
    "id": "Wxzqe0z5HmVE"
   },
   "outputs": [
    {
     "name": "stdout",
     "output_type": "stream",
     "text": [
      " A média de altura em \"cm\" por Sport\n",
      "Athletics            181.500000\n",
      "Basketball           185.108696\n",
      "Boxing               169.333333\n",
      "Canoeing             175.000000\n",
      "Equestrianism        180.000000\n",
      "Football             179.264706\n",
      "Gymnastics           169.000000\n",
      "Judo                 178.800000\n",
      "Modern Pentathlon    166.000000\n",
      "Sailing              181.875000\n",
      "Shooting             177.400000\n",
      "Swimming             188.333333\n",
      "Taekwondo            184.000000\n",
      "Volleyball           183.166667\n",
      "Name: Height, dtype: float64\n",
      "________________________________________\n",
      " A média do peso em \"Kg\" por Sport\n",
      "Athletics            74.785714\n",
      "Basketball           78.565217\n",
      "Boxing               62.666667\n",
      "Canoeing             85.000000\n",
      "Equestrianism        76.000000\n",
      "Football             74.294118\n",
      "Gymnastics           65.000000\n",
      "Judo                 89.133333\n",
      "Modern Pentathlon    55.000000\n",
      "Sailing              80.062500\n",
      "Shooting             72.000000\n",
      "Swimming             79.800000\n",
      "Taekwondo            79.500000\n",
      "Volleyball           71.208333\n",
      "Name: Weight, dtype: float64\n",
      "________________________________________\n"
     ]
    },
    {
     "data": {
      "image/png": "[encoded data removed]",
      "text/plain": [
       "<Figure size 432x288 with 1 Axes>"
      ]
     },
     "metadata": {
      "needs_background": "light"
     },
     "output_type": "display_data"
    }
   ],
   "source": [
    "media_altura_esportes = df_summer_medals.groupby(by='Sport')['Height'].mean()\n",
    "print(f' A média de altura em \"cm\" por {media_altura_esportes}')\n",
    "print('_' * 40)\n",
    "#PLOTAGEM GRÁFICA ALTURA (será plotada junto com o peso em gráfico conjunto | Cor: verde)\n",
    "ax = media_altura_esportes.plot(x=\"Sport\", y=\"Height\", kind=\"bar\")\n",
    "media_altura_esportes.plot(x=\"Sport\", y=\"Height\", kind=\"bar\", ax=ax, color=\"Green\");\n",
    "\n",
    "media_peso_esportes = df_summer_medals.groupby(by='Sport')['Weight'].mean()\n",
    "print(f' A média do peso em \"Kg\" por {media_peso_esportes}')\n",
    "print('_' * 40)\n",
    "#PLOTAGEM GRÁFICA PESO (será plotad junto com a altura em gráfico conjunto | Cor: azul)\n",
    "ax = media_peso_esportes.plot(x=\"Sport\", y=\"Weight\", kind=\"bar\", title='Comparação altura/peso por esporte(cm/Kg)')\n",
    "media_peso_esportes.plot(x=\"Sport\", y=\"Weight\", kind=\"bar\", ax=ax, color=\"Blue\");"
   ]
  },
  {
   "cell_type": "markdown",
   "metadata": {
    "heading_collapsed": true,
    "id": "XWg5fAh9HmVG"
   },
   "source": [
    "#### 1.8 Será que os dados acima influenciaram no interesse geral dos atletas pelo esporte ou realmente impactaram no desempenho deles? Podemos tentar descobrir se há algum tipo de correlação.\n",
    "\n",
    "#### - atletas de ginástica são predominantemente mais baixos e mais leves\n",
    "\n",
    "#### - os atletas de judô possuem proporcionalmente à altura, mais peso do que os outros atletas\n",
    "\n",
    "#### - atletas de natação e basquete são mais altos e magros do que a maioria"
   ]
  },
  {
   "cell_type": "markdown",
   "metadata": {
    "heading_collapsed": true,
    "id": "-bhZsU-_HmVK"
   },
   "source": [
    "#### 1.9 Você ainda possui o dataframe original contendo todos os atletas brasileiros, incluindo os sem medalha? Obtenha os valores médios de peso e altura por esporte daquele dataframe e compare-o com os dos medalhistas. Há alguma diferença significativa em algum esporte?"
   ]
  },
  {
   "cell_type": "markdown",
   "metadata": {
    "hidden": true
   },
   "source": [
    "- No atletismo os medalhistas são mais altos e mais fortes do que os não medalhistas\n",
    "\n",
    "- No basquete o critério foi que atletas mais leves e com altura semelhante performam melhor (maior massa magra)\n",
    "\n",
    "- No boxe não há obervação\n",
    "\n",
    "- Na canoagem, atletas mais fortes e de mesma altura vencem mais.\n",
    "\n",
    "- Nas provas de cavalo não há relação clara\n",
    "\n",
    "- No football os atletas que conquistaram medalhas são mais altos e mais fortes que a média total.\n",
    "\n",
    "- Na ginástica, houve um ligeiro aumento no tamanho e no peso dos atletas, o que demonstra que eles estão fisicamente mais fortes.\n",
    "\n",
    "- No judô as medalhas vem geralmente de categorias mais pesadas\n",
    "\n",
    "- No pentathlon os atletas mais vencedores são os menores e mais leves, que geralmente são os mais resistentes fisicamente.\n",
    "\n",
    "- Na vela não há clara influência do peso e altura no desempenho\n",
    "\n",
    "- No tiro não há clara influência do peso e altura no desempenho (baixíssimo volume de dados)\n",
    "\n",
    "- Na natação os atletas maiores e mais fortes vencem mais (maior massa magra)\n",
    "\n",
    "- No taekwondo as medalhas vem das categorias mais pesadas\n",
    "\n",
    "- No volei os atletas mais leves venceram mais medalhas (a altura é semelhante, mas novamente a massa magra faz diferença)"
   ]
  },
  {
   "cell_type": "code",
   "execution_count": 32,
   "metadata": {
    "ExecuteTime": {
     "end_time": "2021-10-22T22:00:39.478022Z",
     "start_time": "2021-10-22T22:00:39.409061Z"
    },
    "hidden": true
   },
   "outputs": [
    {
     "data": {
      "text/html": [
       "<div>\n",
       "<style scoped>\n",
       "    .dataframe tbody tr th:only-of-type {\n",
       "        vertical-align: middle;\n",
       "    }\n",
       "\n",
       "    .dataframe tbody tr th {\n",
       "        vertical-align: top;\n",
       "    }\n",
       "\n",
       "    .dataframe thead th {\n",
       "        text-align: right;\n",
       "    }\n",
       "</style>\n",
       "<table border=\"1\" class=\"dataframe\">\n",
       "  <thead>\n",
       "    <tr style=\"text-align: right;\">\n",
       "      <th></th>\n",
       "      <th>Média Altura Total</th>\n",
       "      <th>Média Altura Medalhistas</th>\n",
       "      <th>Altura T / M</th>\n",
       "      <th>Média Peso Total</th>\n",
       "      <th>Média Peso Medalhistas</th>\n",
       "      <th>Peso T / M</th>\n",
       "    </tr>\n",
       "    <tr>\n",
       "      <th>Sport</th>\n",
       "      <th></th>\n",
       "      <th></th>\n",
       "      <th></th>\n",
       "      <th></th>\n",
       "      <th></th>\n",
       "      <th></th>\n",
       "    </tr>\n",
       "  </thead>\n",
       "  <tbody>\n",
       "    <tr>\n",
       "      <th>Athletics</th>\n",
       "      <td>176.400771</td>\n",
       "      <td>181.500000</td>\n",
       "      <td>0.971905</td>\n",
       "      <td>68.402697</td>\n",
       "      <td>74.785714</td>\n",
       "      <td>0.914649</td>\n",
       "    </tr>\n",
       "    <tr>\n",
       "      <th>Basketball</th>\n",
       "      <td>189.494118</td>\n",
       "      <td>185.108696</td>\n",
       "      <td>1.023691</td>\n",
       "      <td>83.501961</td>\n",
       "      <td>78.565217</td>\n",
       "      <td>1.062836</td>\n",
       "    </tr>\n",
       "    <tr>\n",
       "      <th>Boxing</th>\n",
       "      <td>172.962500</td>\n",
       "      <td>169.333333</td>\n",
       "      <td>1.021432</td>\n",
       "      <td>65.487500</td>\n",
       "      <td>62.666667</td>\n",
       "      <td>1.045013</td>\n",
       "    </tr>\n",
       "    <tr>\n",
       "      <th>Canoeing</th>\n",
       "      <td>177.795918</td>\n",
       "      <td>175.000000</td>\n",
       "      <td>1.015977</td>\n",
       "      <td>77.285714</td>\n",
       "      <td>85.000000</td>\n",
       "      <td>0.909244</td>\n",
       "    </tr>\n",
       "    <tr>\n",
       "      <th>Equestrianism</th>\n",
       "      <td>177.500000</td>\n",
       "      <td>180.000000</td>\n",
       "      <td>0.986111</td>\n",
       "      <td>72.252941</td>\n",
       "      <td>76.000000</td>\n",
       "      <td>0.950697</td>\n",
       "    </tr>\n",
       "    <tr>\n",
       "      <th>Football</th>\n",
       "      <td>173.777778</td>\n",
       "      <td>179.264706</td>\n",
       "      <td>0.969392</td>\n",
       "      <td>68.356209</td>\n",
       "      <td>74.294118</td>\n",
       "      <td>0.920076</td>\n",
       "    </tr>\n",
       "    <tr>\n",
       "      <th>Gymnastics</th>\n",
       "      <td>157.990050</td>\n",
       "      <td>169.000000</td>\n",
       "      <td>0.934852</td>\n",
       "      <td>53.144279</td>\n",
       "      <td>65.000000</td>\n",
       "      <td>0.817604</td>\n",
       "    </tr>\n",
       "    <tr>\n",
       "      <th>Judo</th>\n",
       "      <td>174.366667</td>\n",
       "      <td>178.800000</td>\n",
       "      <td>0.975205</td>\n",
       "      <td>79.391667</td>\n",
       "      <td>89.133333</td>\n",
       "      <td>0.890707</td>\n",
       "    </tr>\n",
       "    <tr>\n",
       "      <th>Modern Pentathlon</th>\n",
       "      <td>173.451613</td>\n",
       "      <td>166.000000</td>\n",
       "      <td>1.044889</td>\n",
       "      <td>69.806452</td>\n",
       "      <td>55.000000</td>\n",
       "      <td>1.269208</td>\n",
       "    </tr>\n",
       "    <tr>\n",
       "      <th>Sailing</th>\n",
       "      <td>179.527950</td>\n",
       "      <td>181.875000</td>\n",
       "      <td>0.987095</td>\n",
       "      <td>76.596273</td>\n",
       "      <td>80.062500</td>\n",
       "      <td>0.956706</td>\n",
       "    </tr>\n",
       "    <tr>\n",
       "      <th>Shooting</th>\n",
       "      <td>175.237705</td>\n",
       "      <td>177.400000</td>\n",
       "      <td>0.987811</td>\n",
       "      <td>74.418033</td>\n",
       "      <td>72.000000</td>\n",
       "      <td>1.033584</td>\n",
       "    </tr>\n",
       "    <tr>\n",
       "      <th>Swimming</th>\n",
       "      <td>180.662722</td>\n",
       "      <td>188.333333</td>\n",
       "      <td>0.959271</td>\n",
       "      <td>74.061144</td>\n",
       "      <td>79.800000</td>\n",
       "      <td>0.928085</td>\n",
       "    </tr>\n",
       "    <tr>\n",
       "      <th>Taekwondo</th>\n",
       "      <td>173.769231</td>\n",
       "      <td>184.000000</td>\n",
       "      <td>0.944398</td>\n",
       "      <td>63.615385</td>\n",
       "      <td>79.500000</td>\n",
       "      <td>0.800194</td>\n",
       "    </tr>\n",
       "    <tr>\n",
       "      <th>Volleyball</th>\n",
       "      <td>187.659649</td>\n",
       "      <td>183.166667</td>\n",
       "      <td>1.024529</td>\n",
       "      <td>78.775439</td>\n",
       "      <td>71.208333</td>\n",
       "      <td>1.106267</td>\n",
       "    </tr>\n",
       "  </tbody>\n",
       "</table>\n",
       "</div>"
      ],
      "text/plain": [
       "                   Média Altura Total  Média Altura Medalhistas  Altura T / M  \\\n",
       "Sport                                                                           \n",
       "Athletics                  176.400771                181.500000      0.971905   \n",
       "Basketball                 189.494118                185.108696      1.023691   \n",
       "Boxing                     172.962500                169.333333      1.021432   \n",
       "Canoeing                   177.795918                175.000000      1.015977   \n",
       "Equestrianism              177.500000                180.000000      0.986111   \n",
       "Football                   173.777778                179.264706      0.969392   \n",
       "Gymnastics                 157.990050                169.000000      0.934852   \n",
       "Judo                       174.366667                178.800000      0.975205   \n",
       "Modern Pentathlon          173.451613                166.000000      1.044889   \n",
       "Sailing                    179.527950                181.875000      0.987095   \n",
       "Shooting                   175.237705                177.400000      0.987811   \n",
       "Swimming                   180.662722                188.333333      0.959271   \n",
       "Taekwondo                  173.769231                184.000000      0.944398   \n",
       "Volleyball                 187.659649                183.166667      1.024529   \n",
       "\n",
       "                   Média Peso Total  Média Peso Medalhistas  Peso T / M  \n",
       "Sport                                                                    \n",
       "Athletics                 68.402697               74.785714    0.914649  \n",
       "Basketball                83.501961               78.565217    1.062836  \n",
       "Boxing                    65.487500               62.666667    1.045013  \n",
       "Canoeing                  77.285714               85.000000    0.909244  \n",
       "Equestrianism             72.252941               76.000000    0.950697  \n",
       "Football                  68.356209               74.294118    0.920076  \n",
       "Gymnastics                53.144279               65.000000    0.817604  \n",
       "Judo                      79.391667               89.133333    0.890707  \n",
       "Modern Pentathlon         69.806452               55.000000    1.269208  \n",
       "Sailing                   76.596273               80.062500    0.956706  \n",
       "Shooting                  74.418033               72.000000    1.033584  \n",
       "Swimming                  74.061144               79.800000    0.928085  \n",
       "Taekwondo                 63.615385               79.500000    0.800194  \n",
       "Volleyball                78.775439               71.208333    1.106267  "
      ]
     },
     "execution_count": 32,
     "metadata": {},
     "output_type": "execute_result"
    }
   ],
   "source": [
    "# DATAFRAME COM TODOS ATLETAS\n",
    "df_brasil_olimpico.head(1)\n",
    "\n",
    "# PARÂMETROS 'groupby': 'by=Sport'(coluna padrão de agrupamento) e '['Height'].mean()'(média da altura)\n",
    "media_altura_total = df_brasil_olimpico.groupby(by='Sport')['Height'].mean()\n",
    "\n",
    "# PARÂMETROS 'groupby': 'by=Sport'(coluna padrão de agrupamento) e '['Weight'].mean()'(média do peso)\n",
    "media_peso_total = df_brasil_olimpico.groupby(by='Sport')['Weight'].mean()\n",
    "\n",
    "\"\"\"RELAÇÃO PESO E ALTURA --> MEDALHISTAS X NÃO MEDALHISTAS\n",
    "VALORES IGUAIS OU MAIORES DO QUE 1 INDICAM QUE ALTURA E PESO NÃO INFLUENCIAM EM GERAL. EM CONTRAPARTIDA,\n",
    "QUANTO MENORES DO QUE 1 FOREM OS VALORES, MAIOR O IMPACTO DE ALTURA E PESO NOS RESULTADOS.\n",
    "\"\"\"\n",
    "\n",
    "# CONSTRUINDO DF COM ALTURA/PESO MÉDIOS EM RELAÇÃO AO TOTAL DE ATLETAS BRASILEIROS MEDALHISTAS\n",
    "medalhistas = pd.merge(media_altura_esportes, media_peso_esportes, how= 'right', on = 'Sport')\n",
    "\n",
    "# CONSTRUINDO DF COM ALTURA/PESO MÉDIOS EM RELAÇÃO AO TOTAL DE ATLETAS BRASILEIROS\n",
    "total = pd.merge(media_altura_total, media_peso_total, how= 'right', on = 'Sport')\n",
    "\n",
    "# UNINDO DF COM TODOS ATLETAS E COM MEDALHISTAS\n",
    "# PARÂMETROS UTILIZADOS: \"how=outer\" (inclui os dois df) e \"on=Sport\"(usa a coluna Sport como index)\n",
    "concatenado = pd.merge(total, medalhistas, how='right', on='Sport')\n",
    "\n",
    "# REMOVENDO 'NaN'\n",
    "final = concatenado.dropna()\n",
    "\n",
    "# RENOMEANDO COLUNAS PARA NOMES AMIGÁVEIS\n",
    "final.rename(columns={'Height_x': 'Média Altura Total', 'Weight_x': 'Média Peso Total','Height_y': 'Média Altura Medalhistas','Weight_y': 'Média Peso Medalhistas'}, inplace=True)\n",
    "\n",
    "# CRIANDO COLUNAS DE RELAÇÃO\n",
    "final['Altura T / M'] = final['Média Altura Total'] / final['Média Altura Medalhistas']\n",
    "final['Peso T / M'] = final['Média Peso Total'] / final['Média Peso Medalhistas']\n",
    "\n",
    "# REORDENANDO COLUNAS\n",
    "final = final[['Média Altura Total','Média Altura Medalhistas','Altura T / M','Média Peso Total','Média Peso Medalhistas','Peso T / M']]\n",
    "final"
   ]
  },
  {
   "cell_type": "markdown",
   "metadata": {
    "heading_collapsed": true,
    "id": "Y_yCKHmfHmVP"
   },
   "source": [
    "### 2. Existe um detalhe importante passando batido até agora em nossa análise: as categorias esportivas costumam ser divididas por gênero justamente por conta de diferenças físicas entre homens e mulheres que poderiam influenciar no desempenho. Compare a altura e peso médios de atletas brasileiros por esporte segmentado por sexo."
   ]
  },
  {
   "cell_type": "code",
   "execution_count": 33,
   "metadata": {
    "ExecuteTime": {
     "end_time": "2021-10-22T22:00:40.507394Z",
     "start_time": "2021-10-22T22:00:40.476415Z"
    },
    "hidden": true,
    "id": "-OOeGXRBHmVR",
    "scrolled": true
   },
   "outputs": [
    {
     "data": {
      "text/html": [
       "<div>\n",
       "<style scoped>\n",
       "    .dataframe tbody tr th:only-of-type {\n",
       "        vertical-align: middle;\n",
       "    }\n",
       "\n",
       "    .dataframe tbody tr th {\n",
       "        vertical-align: top;\n",
       "    }\n",
       "\n",
       "    .dataframe thead th {\n",
       "        text-align: right;\n",
       "    }\n",
       "</style>\n",
       "<table border=\"1\" class=\"dataframe\">\n",
       "  <thead>\n",
       "    <tr style=\"text-align: right;\">\n",
       "      <th></th>\n",
       "      <th>Sport</th>\n",
       "      <th>Sex</th>\n",
       "      <th>Height</th>\n",
       "    </tr>\n",
       "  </thead>\n",
       "  <tbody>\n",
       "    <tr>\n",
       "      <th>0</th>\n",
       "      <td>Archery</td>\n",
       "      <td>F</td>\n",
       "      <td>162.857143</td>\n",
       "    </tr>\n",
       "    <tr>\n",
       "      <th>1</th>\n",
       "      <td>Archery</td>\n",
       "      <td>M</td>\n",
       "      <td>177.857143</td>\n",
       "    </tr>\n",
       "    <tr>\n",
       "      <th>2</th>\n",
       "      <td>Art Competitions</td>\n",
       "      <td>M</td>\n",
       "      <td>178.000000</td>\n",
       "    </tr>\n",
       "    <tr>\n",
       "      <th>3</th>\n",
       "      <td>Athletics</td>\n",
       "      <td>F</td>\n",
       "      <td>168.435897</td>\n",
       "    </tr>\n",
       "    <tr>\n",
       "      <th>4</th>\n",
       "      <td>Athletics</td>\n",
       "      <td>M</td>\n",
       "      <td>179.823691</td>\n",
       "    </tr>\n",
       "    <tr>\n",
       "      <th>...</th>\n",
       "      <td>...</td>\n",
       "      <td>...</td>\n",
       "      <td>...</td>\n",
       "    </tr>\n",
       "    <tr>\n",
       "      <th>58</th>\n",
       "      <td>Water Polo</td>\n",
       "      <td>M</td>\n",
       "      <td>180.433735</td>\n",
       "    </tr>\n",
       "    <tr>\n",
       "      <th>59</th>\n",
       "      <td>Weightlifting</td>\n",
       "      <td>F</td>\n",
       "      <td>161.500000</td>\n",
       "    </tr>\n",
       "    <tr>\n",
       "      <th>60</th>\n",
       "      <td>Weightlifting</td>\n",
       "      <td>M</td>\n",
       "      <td>172.666667</td>\n",
       "    </tr>\n",
       "    <tr>\n",
       "      <th>61</th>\n",
       "      <td>Wrestling</td>\n",
       "      <td>F</td>\n",
       "      <td>169.333333</td>\n",
       "    </tr>\n",
       "    <tr>\n",
       "      <th>62</th>\n",
       "      <td>Wrestling</td>\n",
       "      <td>M</td>\n",
       "      <td>182.142857</td>\n",
       "    </tr>\n",
       "  </tbody>\n",
       "</table>\n",
       "<p>63 rows × 3 columns</p>\n",
       "</div>"
      ],
      "text/plain": [
       "               Sport Sex      Height\n",
       "0            Archery   F  162.857143\n",
       "1            Archery   M  177.857143\n",
       "2   Art Competitions   M  178.000000\n",
       "3          Athletics   F  168.435897\n",
       "4          Athletics   M  179.823691\n",
       "..               ...  ..         ...\n",
       "58        Water Polo   M  180.433735\n",
       "59     Weightlifting   F  161.500000\n",
       "60     Weightlifting   M  172.666667\n",
       "61         Wrestling   F  169.333333\n",
       "62         Wrestling   M  182.142857\n",
       "\n",
       "[63 rows x 3 columns]"
      ]
     },
     "execution_count": 33,
     "metadata": {},
     "output_type": "execute_result"
    }
   ],
   "source": [
    "media_altura = df_brasil_summer.groupby(by=['Sport','Sex'])['Height'].mean()\n",
    "media_altura.reset_index()"
   ]
  },
  {
   "cell_type": "code",
   "execution_count": 34,
   "metadata": {
    "ExecuteTime": {
     "end_time": "2021-10-22T22:00:41.048090Z",
     "start_time": "2021-10-22T22:00:41.019104Z"
    }
   },
   "outputs": [
    {
     "data": {
      "text/html": [
       "<div>\n",
       "<style scoped>\n",
       "    .dataframe tbody tr th:only-of-type {\n",
       "        vertical-align: middle;\n",
       "    }\n",
       "\n",
       "    .dataframe tbody tr th {\n",
       "        vertical-align: top;\n",
       "    }\n",
       "\n",
       "    .dataframe thead th {\n",
       "        text-align: right;\n",
       "    }\n",
       "</style>\n",
       "<table border=\"1\" class=\"dataframe\">\n",
       "  <thead>\n",
       "    <tr style=\"text-align: right;\">\n",
       "      <th></th>\n",
       "      <th>Sport</th>\n",
       "      <th>Sex</th>\n",
       "      <th>Weight</th>\n",
       "    </tr>\n",
       "  </thead>\n",
       "  <tbody>\n",
       "    <tr>\n",
       "      <th>0</th>\n",
       "      <td>Archery</td>\n",
       "      <td>F</td>\n",
       "      <td>59.714286</td>\n",
       "    </tr>\n",
       "    <tr>\n",
       "      <th>1</th>\n",
       "      <td>Archery</td>\n",
       "      <td>M</td>\n",
       "      <td>77.714286</td>\n",
       "    </tr>\n",
       "    <tr>\n",
       "      <th>2</th>\n",
       "      <td>Art Competitions</td>\n",
       "      <td>M</td>\n",
       "      <td>72.000000</td>\n",
       "    </tr>\n",
       "    <tr>\n",
       "      <th>3</th>\n",
       "      <td>Athletics</td>\n",
       "      <td>F</td>\n",
       "      <td>60.903846</td>\n",
       "    </tr>\n",
       "    <tr>\n",
       "      <th>4</th>\n",
       "      <td>Athletics</td>\n",
       "      <td>M</td>\n",
       "      <td>71.625344</td>\n",
       "    </tr>\n",
       "    <tr>\n",
       "      <th>...</th>\n",
       "      <td>...</td>\n",
       "      <td>...</td>\n",
       "      <td>...</td>\n",
       "    </tr>\n",
       "    <tr>\n",
       "      <th>58</th>\n",
       "      <td>Water Polo</td>\n",
       "      <td>M</td>\n",
       "      <td>78.614458</td>\n",
       "    </tr>\n",
       "    <tr>\n",
       "      <th>59</th>\n",
       "      <td>Weightlifting</td>\n",
       "      <td>F</td>\n",
       "      <td>62.750000</td>\n",
       "    </tr>\n",
       "    <tr>\n",
       "      <th>60</th>\n",
       "      <td>Weightlifting</td>\n",
       "      <td>M</td>\n",
       "      <td>90.000000</td>\n",
       "    </tr>\n",
       "    <tr>\n",
       "      <th>61</th>\n",
       "      <td>Wrestling</td>\n",
       "      <td>F</td>\n",
       "      <td>66.666667</td>\n",
       "    </tr>\n",
       "    <tr>\n",
       "      <th>62</th>\n",
       "      <td>Wrestling</td>\n",
       "      <td>M</td>\n",
       "      <td>97.285714</td>\n",
       "    </tr>\n",
       "  </tbody>\n",
       "</table>\n",
       "<p>63 rows × 3 columns</p>\n",
       "</div>"
      ],
      "text/plain": [
       "               Sport Sex     Weight\n",
       "0            Archery   F  59.714286\n",
       "1            Archery   M  77.714286\n",
       "2   Art Competitions   M  72.000000\n",
       "3          Athletics   F  60.903846\n",
       "4          Athletics   M  71.625344\n",
       "..               ...  ..        ...\n",
       "58        Water Polo   M  78.614458\n",
       "59     Weightlifting   F  62.750000\n",
       "60     Weightlifting   M  90.000000\n",
       "61         Wrestling   F  66.666667\n",
       "62         Wrestling   M  97.285714\n",
       "\n",
       "[63 rows x 3 columns]"
      ]
     },
     "execution_count": 34,
     "metadata": {},
     "output_type": "execute_result"
    }
   ],
   "source": [
    "media_peso = df_brasil_summer.groupby(by=['Sport','Sex'])['Weight'].mean()\n",
    "media_peso.reset_index()"
   ]
  },
  {
   "cell_type": "markdown",
   "metadata": {
    "heading_collapsed": true,
    "hidden": true,
    "id": "e3Bmth1ZHmVS"
   },
   "source": [
    "#### 2.1 Qual foi (ou quais foram) o maior medalhista brasileiro em quantidade total de medalhas?"
   ]
  },
  {
   "cell_type": "code",
   "execution_count": 35,
   "metadata": {
    "ExecuteTime": {
     "end_time": "2021-10-22T22:00:42.106369Z",
     "start_time": "2021-10-22T22:00:42.056397Z"
    },
    "hidden": true
   },
   "outputs": [
    {
     "data": {
      "text/html": [
       "<div>\n",
       "<style scoped>\n",
       "    .dataframe tbody tr th:only-of-type {\n",
       "        vertical-align: middle;\n",
       "    }\n",
       "\n",
       "    .dataframe tbody tr th {\n",
       "        vertical-align: top;\n",
       "    }\n",
       "\n",
       "    .dataframe thead th {\n",
       "        text-align: right;\n",
       "    }\n",
       "</style>\n",
       "<table border=\"1\" class=\"dataframe\">\n",
       "  <thead>\n",
       "    <tr style=\"text-align: right;\">\n",
       "      <th></th>\n",
       "      <th>Name</th>\n",
       "      <th>Medals</th>\n",
       "      <th>Sport</th>\n",
       "    </tr>\n",
       "  </thead>\n",
       "  <tbody>\n",
       "    <tr>\n",
       "      <th>0</th>\n",
       "      <td>Torben Schmidt Grael</td>\n",
       "      <td>5</td>\n",
       "      <td>Sailing</td>\n",
       "    </tr>\n",
       "    <tr>\n",
       "      <th>6</th>\n",
       "      <td>Robert Scheidt</td>\n",
       "      <td>5</td>\n",
       "      <td>Sailing</td>\n",
       "    </tr>\n",
       "    <tr>\n",
       "      <th>12</th>\n",
       "      <td>Gustavo Frana Borges</td>\n",
       "      <td>4</td>\n",
       "      <td>Swimming</td>\n",
       "    </tr>\n",
       "    <tr>\n",
       "      <th>25</th>\n",
       "      <td>Srgio \"Escadinha\" Dutra dos Santos</td>\n",
       "      <td>4</td>\n",
       "      <td>Volleyball</td>\n",
       "    </tr>\n",
       "    <tr>\n",
       "      <th>29</th>\n",
       "      <td>Csar Augusto Cielo Filho</td>\n",
       "      <td>3</td>\n",
       "      <td>Swimming</td>\n",
       "    </tr>\n",
       "    <tr>\n",
       "      <th>34</th>\n",
       "      <td>Gilberto Amauri \"Giba\" de Godoy Filho</td>\n",
       "      <td>3</td>\n",
       "      <td>Volleyball</td>\n",
       "    </tr>\n",
       "    <tr>\n",
       "      <th>38</th>\n",
       "      <td>Dante Guimares Santos do Amaral</td>\n",
       "      <td>3</td>\n",
       "      <td>Volleyball</td>\n",
       "    </tr>\n",
       "    <tr>\n",
       "      <th>42</th>\n",
       "      <td>Rodrigo \"Rodrigo\" Santana</td>\n",
       "      <td>3</td>\n",
       "      <td>Volleyball</td>\n",
       "    </tr>\n",
       "    <tr>\n",
       "      <th>45</th>\n",
       "      <td>Isaquias Queiroz dos Santos</td>\n",
       "      <td>3</td>\n",
       "      <td>Canoeing</td>\n",
       "    </tr>\n",
       "    <tr>\n",
       "      <th>48</th>\n",
       "      <td>Bruno \"Bruninho\" Mossa de Rezende</td>\n",
       "      <td>3</td>\n",
       "      <td>Volleyball</td>\n",
       "    </tr>\n",
       "    <tr>\n",
       "      <th>51</th>\n",
       "      <td>Marcelo Bastos Ferreira</td>\n",
       "      <td>3</td>\n",
       "      <td>Sailing</td>\n",
       "    </tr>\n",
       "    <tr>\n",
       "      <th>55</th>\n",
       "      <td>Hlia \"Fofo\" Rogrio de Souza Pinto</td>\n",
       "      <td>3</td>\n",
       "      <td>Volleyball</td>\n",
       "    </tr>\n",
       "    <tr>\n",
       "      <th>60</th>\n",
       "      <td>Rodrigo de Paula Pessoa</td>\n",
       "      <td>3</td>\n",
       "      <td>Equestrianism</td>\n",
       "    </tr>\n",
       "    <tr>\n",
       "      <th>72</th>\n",
       "      <td>Thiago Emiliano da Silva</td>\n",
       "      <td>2</td>\n",
       "      <td>Football</td>\n",
       "    </tr>\n",
       "    <tr>\n",
       "      <th>74</th>\n",
       "      <td>Rafael Carlos da Silva</td>\n",
       "      <td>2</td>\n",
       "      <td>Judo</td>\n",
       "    </tr>\n",
       "  </tbody>\n",
       "</table>\n",
       "</div>"
      ],
      "text/plain": [
       "                                     Name  Medals          Sport\n",
       "0                    Torben Schmidt Grael       5        Sailing\n",
       "6                          Robert Scheidt       5        Sailing\n",
       "12                   Gustavo Frana Borges       4       Swimming\n",
       "25     Srgio \"Escadinha\" Dutra dos Santos       4     Volleyball\n",
       "29               Csar Augusto Cielo Filho       3       Swimming\n",
       "34  Gilberto Amauri \"Giba\" de Godoy Filho       3     Volleyball\n",
       "38        Dante Guimares Santos do Amaral       3     Volleyball\n",
       "42              Rodrigo \"Rodrigo\" Santana       3     Volleyball\n",
       "45            Isaquias Queiroz dos Santos       3       Canoeing\n",
       "48      Bruno \"Bruninho\" Mossa de Rezende       3     Volleyball\n",
       "51                Marcelo Bastos Ferreira       3        Sailing\n",
       "55      Hlia \"Fofo\" Rogrio de Souza Pinto       3     Volleyball\n",
       "60                Rodrigo de Paula Pessoa       3  Equestrianism\n",
       "72               Thiago Emiliano da Silva       2       Football\n",
       "74                 Rafael Carlos da Silva       2           Judo"
      ]
     },
     "execution_count": 35,
     "metadata": {},
     "output_type": "execute_result"
    }
   ],
   "source": [
    "# MONTANDO UMA FUNÇÃO PARA LISTAR OS MELHORES DE QUALQUER PAÍS A SER ANALISADO\n",
    "# CRÉDITO DA FÓRMULA DADO AO LIVRO 'DATA SCIENCE DO ZERO'\n",
    "\n",
    "def maiores_medalhistas(df,country):\n",
    "    \"\"\"\n",
    "    Em um dataframe temporário, tratar dados NaN na coluna medalhas.\n",
    "    No mesmo dataframe definir o país a ser filtrado nos dados.\n",
    "    Na variável 'x' listar os 15 maiores medalhistas alinhando as colunas com um merge e \n",
    "    removendo eventuais dados duplicados.\n",
    "    Renomear as colunas subsituindo os dados com 'inplace'. Retornar x.\n",
    "    \"\"\"\n",
    "    temp_df = df.dropna(subset=['Medal'])\n",
    "    temp_df = temp_df[temp_df['region'] == country]\n",
    "    x = temp_df['Name'].value_counts().reset_index().head(15).merge(df,left_on='index',right_on='Name',how='left')[['index','Name_x','Sport']].drop_duplicates('index')\n",
    "    x.rename(columns={'index':'Name','Name_x':'Medals'},inplace=True)\n",
    "    return x\n",
    "\n",
    "top_atletas_br = maiores_medalhistas(df_brasil_olimpico,'Brazil')\n",
    "top_atletas_br"
   ]
  },
  {
   "cell_type": "markdown",
   "metadata": {
    "heading_collapsed": true,
    "hidden": true,
    "id": "YgEPmU7fHmVU"
   },
   "source": [
    "#### 2.2 E o(s) maior(es) em quantidade de medalhas de ouro?"
   ]
  },
  {
   "cell_type": "code",
   "execution_count": 36,
   "metadata": {
    "ExecuteTime": {
     "end_time": "2021-10-22T22:00:43.130023Z",
     "start_time": "2021-10-22T22:00:43.106018Z"
    },
    "hidden": true,
    "id": "98p1psRWHmVX",
    "scrolled": true
   },
   "outputs": [
    {
     "data": {
      "text/plain": [
       "Marcelo Bastos Ferreira                               2\n",
       "Adhemar Ferreira da Silva                             2\n",
       "Paula Renata Marques Pequeno                          2\n",
       "Jaqueline Maria \"Jaque\" Pereira de Carvalho Endres    2\n",
       "Torben Schmidt Grael                                  2\n",
       "Giovane Farinazzo Gvio                                2\n",
       "Robert Scheidt                                        2\n",
       "Sheilla Tavares de Castro Blassioli                   2\n",
       "Name: Name, dtype: int64"
      ]
     },
     "execution_count": 36,
     "metadata": {},
     "output_type": "execute_result"
    }
   ],
   "source": [
    "medalhistas_ouro = df_brasil_olimpico[df_brasil_olimpico['Medal']=='Gold']['Name'].value_counts()\n",
    "medalhistas_ouro.head(8)"
   ]
  },
  {
   "cell_type": "markdown",
   "metadata": {
    "hidden": true,
    "id": "CG3peEUcHmVY"
   },
   "source": [
    "#### 2.3 Qual esporte rendeu mais medalhas de ouro para o Brasil? E qual rendeu mais medalhas no total?\n",
    "\n",
    "##### **DICA:** tome muito cuidado nessa análise: cada **evento esportivo** rende 1 medalha. Por exemplo, quando a equipe de futebol vence, isso é considerado 1 medalha, mesmo tendo cerca de 20 atletas medalhistas na equipe. "
   ]
  },
  {
   "cell_type": "markdown",
   "metadata": {
    "heading_collapsed": true,
    "hidden": true
   },
   "source": [
    "#### 2.3.1 Mais medalhas de ouro"
   ]
  },
  {
   "cell_type": "code",
   "execution_count": 37,
   "metadata": {
    "ExecuteTime": {
     "end_time": "2021-10-22T22:00:44.659063Z",
     "start_time": "2021-10-22T22:00:44.630077Z"
    },
    "hidden": true
   },
   "outputs": [
    {
     "data": {
      "text/html": [
       "<div>\n",
       "<style scoped>\n",
       "    .dataframe tbody tr th:only-of-type {\n",
       "        vertical-align: middle;\n",
       "    }\n",
       "\n",
       "    .dataframe tbody tr th {\n",
       "        vertical-align: top;\n",
       "    }\n",
       "\n",
       "    .dataframe thead th {\n",
       "        text-align: right;\n",
       "    }\n",
       "</style>\n",
       "<table border=\"1\" class=\"dataframe\">\n",
       "  <thead>\n",
       "    <tr style=\"text-align: right;\">\n",
       "      <th></th>\n",
       "      <th>Sport</th>\n",
       "      <th>Gold</th>\n",
       "    </tr>\n",
       "  </thead>\n",
       "  <tbody>\n",
       "    <tr>\n",
       "      <th>29</th>\n",
       "      <td>Sailing</td>\n",
       "      <td>7</td>\n",
       "    </tr>\n",
       "    <tr>\n",
       "      <th>3</th>\n",
       "      <td>Athletics</td>\n",
       "      <td>5</td>\n",
       "    </tr>\n",
       "    <tr>\n",
       "      <th>39</th>\n",
       "      <td>Volleyball</td>\n",
       "      <td>5</td>\n",
       "    </tr>\n",
       "  </tbody>\n",
       "</table>\n",
       "</div>"
      ],
      "text/plain": [
       "         Sport  Gold\n",
       "29     Sailing     7\n",
       "3    Athletics     5\n",
       "39  Volleyball     5"
      ]
     },
     "execution_count": 37,
     "metadata": {},
     "output_type": "execute_result"
    }
   ],
   "source": [
    "# ESPORTES QUE MAIS RENDERAM MEDALHAS AO BRASIL\n",
    "medalhas_brasil_ouro_esporte = df_dados_tratados[df_dados_tratados['NOC'] == 'BRA'].groupby('Sport').sum()['Gold'].reset_index()\n",
    "medalhas_brasil_ouro_esporte.sort_values(by=['Gold'], ascending=False).head(3)"
   ]
  },
  {
   "cell_type": "markdown",
   "metadata": {
    "heading_collapsed": true,
    "hidden": true
   },
   "source": [
    "#### 2.3.2 Mais medalhas no total"
   ]
  },
  {
   "cell_type": "code",
   "execution_count": 38,
   "metadata": {
    "ExecuteTime": {
     "end_time": "2021-10-22T22:00:45.873050Z",
     "start_time": "2021-10-22T22:00:45.831054Z"
    },
    "hidden": true
   },
   "outputs": [
    {
     "data": {
      "text/html": [
       "<div>\n",
       "<style scoped>\n",
       "    .dataframe tbody tr th:only-of-type {\n",
       "        vertical-align: middle;\n",
       "    }\n",
       "\n",
       "    .dataframe tbody tr th {\n",
       "        vertical-align: top;\n",
       "    }\n",
       "\n",
       "    .dataframe thead th {\n",
       "        text-align: right;\n",
       "    }\n",
       "</style>\n",
       "<table border=\"1\" class=\"dataframe\">\n",
       "  <thead>\n",
       "    <tr style=\"text-align: right;\">\n",
       "      <th></th>\n",
       "      <th>Sport</th>\n",
       "      <th>Medal</th>\n",
       "    </tr>\n",
       "  </thead>\n",
       "  <tbody>\n",
       "    <tr>\n",
       "      <th>23</th>\n",
       "      <td>Judo</td>\n",
       "      <td>22</td>\n",
       "    </tr>\n",
       "    <tr>\n",
       "      <th>29</th>\n",
       "      <td>Sailing</td>\n",
       "      <td>18</td>\n",
       "    </tr>\n",
       "    <tr>\n",
       "      <th>3</th>\n",
       "      <td>Athletics</td>\n",
       "      <td>16</td>\n",
       "    </tr>\n",
       "  </tbody>\n",
       "</table>\n",
       "</div>"
      ],
      "text/plain": [
       "        Sport  Medal\n",
       "23       Judo     22\n",
       "29    Sailing     18\n",
       "3   Athletics     16"
      ]
     },
     "execution_count": 38,
     "metadata": {},
     "output_type": "execute_result"
    }
   ],
   "source": [
    "# O DATAFRAME 'df_dados_tratados' JÁ RESOLVEU ESSE PROBLEMA DOS ESPORTES COLETIVOS\n",
    "medalhas_brasil_total_esporte = df_dados_tratados[df_dados_tratados['region'] == 'Brazil'].groupby('Sport').count()['Medal'].reset_index()\n",
    "medalhas_brasil_total_esporte.sort_values(by=['Medal','Sport'], ascending=False).head(3)"
   ]
  },
  {
   "cell_type": "markdown",
   "metadata": {
    "hidden": true,
    "id": "cn1F0M2kHmVZ"
   },
   "source": [
    "#### 2.4 Cada \"categoria\" dentro de um esporte é considerado um evento. Por exemplo, dentro de \"atletismo\", temos uma competição de 100m masculina, uma de 100m feminino, um revezamento 4 x 100m masculino, um revezamento 4 x 100m feminino, uma competição de 400m masculino, uma de 400m feminino, uma maratona masculina, uma maratona feminina, e assim sucessivamente.\n",
    "\n",
    "#### Sabendo disso, qual evento esportivo mais rendeu medalhas de ouro para o Brasil? E total de medalhas?"
   ]
  },
  {
   "cell_type": "markdown",
   "metadata": {
    "heading_collapsed": true,
    "hidden": true
   },
   "source": [
    "#### 2.4.1 Evento que mais rendeu medalhas de ouro"
   ]
  },
  {
   "cell_type": "code",
   "execution_count": 39,
   "metadata": {
    "ExecuteTime": {
     "end_time": "2021-10-22T22:00:47.555700Z",
     "start_time": "2021-10-22T22:00:47.504726Z"
    },
    "hidden": true,
    "id": "rMbimqSDHmVa"
   },
   "outputs": [
    {
     "data": {
      "text/html": [
       "<div>\n",
       "<style scoped>\n",
       "    .dataframe tbody tr th:only-of-type {\n",
       "        vertical-align: middle;\n",
       "    }\n",
       "\n",
       "    .dataframe tbody tr th {\n",
       "        vertical-align: top;\n",
       "    }\n",
       "\n",
       "    .dataframe thead th {\n",
       "        text-align: right;\n",
       "    }\n",
       "</style>\n",
       "<table border=\"1\" class=\"dataframe\">\n",
       "  <thead>\n",
       "    <tr style=\"text-align: right;\">\n",
       "      <th></th>\n",
       "      <th>Event</th>\n",
       "      <th>Gold</th>\n",
       "    </tr>\n",
       "  </thead>\n",
       "  <tbody>\n",
       "    <tr>\n",
       "      <th>308</th>\n",
       "      <td>Volleyball Men's Volleyball</td>\n",
       "      <td>3</td>\n",
       "    </tr>\n",
       "    <tr>\n",
       "      <th>309</th>\n",
       "      <td>Volleyball Women's Volleyball</td>\n",
       "      <td>2</td>\n",
       "    </tr>\n",
       "    <tr>\n",
       "      <th>215</th>\n",
       "      <td>Sailing Mixed One Person Dinghy</td>\n",
       "      <td>2</td>\n",
       "    </tr>\n",
       "  </tbody>\n",
       "</table>\n",
       "</div>"
      ],
      "text/plain": [
       "                               Event  Gold\n",
       "308      Volleyball Men's Volleyball     3\n",
       "309    Volleyball Women's Volleyball     2\n",
       "215  Sailing Mixed One Person Dinghy     2"
      ]
     },
     "execution_count": 39,
     "metadata": {},
     "output_type": "execute_result"
    }
   ],
   "source": [
    "medalhas_brasil_ouro_evento = df_dados_tratados[df_dados_tratados['region'] == 'Brazil'].groupby('Event').sum()['Gold'].reset_index()\n",
    "medalhas_brasil_ouro_evento.sort_values(by=['Gold','Event'], ascending=False).head(3)"
   ]
  },
  {
   "cell_type": "markdown",
   "metadata": {
    "heading_collapsed": true,
    "hidden": true
   },
   "source": [
    "#### 2.4.2 Evento que mais rendeu medalhas no total"
   ]
  },
  {
   "cell_type": "code",
   "execution_count": 40,
   "metadata": {
    "ExecuteTime": {
     "end_time": "2021-10-22T22:00:48.652377Z",
     "start_time": "2021-10-22T22:00:48.610422Z"
    },
    "hidden": true
   },
   "outputs": [
    {
     "data": {
      "text/html": [
       "<div>\n",
       "<style scoped>\n",
       "    .dataframe tbody tr th:only-of-type {\n",
       "        vertical-align: middle;\n",
       "    }\n",
       "\n",
       "    .dataframe tbody tr th {\n",
       "        vertical-align: top;\n",
       "    }\n",
       "\n",
       "    .dataframe thead th {\n",
       "        text-align: right;\n",
       "    }\n",
       "</style>\n",
       "<table border=\"1\" class=\"dataframe\">\n",
       "  <thead>\n",
       "    <tr style=\"text-align: right;\">\n",
       "      <th></th>\n",
       "      <th>Event</th>\n",
       "      <th>Medal</th>\n",
       "    </tr>\n",
       "  </thead>\n",
       "  <tbody>\n",
       "    <tr>\n",
       "      <th>67</th>\n",
       "      <td>Beach Volleyball Women's Beach Volleyball</td>\n",
       "      <td>7</td>\n",
       "    </tr>\n",
       "    <tr>\n",
       "      <th>308</th>\n",
       "      <td>Volleyball Men's Volleyball</td>\n",
       "      <td>6</td>\n",
       "    </tr>\n",
       "    <tr>\n",
       "      <th>152</th>\n",
       "      <td>Football Men's Football</td>\n",
       "      <td>6</td>\n",
       "    </tr>\n",
       "  </tbody>\n",
       "</table>\n",
       "</div>"
      ],
      "text/plain": [
       "                                         Event  Medal\n",
       "67   Beach Volleyball Women's Beach Volleyball      7\n",
       "308                Volleyball Men's Volleyball      6\n",
       "152                    Football Men's Football      6"
      ]
     },
     "execution_count": 40,
     "metadata": {},
     "output_type": "execute_result"
    }
   ],
   "source": [
    "medalhas_brasil_total_esporte = df_dados_tratados[df_dados_tratados['region'] == 'Brazil'].groupby('Event').count()['Medal'].reset_index()\n",
    "medalhas_brasil_total_esporte.sort_values(by=['Medal','Event'], ascending=False).head(3)"
   ]
  },
  {
   "cell_type": "markdown",
   "metadata": {
    "heading_collapsed": true,
    "hidden": true,
    "id": "fGoGhNH0HmVb"
   },
   "source": [
    "#### 2.4.3 Para finalizar sobre o Brasil: obtenha o total de medalhas de ouro, prata, bronze e total por ano."
   ]
  },
  {
   "cell_type": "code",
   "execution_count": 42,
   "metadata": {
    "ExecuteTime": {
     "end_time": "2021-10-22T22:00:52.215379Z",
     "start_time": "2021-10-22T22:00:52.153414Z"
    },
    "hidden": true,
    "id": "RV630JrIHmVh"
   },
   "outputs": [
    {
     "data": {
      "text/html": [
       "<div>\n",
       "<style scoped>\n",
       "    .dataframe tbody tr th:only-of-type {\n",
       "        vertical-align: middle;\n",
       "    }\n",
       "\n",
       "    .dataframe tbody tr th {\n",
       "        vertical-align: top;\n",
       "    }\n",
       "\n",
       "    .dataframe thead th {\n",
       "        text-align: right;\n",
       "    }\n",
       "</style>\n",
       "<table border=\"1\" class=\"dataframe\">\n",
       "  <thead>\n",
       "    <tr style=\"text-align: right;\">\n",
       "      <th></th>\n",
       "      <th>Year</th>\n",
       "      <th>Gold</th>\n",
       "      <th>Silver</th>\n",
       "      <th>Bronze</th>\n",
       "      <th>Total</th>\n",
       "    </tr>\n",
       "  </thead>\n",
       "  <tbody>\n",
       "    <tr>\n",
       "      <th>0</th>\n",
       "      <td>1900</td>\n",
       "      <td>0</td>\n",
       "      <td>0</td>\n",
       "      <td>0</td>\n",
       "      <td>0</td>\n",
       "    </tr>\n",
       "    <tr>\n",
       "      <th>1</th>\n",
       "      <td>1920</td>\n",
       "      <td>1</td>\n",
       "      <td>1</td>\n",
       "      <td>1</td>\n",
       "      <td>3</td>\n",
       "    </tr>\n",
       "    <tr>\n",
       "      <th>2</th>\n",
       "      <td>1924</td>\n",
       "      <td>0</td>\n",
       "      <td>0</td>\n",
       "      <td>0</td>\n",
       "      <td>0</td>\n",
       "    </tr>\n",
       "    <tr>\n",
       "      <th>3</th>\n",
       "      <td>1932</td>\n",
       "      <td>0</td>\n",
       "      <td>0</td>\n",
       "      <td>0</td>\n",
       "      <td>0</td>\n",
       "    </tr>\n",
       "    <tr>\n",
       "      <th>4</th>\n",
       "      <td>1936</td>\n",
       "      <td>0</td>\n",
       "      <td>0</td>\n",
       "      <td>0</td>\n",
       "      <td>0</td>\n",
       "    </tr>\n",
       "    <tr>\n",
       "      <th>5</th>\n",
       "      <td>1948</td>\n",
       "      <td>0</td>\n",
       "      <td>0</td>\n",
       "      <td>1</td>\n",
       "      <td>1</td>\n",
       "    </tr>\n",
       "    <tr>\n",
       "      <th>6</th>\n",
       "      <td>1952</td>\n",
       "      <td>1</td>\n",
       "      <td>0</td>\n",
       "      <td>2</td>\n",
       "      <td>3</td>\n",
       "    </tr>\n",
       "    <tr>\n",
       "      <th>7</th>\n",
       "      <td>1956</td>\n",
       "      <td>1</td>\n",
       "      <td>0</td>\n",
       "      <td>0</td>\n",
       "      <td>1</td>\n",
       "    </tr>\n",
       "    <tr>\n",
       "      <th>8</th>\n",
       "      <td>1960</td>\n",
       "      <td>0</td>\n",
       "      <td>0</td>\n",
       "      <td>2</td>\n",
       "      <td>2</td>\n",
       "    </tr>\n",
       "    <tr>\n",
       "      <th>9</th>\n",
       "      <td>1964</td>\n",
       "      <td>0</td>\n",
       "      <td>0</td>\n",
       "      <td>1</td>\n",
       "      <td>1</td>\n",
       "    </tr>\n",
       "    <tr>\n",
       "      <th>10</th>\n",
       "      <td>1968</td>\n",
       "      <td>0</td>\n",
       "      <td>1</td>\n",
       "      <td>2</td>\n",
       "      <td>3</td>\n",
       "    </tr>\n",
       "    <tr>\n",
       "      <th>11</th>\n",
       "      <td>1972</td>\n",
       "      <td>0</td>\n",
       "      <td>0</td>\n",
       "      <td>2</td>\n",
       "      <td>2</td>\n",
       "    </tr>\n",
       "    <tr>\n",
       "      <th>12</th>\n",
       "      <td>1976</td>\n",
       "      <td>0</td>\n",
       "      <td>0</td>\n",
       "      <td>2</td>\n",
       "      <td>2</td>\n",
       "    </tr>\n",
       "    <tr>\n",
       "      <th>13</th>\n",
       "      <td>1980</td>\n",
       "      <td>2</td>\n",
       "      <td>0</td>\n",
       "      <td>2</td>\n",
       "      <td>4</td>\n",
       "    </tr>\n",
       "    <tr>\n",
       "      <th>14</th>\n",
       "      <td>1984</td>\n",
       "      <td>1</td>\n",
       "      <td>5</td>\n",
       "      <td>2</td>\n",
       "      <td>8</td>\n",
       "    </tr>\n",
       "    <tr>\n",
       "      <th>15</th>\n",
       "      <td>1988</td>\n",
       "      <td>1</td>\n",
       "      <td>2</td>\n",
       "      <td>3</td>\n",
       "      <td>6</td>\n",
       "    </tr>\n",
       "    <tr>\n",
       "      <th>16</th>\n",
       "      <td>1992</td>\n",
       "      <td>2</td>\n",
       "      <td>1</td>\n",
       "      <td>0</td>\n",
       "      <td>3</td>\n",
       "    </tr>\n",
       "    <tr>\n",
       "      <th>17</th>\n",
       "      <td>1994</td>\n",
       "      <td>0</td>\n",
       "      <td>0</td>\n",
       "      <td>0</td>\n",
       "      <td>0</td>\n",
       "    </tr>\n",
       "    <tr>\n",
       "      <th>18</th>\n",
       "      <td>1996</td>\n",
       "      <td>3</td>\n",
       "      <td>3</td>\n",
       "      <td>9</td>\n",
       "      <td>15</td>\n",
       "    </tr>\n",
       "    <tr>\n",
       "      <th>19</th>\n",
       "      <td>1998</td>\n",
       "      <td>0</td>\n",
       "      <td>0</td>\n",
       "      <td>0</td>\n",
       "      <td>0</td>\n",
       "    </tr>\n",
       "    <tr>\n",
       "      <th>20</th>\n",
       "      <td>2000</td>\n",
       "      <td>0</td>\n",
       "      <td>6</td>\n",
       "      <td>6</td>\n",
       "      <td>12</td>\n",
       "    </tr>\n",
       "    <tr>\n",
       "      <th>21</th>\n",
       "      <td>2002</td>\n",
       "      <td>0</td>\n",
       "      <td>0</td>\n",
       "      <td>0</td>\n",
       "      <td>0</td>\n",
       "    </tr>\n",
       "    <tr>\n",
       "      <th>22</th>\n",
       "      <td>2004</td>\n",
       "      <td>5</td>\n",
       "      <td>2</td>\n",
       "      <td>3</td>\n",
       "      <td>10</td>\n",
       "    </tr>\n",
       "    <tr>\n",
       "      <th>23</th>\n",
       "      <td>2006</td>\n",
       "      <td>0</td>\n",
       "      <td>0</td>\n",
       "      <td>0</td>\n",
       "      <td>0</td>\n",
       "    </tr>\n",
       "    <tr>\n",
       "      <th>24</th>\n",
       "      <td>2008</td>\n",
       "      <td>3</td>\n",
       "      <td>4</td>\n",
       "      <td>9</td>\n",
       "      <td>16</td>\n",
       "    </tr>\n",
       "    <tr>\n",
       "      <th>25</th>\n",
       "      <td>2010</td>\n",
       "      <td>0</td>\n",
       "      <td>0</td>\n",
       "      <td>0</td>\n",
       "      <td>0</td>\n",
       "    </tr>\n",
       "    <tr>\n",
       "      <th>26</th>\n",
       "      <td>2012</td>\n",
       "      <td>3</td>\n",
       "      <td>5</td>\n",
       "      <td>9</td>\n",
       "      <td>17</td>\n",
       "    </tr>\n",
       "    <tr>\n",
       "      <th>27</th>\n",
       "      <td>2014</td>\n",
       "      <td>0</td>\n",
       "      <td>0</td>\n",
       "      <td>0</td>\n",
       "      <td>0</td>\n",
       "    </tr>\n",
       "    <tr>\n",
       "      <th>28</th>\n",
       "      <td>2016</td>\n",
       "      <td>7</td>\n",
       "      <td>6</td>\n",
       "      <td>6</td>\n",
       "      <td>19</td>\n",
       "    </tr>\n",
       "  </tbody>\n",
       "</table>\n",
       "</div>"
      ],
      "text/plain": [
       "    Year  Gold  Silver  Bronze  Total\n",
       "0   1900     0       0       0      0\n",
       "1   1920     1       1       1      3\n",
       "2   1924     0       0       0      0\n",
       "3   1932     0       0       0      0\n",
       "4   1936     0       0       0      0\n",
       "5   1948     0       0       1      1\n",
       "6   1952     1       0       2      3\n",
       "7   1956     1       0       0      1\n",
       "8   1960     0       0       2      2\n",
       "9   1964     0       0       1      1\n",
       "10  1968     0       1       2      3\n",
       "11  1972     0       0       2      2\n",
       "12  1976     0       0       2      2\n",
       "13  1980     2       0       2      4\n",
       "14  1984     1       5       2      8\n",
       "15  1988     1       2       3      6\n",
       "16  1992     2       1       0      3\n",
       "17  1994     0       0       0      0\n",
       "18  1996     3       3       9     15\n",
       "19  1998     0       0       0      0\n",
       "20  2000     0       6       6     12\n",
       "21  2002     0       0       0      0\n",
       "22  2004     5       2       3     10\n",
       "23  2006     0       0       0      0\n",
       "24  2008     3       4       9     16\n",
       "25  2010     0       0       0      0\n",
       "26  2012     3       5       9     17\n",
       "27  2014     0       0       0      0\n",
       "28  2016     7       6       6     19"
      ]
     },
     "execution_count": 42,
     "metadata": {},
     "output_type": "execute_result"
    }
   ],
   "source": [
    "medalhas_brasil_totais = df_dados_tratados[df_dados_tratados['region'] == 'Brazil'].groupby('Year').sum()[['Gold','Silver','Bronze']].sort_values('Year',ascending=True).reset_index()\n",
    "medalhas_brasil_totais['Total'] = medalhas_brasil_totais['Gold'] + medalhas_brasil_totais['Silver'] + medalhas_brasil_totais['Bronze']\n",
    "medalhas_brasil_totais"
   ]
  },
  {
   "cell_type": "markdown",
   "metadata": {
    "heading_collapsed": true,
    "id": "JppaszdOHmVh"
   },
   "source": [
    "### 3. O mundo nos jogos de verão\n",
    "\n",
    "#### Vamos agora analisar um pouquinho do que aconteceu nas Olimpíadas de verão em todo o mundo."
   ]
  },
  {
   "cell_type": "markdown",
   "metadata": {
    "heading_collapsed": true,
    "hidden": true
   },
   "source": [
    "#### 3.1 Retome o DataFrame original e descarte as informações sobre os jogos de inverno."
   ]
  },
  {
   "cell_type": "code",
   "execution_count": 43,
   "metadata": {
    "ExecuteTime": {
     "end_time": "2021-10-22T22:00:53.971166Z",
     "start_time": "2021-10-22T22:00:53.880214Z"
    },
    "hidden": true,
    "id": "ntn3ma8OHmVi"
   },
   "outputs": [
    {
     "data": {
      "text/html": [
       "<div>\n",
       "<style scoped>\n",
       "    .dataframe tbody tr th:only-of-type {\n",
       "        vertical-align: middle;\n",
       "    }\n",
       "\n",
       "    .dataframe tbody tr th {\n",
       "        vertical-align: top;\n",
       "    }\n",
       "\n",
       "    .dataframe thead th {\n",
       "        text-align: right;\n",
       "    }\n",
       "</style>\n",
       "<table border=\"1\" class=\"dataframe\">\n",
       "  <thead>\n",
       "    <tr style=\"text-align: right;\">\n",
       "      <th></th>\n",
       "      <th>Name</th>\n",
       "      <th>Sex</th>\n",
       "      <th>Age</th>\n",
       "      <th>Height</th>\n",
       "      <th>Weight</th>\n",
       "      <th>Team</th>\n",
       "      <th>NOC</th>\n",
       "      <th>Games</th>\n",
       "      <th>Year</th>\n",
       "      <th>Season</th>\n",
       "      <th>City</th>\n",
       "      <th>Sport</th>\n",
       "      <th>Event</th>\n",
       "      <th>Medal</th>\n",
       "      <th>region</th>\n",
       "      <th>Bronze</th>\n",
       "      <th>Gold</th>\n",
       "      <th>Silver</th>\n",
       "    </tr>\n",
       "  </thead>\n",
       "  <tbody>\n",
       "    <tr>\n",
       "      <th>0</th>\n",
       "      <td>A Dijiang</td>\n",
       "      <td>M</td>\n",
       "      <td>24.0</td>\n",
       "      <td>180.0</td>\n",
       "      <td>80.0</td>\n",
       "      <td>China</td>\n",
       "      <td>CHN</td>\n",
       "      <td>1992 Summer</td>\n",
       "      <td>1992</td>\n",
       "      <td>Summer</td>\n",
       "      <td>Barcelona</td>\n",
       "      <td>Basketball</td>\n",
       "      <td>Basketball Men's Basketball</td>\n",
       "      <td>NaN</td>\n",
       "      <td>China</td>\n",
       "      <td>0</td>\n",
       "      <td>0</td>\n",
       "      <td>0</td>\n",
       "    </tr>\n",
       "  </tbody>\n",
       "</table>\n",
       "</div>"
      ],
      "text/plain": [
       "        Name Sex   Age  Height  Weight   Team  NOC        Games  Year  Season  \\\n",
       "0  A Dijiang   M  24.0   180.0    80.0  China  CHN  1992 Summer  1992  Summer   \n",
       "\n",
       "        City       Sport                        Event Medal region  Bronze  \\\n",
       "0  Barcelona  Basketball  Basketball Men's Basketball   NaN  China       0   \n",
       "\n",
       "   Gold  Silver  \n",
       "0     0       0  "
      ]
     },
     "execution_count": 43,
     "metadata": {},
     "output_type": "execute_result"
    }
   ],
   "source": [
    "summer = ['Summer']\n",
    "df_olimpiada_verao = df_dados_olimpicos[df_dados_olimpicos.Season.isin(summer)]\n",
    "df_olimpiada_verao.head(1)"
   ]
  },
  {
   "cell_type": "markdown",
   "metadata": {
    "heading_collapsed": true,
    "hidden": true,
    "id": "UEJTgcioHmVk"
   },
   "source": [
    "#### 3.2 Obtenha a lista de todos os esportes já disputados nas olimpíadas de verão."
   ]
  },
  {
   "cell_type": "code",
   "execution_count": 44,
   "metadata": {
    "ExecuteTime": {
     "end_time": "2021-10-22T22:00:54.843966Z",
     "start_time": "2021-10-22T22:00:54.802990Z"
    },
    "hidden": true,
    "id": "f47On1yuHmVl"
   },
   "outputs": [
    {
     "name": "stdout",
     "output_type": "stream",
     "text": [
      "Esportes já disputados nas Olimpíadas de Verão:\n",
      "- Basketball\n",
      "- Judo\n",
      "- Football\n",
      "- Tug-Of-War\n",
      "- Athletics\n",
      "- Swimming\n",
      "- Badminton\n",
      "- Sailing\n",
      "- Gymnastics\n",
      "- Art Competitions\n",
      "- Handball\n",
      "- Weightlifting\n",
      "- Wrestling\n",
      "- Water Polo\n",
      "- Hockey\n",
      "- Rowing\n",
      "- Fencing\n",
      "- Equestrianism\n",
      "- Shooting\n",
      "- Boxing\n",
      "- Taekwondo\n",
      "- Cycling\n",
      "- Diving\n",
      "- Canoeing\n",
      "- Tennis\n",
      "- Modern Pentathlon\n",
      "- Golf\n",
      "- Softball\n",
      "- Archery\n",
      "- Volleyball\n",
      "- Synchronized Swimming\n",
      "- Table Tennis\n",
      "- Baseball\n",
      "- Rhythmic Gymnastics\n",
      "- Rugby Sevens\n",
      "- Trampolining\n",
      "- Beach Volleyball\n",
      "- Triathlon\n",
      "- Rugby\n",
      "- Lacrosse\n",
      "- Polo\n",
      "- Cricket\n",
      "- Ice Hockey\n",
      "- Racquets\n",
      "- Motorboating\n",
      "- Croquet\n",
      "- Figure Skating\n",
      "- Jeu De Paume\n",
      "- Roque\n",
      "- Basque Pelota\n",
      "- Alpinism\n",
      "- Aeronautics\n"
     ]
    }
   ],
   "source": [
    "lista_esportes = df_olimpiada_verao['Sport'].unique().tolist()\n",
    "print('Esportes já disputados nas Olimpíadas de Verão:', *lista_esportes, sep='\\n- ')"
   ]
  },
  {
   "cell_type": "markdown",
   "metadata": {
    "heading_collapsed": true,
    "hidden": true,
    "id": "PSrny4VKHmVo"
   },
   "source": [
    "#### 3.3 Obtenha a lista de todas as modalidades esportivas já disputadas nas olimpíadas de verão."
   ]
  },
  {
   "cell_type": "code",
   "execution_count": 71,
   "metadata": {
    "ExecuteTime": {
     "end_time": "2021-10-22T23:19:49.077177Z",
     "start_time": "2021-10-22T23:19:48.932259Z"
    },
    "hidden": true,
    "id": "yIyJMEfOHmVs",
    "scrolled": false
   },
   "outputs": [
    {
     "data": {
      "text/plain": [
       "[\"Basketball Men's Basketball\",\n",
       " \"Judo Men's Extra-Lightweight\",\n",
       " \"Football Men's Football\",\n",
       " \"Tug-Of-War Men's Tug-Of-War\",\n",
       " \"Athletics Women's 100 metres\",\n",
       " \"Athletics Women's 4 x 100 metres Relay\",\n",
       " \"Swimming Men's 400 metres Freestyle\",\n",
       " \"Badminton Men's Singles\",\n",
       " \"Sailing Women's Windsurfer\",\n",
       " \"Swimming Men's 200 metres Breaststroke\",\n",
       " \"Swimming Men's 400 metres Breaststroke\",\n",
       " \"Gymnastics Men's Individual All-Around\",\n",
       " \"Gymnastics Men's Team All-Around\",\n",
       " \"Gymnastics Men's Floor Exercise\",\n",
       " \"Gymnastics Men's Horse Vault\",\n",
       " \"Gymnastics Men's Parallel Bars\",\n",
       " \"Gymnastics Men's Horizontal Bar\",\n",
       " \"Gymnastics Men's Rings\",\n",
       " \"Gymnastics Men's Pommelled Horse\",\n",
       " \"Athletics Men's Shot Put\",\n",
       " 'Art Competitions Mixed Sculpturing, Unknown Event',\n",
       " \"Handball Women's Handball\",\n",
       " \"Weightlifting Women's Super-Heavyweight\",\n",
       " \"Wrestling Men's Light-Heavyweight, Greco-Roman\",\n",
       " \"Gymnastics Men's Team All-Around, Free System\",\n",
       " \"Water Polo Men's Water Polo\",\n",
       " 'Sailing Mixed Three Person Keelboat',\n",
       " \"Hockey Women's Hockey\",\n",
       " \"Rowing Men's Lightweight Double Sculls\",\n",
       " \"Athletics Men's Pole Vault\",\n",
       " \"Athletics Men's High Jump\",\n",
       " \"Sailing Men's Two Person Dinghy\",\n",
       " \"Athletics Men's 1,500 metres\",\n",
       " \"Swimming Men's 100 metres Butterfly\",\n",
       " \"Swimming Men's 200 metres Butterfly\",\n",
       " \"Swimming Men's 4 x 100 metres Medley Relay\",\n",
       " \"Football Women's Football\",\n",
       " \"Fencing Men's Foil, Individual\",\n",
       " \"Fencing Men's epee, Individual\",\n",
       " \"Fencing Men's epee, Team\",\n",
       " 'Sailing Mixed 8 metres',\n",
       " 'Equestrianism Mixed Jumping, Individual',\n",
       " \"Shooting Men's Small-Bore Rifle, Prone, 50 metres\",\n",
       " \"Shooting Men's Rapid-Fire Pistol, 25 metres\",\n",
       " \"Shooting Men's Trap\",\n",
       " \"Athletics Men's 4 x 100 metres Relay\",\n",
       " \"Athletics Men's Long Jump\",\n",
       " \"Boxing Men's Light-Welterweight\",\n",
       " \"Athletics Women's Javelin Throw\",\n",
       " \"Wrestling Men's Heavyweight, Freestyle\",\n",
       " \"Taekwondo Men's Flyweight\",\n",
       " \"Boxing Men's Heavyweight\",\n",
       " \"Athletics Men's 5,000 metres\",\n",
       " \"Cycling Men's Road Race, Individual\",\n",
       " \"Cycling Men's Road Race, Team\",\n",
       " \"Weightlifting Men's Lightweight\",\n",
       " \"Weightlifting Men's Middleweight\",\n",
       " \"Rowing Men's Coxless Pairs\",\n",
       " \"Judo Men's Half-Middleweight\",\n",
       " \"Taekwondo Women's Flyweight\",\n",
       " \"Boxing Men's Flyweight\",\n",
       " \"Basketball Women's Basketball\",\n",
       " \"Diving Men's Platform\",\n",
       " \"Canoeing Men's Canadian Doubles, 500 metres\",\n",
       " \"Canoeing Men's Canadian Doubles, 1,000 metres\",\n",
       " \"Canoeing Men's Kayak Fours, 1,000 metres\",\n",
       " \"Handball Men's Handball\",\n",
       " \"Rowing Women's Coxless Pairs\",\n",
       " \"Boxing Men's Middleweight\",\n",
       " \"Judo Men's Lightweight\",\n",
       " \"Boxing Men's Featherweight\",\n",
       " \"Tennis Men's Doubles\",\n",
       " 'Shooting Mixed Skeet',\n",
       " \"Wrestling Men's Featherweight, Freestyle\",\n",
       " 'Sailing Mixed Two Person Heavyweight Dinghy',\n",
       " \"Athletics Women's Shot Put\",\n",
       " \"Rowing Men's Coxed Eights\",\n",
       " \"Cycling Women's Sprint\",\n",
       " \"Cycling Women's 500 metres Time Trial\",\n",
       " \"Athletics Men's 110 metres Hurdles\",\n",
       " 'Shooting Mixed Trap',\n",
       " \"Athletics Women's Marathon\",\n",
       " \"Athletics Men's 100 metres\",\n",
       " \"Fencing Men's Foil, Team\",\n",
       " \"Fencing Men's Sabre, Team\",\n",
       " \"Swimming Men's 100 metres Freestyle\",\n",
       " \"Swimming Men's 4 x 200 metres Freestyle Relay\",\n",
       " \"Boxing Men's Lightweight\",\n",
       " \"Modern Pentathlon Men's Individual\",\n",
       " \"Boxing Men's Welterweight\",\n",
       " \"Rowing Men's Quadruple Sculls\",\n",
       " \"Rowing Men's Double Sculls\",\n",
       " \"Rowing Men's Coxed Pairs\",\n",
       " \"Athletics Men's 400 metres Hurdles\",\n",
       " \"Athletics Men's 400 metres\",\n",
       " \"Athletics Men's Hammer Throw\",\n",
       " \"Weightlifting Men's Featherweight\",\n",
       " \"Athletics Men's 800 metres\",\n",
       " \"Hockey Men's Hockey\",\n",
       " \"Rowing Women's Single Sculls\",\n",
       " \"Swimming Men's 50 metres Freestyle\",\n",
       " \"Weightlifting Women's Featherweight\",\n",
       " \"Water Polo Women's Water Polo\",\n",
       " \"Weightlifting Men's Heavyweight\",\n",
       " 'Equestrianism Mixed Three-Day Event, Individual',\n",
       " 'Equestrianism Mixed Three-Day Event, Team',\n",
       " \"Sailing Women's Three Person Keelboat\",\n",
       " \"Cycling Women's Road Race, Individual\",\n",
       " \"Golf Women's Individual\",\n",
       " \"Softball Women's Softball\",\n",
       " \"Archery Women's Individual\",\n",
       " \"Wrestling Men's Heavyweight, Greco-Roman\",\n",
       " \"Volleyball Men's Volleyball\",\n",
       " \"Taekwondo Women's Heavyweight\",\n",
       " \"Synchronized Swimming Women's Duet\",\n",
       " \"Synchronized Swimming Women's Team\",\n",
       " \"Taekwondo Women's Featherweight\",\n",
       " \"Athletics Men's Marathon\",\n",
       " \"Athletics Men's 4 x 400 metres Relay\",\n",
       " \"Athletics Men's 10,000 metres\",\n",
       " \"Athletics Women's 3,000 metres\",\n",
       " \"Diving Women's Platform\",\n",
       " \"Shooting Men's Air Rifle, 10 metres\",\n",
       " \"Athletics Men's 200 metres\",\n",
       " \"Weightlifting Men's Flyweight\",\n",
       " \"Swimming Men's 100 metres Backstroke\",\n",
       " \"Weightlifting Men's Light-Heavyweight\",\n",
       " \"Wrestling Men's Lightweight, Greco-Roman\",\n",
       " \"Fencing Men's Sabre, Individual\",\n",
       " \"Wrestling Men's Super-Heavyweight, Greco-Roman\",\n",
       " \"Shooting Men's Free Pistol, 50 metres\",\n",
       " \"Shooting Men's Air Pistol, 10 metres\",\n",
       " \"Rowing Men's Coxless Fours\",\n",
       " \"Boxing Men's Light-Flyweight\",\n",
       " \"Boxing Men's Super-Heavyweight\",\n",
       " \"Wrestling Men's Flyweight, Greco-Roman\",\n",
       " \"Shooting Women's Air Rifle, 10 metres\",\n",
       " \"Weightlifting Men's Middle-Heavyweight\",\n",
       " \"Athletics Men's Javelin Throw\",\n",
       " \"Volleyball Women's Volleyball\",\n",
       " \"Wrestling Men's Welterweight, Greco-Roman\",\n",
       " \"Wrestling Men's Middleweight, Greco-Roman\",\n",
       " \"Athletics Men's 3,000 metres Steeplechase\",\n",
       " \"Wrestling Men's Middleweight, Freestyle\",\n",
       " \"Swimming Women's 100 metres Backstroke\",\n",
       " \"Swimming Women's 200 metres Backstroke\",\n",
       " \"Swimming Women's 4 x 100 metres Medley Relay\",\n",
       " \"Wrestling Men's Light-Heavyweight, Freestyle\",\n",
       " \"Modern Pentathlon Men's Team\",\n",
       " \"Boxing Men's Bantamweight\",\n",
       " \"Athletics Women's 200 metres\",\n",
       " \"Table Tennis Women's Singles\",\n",
       " \"Table Tennis Women's Doubles\",\n",
       " \"Shooting Men's Skeet\",\n",
       " \"Swimming Women's 50 metres Freestyle\",\n",
       " \"Shooting Men's Small-Bore Rifle, Three Positions, 50 metres\",\n",
       " \"Athletics Men's Triple Jump\",\n",
       " \"Weightlifting Women's Lightweight\",\n",
       " \"Athletics Women's Long Jump\",\n",
       " \"Fencing Women's epee, Individual\",\n",
       " \"Swimming Men's 200 metres Freestyle\",\n",
       " \"Swimming Men's 4 x 100 metres Freestyle Relay\",\n",
       " \"Swimming Men's 200 metres Backstroke\",\n",
       " \"Swimming Men's 200 metres Individual Medley\",\n",
       " \"Swimming Men's 400 metres Individual Medley\",\n",
       " \"Badminton Women's Singles\",\n",
       " \"Boxing Men's Light-Middleweight\",\n",
       " \"Tennis Men's Singles\",\n",
       " \"Wrestling Men's Bantamweight, Freestyle\",\n",
       " \"Wrestling Men's Flyweight, Freestyle\",\n",
       " \"Athletics Women's 5,000 metres\",\n",
       " \"Weightlifting Women's Light-Heavyweight\",\n",
       " \"Weightlifting Women's Heavyweight\",\n",
       " \"Athletics Men's Discus Throw\",\n",
       " \"Taekwondo Men's Featherweight\",\n",
       " \"Taekwondo Men's Welterweight\",\n",
       " \"Judo Men's Heavyweight\",\n",
       " \"Cycling Men's Sprint\",\n",
       " \"Wrestling Men's Lightweight, Freestyle\",\n",
       " \"Baseball Men's Baseball\",\n",
       " \"Rowing Men's Coxed Fours\",\n",
       " \"Cycling Men's 100 kilometres Team Time Trial\",\n",
       " \"Rhythmic Gymnastics Women's Group\",\n",
       " 'Art Competitions Mixed Architecture, Designs For Town Planning',\n",
       " 'Art Competitions Mixed Architecture, Architectural Designs',\n",
       " \"Gymnastics Women's Individual All-Around\",\n",
       " \"Gymnastics Women's Team All-Around\",\n",
       " \"Gymnastics Women's Floor Exercise\",\n",
       " \"Gymnastics Women's Horse Vault\",\n",
       " \"Gymnastics Women's Uneven Bars\",\n",
       " \"Gymnastics Women's Balance Beam\",\n",
       " \"Diving Women's Springboard\",\n",
       " \"Diving Women's Synchronized Springboard\",\n",
       " \"Athletics Women's 10,000 metres\",\n",
       " 'Sailing Mixed 7 metres',\n",
       " \"Judo Women's Half-Middleweight\",\n",
       " \"Athletics Men's Decathlon\",\n",
       " \"Wrestling Men's Middleweight A, Greco-Roman\",\n",
       " \"Athletics Women's Discus Throw\",\n",
       " \"Swimming Women's 4 x 100 metres Freestyle Relay\",\n",
       " \"Athletics Women's 1,500 metres\",\n",
       " \"Shooting Women's Air Pistol, 10 metres\",\n",
       " \"Shooting Women's Sporting Pistol, 25 metres\",\n",
       " \"Canoeing Men's Kayak Doubles, 500 metres\",\n",
       " \"Canoeing Men's Kayak Singles, 500 metres\",\n",
       " \"Canoeing Men's Kayak Singles, 1,000 metres\",\n",
       " \"Shooting Men's Running Target, 50 metres\",\n",
       " \"Judo Women's Half-Heavyweight\",\n",
       " \"Athletics Women's Pole Vault\",\n",
       " \"Rugby Sevens Women's Rugby Sevens\",\n",
       " \"Table Tennis Men's Team\",\n",
       " \"Rowing Women's Coxed Eights\",\n",
       " \"Athletics Women's 4 x 400 metres Relay\",\n",
       " \"Cycling Men's 1,000 metres Time Trial\",\n",
       " \"Cycling Men's Individual Pursuit, 4,000 metres\",\n",
       " \"Wrestling Men's Welterweight, Freestyle\",\n",
       " \"Wrestling Men's Bantamweight, Greco-Roman\",\n",
       " \"Rowing Women's Lightweight Double Sculls\",\n",
       " \"Athletics Women's 800 metres\",\n",
       " \"Rowing Women's Coxed Quadruple Sculls\",\n",
       " \"Rhythmic Gymnastics Women's Individual\",\n",
       " \"Canoeing Men's Kayak Singles, Slalom\",\n",
       " \"Archery Men's Individual\",\n",
       " \"Archery Men's Team\",\n",
       " \"Athletics Women's 400 metres\",\n",
       " \"Trampolining Men's Individual\",\n",
       " \"Beach Volleyball Men's Beach Volleyball\",\n",
       " \"Cycling Women's Mountainbike, Cross-Country\",\n",
       " \"Athletics Men's Javelin Throw, Both Hands\",\n",
       " \"Triathlon Women's Olympic Distance\",\n",
       " \"Gymnastics Women's Team Portable Apparatus\",\n",
       " \"Cycling Men's Mountainbike, Cross-Country\",\n",
       " \"Athletics Women's 400 metres Hurdles\",\n",
       " \"Diving Men's Springboard\",\n",
       " \"Wrestling Men's Featherweight, Greco-Roman\",\n",
       " \"Table Tennis Men's Singles\",\n",
       " 'Art Competitions Mixed Painting',\n",
       " \"Judo Men's Open Class\",\n",
       " \"Rowing Women's Quadruple Sculls\",\n",
       " \"Gymnastics Men's Team All-Around, Swedish System\",\n",
       " \"Athletics Women's Pentathlon\",\n",
       " 'Art Competitions Mixed Painting, Unknown Event',\n",
       " \"Cycling Men's Team Pursuit, 4,000 metres\",\n",
       " \"Weightlifting Women's Middleweight\",\n",
       " \"Swimming Men's 1,500 metres Freestyle\",\n",
       " \"Wrestling Women's Light-Heavyweight, Freestyle\",\n",
       " \"Swimming Women's 100 metres Freestyle\",\n",
       " \"Equestrianism Men's Jumping, Individual\",\n",
       " \"Equestrianism Men's Jumping, Team\",\n",
       " \"Equestrianism Men's Three-Day Event, Individual\",\n",
       " \"Equestrianism Men's Three-Day Event, Team\",\n",
       " \"Athletics Women's High Jump\",\n",
       " \"Canoeing Women's Kayak Fours, 500 metres\",\n",
       " \"Sailing Men's One Person Dinghy\",\n",
       " \"Trampolining Women's Individual\",\n",
       " 'Art Competitions Mixed Literature',\n",
       " \"Judo Men's Middleweight\",\n",
       " \"Judo Men's Half-Lightweight\",\n",
       " \"Fencing Women's Foil, Team\",\n",
       " \"Swimming Women's 200 metres Butterfly\",\n",
       " \"Swimming Women's 400 metres Individual Medley\",\n",
       " \"Golf Men's Individual\",\n",
       " \"Athletics Men's Standing High Jump\",\n",
       " \"Athletics Men's Standing Long Jump\",\n",
       " \"Athletics Men's 20 kilometres Walk\",\n",
       " \"Swimming Men's 220 yard Freestyle\",\n",
       " \"Swimming Men's 880 yard Freestyle\",\n",
       " \"Swimming Men's One Mile Freestyle\",\n",
       " \"Swimming Men's 4 x 50 Yard Freestyle Relay\",\n",
       " \"Swimming Men's Plunge For Distance\",\n",
       " \"Shooting Men's Free Rifle, Three Positions, 300 metres\",\n",
       " \"Shooting Men's Military Rifle, Three Positions, 300 metres\",\n",
       " \"Shooting Men's Military Rifle, Any Position, 600 metres\",\n",
       " \"Shooting Men's Military Rifle, 200, 400, 500 and 600 metres, Team\",\n",
       " \"Shooting Men's Military Rifle, Prone, 300 metres\",\n",
       " \"Judo Men's Half-Heavyweight\",\n",
       " \"Archery Women's Team\",\n",
       " \"Athletics Men's 50 kilometres Walk\",\n",
       " \"Rowing Women's Double Sculls\",\n",
       " 'Sailing Mixed 6 metres',\n",
       " \"Boxing Men's Light-Heavyweight\",\n",
       " \"Boxing Women's Flyweight\",\n",
       " \"Athletics Women's 100 metres Hurdles\",\n",
       " \"Athletics Men's Discus Throw, Greek Style\",\n",
       " 'Sailing Mixed One Person Dinghy',\n",
       " \"Wrestling Women's Heavyweight, Freestyle\",\n",
       " 'Badminton Mixed Doubles',\n",
       " \"Fencing Women's Foil, Individual\",\n",
       " 'Sailing Mixed Two Person Keelboat',\n",
       " \"Shooting Men's Military Rifle, 300 metres and 600 metres, Prone, Team\",\n",
       " \"Table Tennis Men's Doubles\",\n",
       " \"Wrestling Men's Light-Flyweight, Freestyle\",\n",
       " \"Wrestling Women's Featherweight, Freestyle\",\n",
       " \"Swimming Women's 200 metres Freestyle\",\n",
       " \"Swimming Women's 400 metres Freestyle\",\n",
       " \"Swimming Women's 200 metres Individual Medley\",\n",
       " \"Sailing Men's Windsurfer\",\n",
       " \"Shooting Men's Running Target, Single Shot\",\n",
       " \"Shooting Men's Running Target, Double Shot\",\n",
       " \"Rugby Sevens Men's Rugby Sevens\",\n",
       " \"Wrestling Women's Lightweight, Freestyle\",\n",
       " \"Modern Pentathlon Women's Individual\",\n",
       " \"Canoeing Men's Canadian Doubles, Slalom\",\n",
       " \"Judo Women's Half-Lightweight\",\n",
       " \"Diving Women's Plain High\",\n",
       " \"Equestrianism Men's Dressage, Individual\",\n",
       " \"Equestrianism Men's Dressage, Team\",\n",
       " \"Tennis Women's Singles, Covered Courts\",\n",
       " \"Diving Men's Plain High\",\n",
       " 'Shooting Mixed Small-Bore Rifle, Three Positions, 50 metres',\n",
       " 'Shooting Mixed Small-Bore Rifle, Prone, 50 metres',\n",
       " \"Swimming Women's 800 metres Freestyle\",\n",
       " \"Sailing Women's Two Person Dinghy\",\n",
       " \"Shooting Men's Free Pistol, 50 metres, Team\",\n",
       " \"Shooting Men's Free Rifle, Three Positions, 300 metres, Team\",\n",
       " \"Shooting Men's Military Rifle, Prone, 300 metres, Team\",\n",
       " \"Shooting Men's Military Rifle, Prone, 600 metres, Team\",\n",
       " \"Shooting Men's Military Rifle, Standing, 300 metres, Team\",\n",
       " \"Shooting Men's Free Rifle, Prone, 600 metres\",\n",
       " \"Shooting Men's Free Rifle, 400, 600 and 800 metres, Team\",\n",
       " \"Rowing Men's Single Sculls\",\n",
       " \"Cycling Men's Tandem Sprint, 2,000 metres\",\n",
       " \"Athletics Women's Heptathlon\",\n",
       " \"Cycling Men's Points Race\",\n",
       " \"Synchronized Swimming Women's Solo\",\n",
       " 'Equestrianism Mixed Dressage, Individual',\n",
       " 'Equestrianism Mixed Dressage, Team',\n",
       " \"Swimming Men's 100 metres Breaststroke\",\n",
       " 'Shooting Mixed Free Pistol, 50 metres',\n",
       " \"Sailing Women's Skiff\",\n",
       " \"Canoeing Men's Kayak Doubles, 10,000 metres\",\n",
       " \"Triathlon Men's Olympic Distance\",\n",
       " \"Sailing Women's One Person Dinghy\",\n",
       " \"Rowing Men's 17-Man Naval Rowing Boats\",\n",
       " \"Beach Volleyball Women's Beach Volleyball\",\n",
       " \"Weightlifting Men's Super-Heavyweight\",\n",
       " \"Rowing Men's Lightweight Coxless Fours\",\n",
       " \"Wrestling Men's Light-Flyweight, Greco-Roman\",\n",
       " \"Canoeing Men's Canadian Singles, 1,000 metres\",\n",
       " 'Sailing Mixed 5.5 metres',\n",
       " 'Equestrianism Mixed Jumping, Team',\n",
       " \"Diving Men's Synchronized Platform\",\n",
       " \"Canoeing Women's Kayak Singles, Slalom\",\n",
       " \"Weightlifting Women's Flyweight\",\n",
       " \"Swimming Women's 100 metres Breaststroke\",\n",
       " \"Swimming Women's 200 metres Breaststroke\",\n",
       " \"Wrestling Men's Middleweight B, Greco-Roman\",\n",
       " \"Athletics Men's Stone Throw\",\n",
       " \"Athletics Men's Javelin Throw, Freestyle\",\n",
       " \"Athletics Men's Pentathlon (Ancient)\",\n",
       " \"Shooting Women's Small-Bore Rifle, Three Positions, 50 metres\",\n",
       " \"Swimming Women's 100 metres Butterfly\",\n",
       " \"Weightlifting Men's Heavyweight I\",\n",
       " \"Athletics Women's 3,000 metres Steeplechase\",\n",
       " \"Athletics Men's Shot Put, Both Hands\",\n",
       " \"Shooting Women's Trap\",\n",
       " \"Badminton Men's Doubles\",\n",
       " \"Swimming Women's 4 x 200 metres Freestyle Relay\",\n",
       " \"Athletics Men's 10 kilometres Walk\",\n",
       " \"Athletics Women's 20 kilometres Walk\",\n",
       " \"Athletics Women's 80 metres Hurdles\",\n",
       " \"Sailing Men's One Person Heavyweight Dinghy\",\n",
       " 'Art Competitions Mixed Painting, Paintings',\n",
       " 'Tennis Mixed Doubles, Covered Courts',\n",
       " \"Cycling Men's Madison\",\n",
       " 'Art Competitions Mixed Sculpturing, Statues',\n",
       " \"Rugby Men's Rugby\",\n",
       " \"Weightlifting Men's Heavyweight II\",\n",
       " \"Canoeing Women's Kayak Doubles, 500 metres\",\n",
       " \"Cycling Men's Individual Time Trial\",\n",
       " \"Judo Women's Heavyweight\",\n",
       " \"Canoeing Men's Kayak Doubles, 1,000 metres\",\n",
       " \"Gymnastics Men's Individual All-Around, 5 Events\",\n",
       " \"Wrestling Men's Super-Heavyweight, Freestyle\",\n",
       " \"Fencing Women's Sabre, Team\",\n",
       " \"Shooting Men's Double Trap\",\n",
       " \"Weightlifting Men's Bantamweight\",\n",
       " \"Taekwondo Men's Heavyweight\",\n",
       " 'Sailing Mixed Windsurfer',\n",
       " \"Taekwondo Women's Welterweight\",\n",
       " 'Shooting Mixed Free Rifle, Three Positions, 300 metres',\n",
       " \"Cycling Men's 50 kilometres\",\n",
       " 'Shooting Mixed Rapid-Fire Pistol, 25 metres',\n",
       " \"Cycling Men's 333 metres Time Trial\",\n",
       " \"Cycling Men's 20 kilometres\",\n",
       " \"Canoeing Men's Kayak Singles, 10,000 metres\",\n",
       " 'Sailing Mixed Open',\n",
       " 'Sailing Mixed 1-2 Ton',\n",
       " \"Canoeing Men's Canadian Singles, Slalom\",\n",
       " 'Sailing Mixed Multihull',\n",
       " \"Badminton Women's Doubles\",\n",
       " \"Diving Women's Synchronized Platform\",\n",
       " \"Athletics Women's Triple Jump\",\n",
       " 'Art Competitions Mixed Painting, Drawings And Water Colors',\n",
       " \"Shooting Men's Dueling Pistol, 30 metres\",\n",
       " \"Boxing Women's Lightweight\",\n",
       " \"Cycling Women's BMX\",\n",
       " \"Canoeing Men's Kayak Doubles, 200 metres\",\n",
       " \"Fencing Men's Sabre, Masters, Individual\",\n",
       " \"Lacrosse Men's Lacrosse\",\n",
       " \"Canoeing Women's Kayak Singles, 500 metres\",\n",
       " \"Athletics Women's 10 kilometres Walk\",\n",
       " 'Sailing Mixed 12 metres',\n",
       " \"Judo Women's Extra-Lightweight\",\n",
       " \"Diving Men's Synchronized Springboard\",\n",
       " \"Rowing Men's Coxed Fours, Outriggers\",\n",
       " \"Gymnastics Men's Rope Climbing\",\n",
       " 'Sailing Mixed Two Person Dinghy',\n",
       " 'Art Competitions Mixed Architecture, Unknown Event',\n",
       " \"Archery Men's Target Archery, 28 metres, Team\",\n",
       " \"Archery Men's Target Archery, 33 metres, Team\",\n",
       " \"Archery Men's Target Archery, 50 metres, Team\",\n",
       " \"Shooting Men's Running Target, 10 metres\",\n",
       " \"Polo Men's Polo\",\n",
       " \"Rowing Men's Coxed Fours, Inriggers\",\n",
       " \"Cycling Men's BMX\",\n",
       " 'Art Competitions Mixed Sculpturing',\n",
       " \"Athletics Men's Cross-Country, Individual\",\n",
       " \"Athletics Men's Cross-Country, Team\",\n",
       " 'Sailing Mixed 40 metres',\n",
       " \"Gymnastics Men's Club Swinging\",\n",
       " \"Tennis Women's Singles\",\n",
       " 'Tennis Mixed Doubles',\n",
       " \"Tennis Women's Doubles\",\n",
       " \"Judo Women's Middleweight\",\n",
       " \"Judo Women's Lightweight\",\n",
       " \"Canoeing Women's Kayak Singles, 200 metres\",\n",
       " \"Canoeing Men's Kayak Relay 4 x 500 metres\",\n",
       " \"Athletics Men's 3,000 metres, Team\",\n",
       " \"Shooting Men's Small-Bore Rifle, Prone, 50 and 100 yards\",\n",
       " \"Shooting Men's Small-Bore Rifle, 50 and 100 yards, Team\",\n",
       " \"Shooting Men's Small-Bore Rifle, Disappearing Target, 25 yards\",\n",
       " \"Shooting Men's Small-Bore Rifle, Moving Target, 25 yards\",\n",
       " \"Shooting Men's Military Pistol, Team\",\n",
       " \"Rowing Women's Coxed Fours\",\n",
       " \"Weightlifting Men's Unlimited, One Hand\",\n",
       " \"Canoeing Men's Canadian Singles, 500 metres\",\n",
       " \"Fencing Men's Foil, Masters, Individual\",\n",
       " \"Fencing Men's epee, Masters, Individual\",\n",
       " \"Gymnastics Men's Individual All-Around, Field Sports\",\n",
       " \"Gymnastics Men's Individual All-Around, Apparatus Work\",\n",
       " 'Art Competitions Mixed Music, Compositions For Solo Or Chorus',\n",
       " \"Fencing Women's epee, Team\",\n",
       " \"Swimming Men's 4,000 metres Freestyle\",\n",
       " \"Swimming Men's Underwater Swimming\",\n",
       " 'Sailing Mixed Skiff',\n",
       " \"Shooting Men's Military Rifle, 200/500/600/800/900/1,000 Yards, Team\",\n",
       " \"Shooting Men's Running Target, Single And Double Shot\",\n",
       " \"Shooting Men's Small-Bore Rifle, Any Position, 50 metres\",\n",
       " \"Shooting Men's Small-Bore Rifle, Disappearing Target, 25 metres\",\n",
       " \"Swimming Women's 10 kilometres Open Water\",\n",
       " \"Cycling Men's Team Pursuit, 1,980 yards\",\n",
       " \"Cycling Men's 5,000 metres\",\n",
       " \"Cycling Men's 100 kilometres\",\n",
       " \"Cricket Men's Cricket\",\n",
       " \"Canoeing Men's Canadian Singles, 10,000 metres\",\n",
       " \"Boxing Women's Middleweight\",\n",
       " \"Sailing Men's Skiff\",\n",
       " \"Athletics Men's Pentathlon\",\n",
       " \"Swimming Men's 1,200 metres Freestyle\",\n",
       " \"Shooting Women's Skeet\",\n",
       " \"Cycling Men's 1/4 mile\",\n",
       " \"Cycling Men's 1/2 mile\",\n",
       " \"Cycling Men's 5 mile\",\n",
       " \"Cycling Men's 25 mile\",\n",
       " \"Shooting Men's Small-Bore Rifle, Standing, 50 metres\",\n",
       " \"Shooting Men's Small Bore-Rifle, Standing, 50 metres, Team\",\n",
       " \"Shooting Men's Free Rifle, 1,000 Yards\",\n",
       " \"Cycling Women's Team Pursuit\",\n",
       " \"Athletics Men's 3,000 metres Walk\",\n",
       " 'Shooting Mixed Running Target, 50 metres',\n",
       " \"Cycling Women's Individual Time Trial\",\n",
       " \"Fencing Women's Sabre, Individual\",\n",
       " \"Fencing Men's Sabre, Individual, Three Hits\",\n",
       " \"Archery Women's Double National Round\",\n",
       " \"Cycling Men's Omnium\",\n",
       " 'Equestrianism Mixed Hacks And Hunter Combined',\n",
       " 'Sailing Mixed 10 metres',\n",
       " \"Shooting Men's Trap, Team\",\n",
       " \"Cycling Women's Individual Pursuit, 3,000 metres\",\n",
       " \"Cycling Women's Points Race\",\n",
       " \"Sailing Men's Two Person Keelboat\",\n",
       " \"Cycling Men's Keirin\",\n",
       " \"Cycling Men's Team Sprint\",\n",
       " \"Athletics Men's 5 mile\",\n",
       " \"Shooting Men's Running Target, Single Shot, Team\",\n",
       " \"Ice Hockey Men's Ice Hockey\",\n",
       " \"Racquets Men's Singles\",\n",
       " \"Racquets Men's Doubles\",\n",
       " 'Art Competitions Mixed Literature, Lyric Works',\n",
       " 'Motorboating Mixed A-Class (Open)',\n",
       " \"Archery Men's Continental Style\",\n",
       " 'Art Competitions Mixed Painting, Graphic Arts',\n",
       " \"Wrestling Women's Flyweight, Freestyle\",\n",
       " 'Art Competitions Mixed Literature, Unknown Event',\n",
       " 'Sailing Mixed 0.5-1 Ton',\n",
       " 'Art Competitions Mixed Painting, Applied Arts',\n",
       " 'Croquet Mixed Singles, One Ball',\n",
       " 'Croquet Mixed Doubles',\n",
       " \"Shooting Men's Running Target, Double Shot, Team\",\n",
       " \"Shooting Men's Free Pistol, 50 yards\",\n",
       " \"Shooting Men's Free Pistol, 50 yards, Team\",\n",
       " \"Fencing Men's epee, Masters and Amateurs, Individual\",\n",
       " \"Swimming Men's 10 kilometres Open Water\",\n",
       " 'Art Competitions Mixed Music, Compositions For Orchestra',\n",
       " \"Archery Men's Double York Round\",\n",
       " \"Wrestling Women's Middleweight, Freestyle\",\n",
       " \"Equestrianism Men's Vaulting, Individual\",\n",
       " \"Swimming Men's 4 x 250 metres Freestyle Relay\",\n",
       " \"Table Tennis Women's Team\",\n",
       " \"Athletics Women's Hammer Throw\",\n",
       " \"Canoeing Men's Kayak Singles, 200 metres\",\n",
       " \"Shooting Women's Double Trap\",\n",
       " \"Rowing Men's 6-Man Naval Rowing Boats\",\n",
       " 'Art Competitions Mixed Music',\n",
       " \"Shooting Men's Free Rifle, Kneeling, 300 metres\",\n",
       " \"Shooting Men's Free Rifle, Prone, 300 metres\",\n",
       " \"Shooting Men's Free Rifle, Standing, 300 metres\",\n",
       " \"Athletics Men's 3,200 metres Steeplechase\",\n",
       " \"Rowing Women's Coxless Fours\",\n",
       " \"Tennis Men's Doubles, Covered Courts\",\n",
       " \"Tennis Men's Singles, Covered Courts\",\n",
       " \"Cycling Men's 25 kilometres\",\n",
       " \"Shooting Men's Military Rifle, 200 metres\",\n",
       " \"Athletics Men's Standing Triple Jump\",\n",
       " \"Rowing Men's Coxed Pairs (1 kilometres)\",\n",
       " \"Shooting Men's Military Pistol, 30 metres\",\n",
       " \"Cycling Women's Keirin\",\n",
       " \"Archery Men's Au Cordon Dore, 50 metres\",\n",
       " \"Figure Skating Men's Singles\",\n",
       " 'Figure Skating Mixed Pairs',\n",
       " \"Swimming Women's 300 metres Freestyle\",\n",
       " \"Canoeing Men's Canadian Singles, 200 metres\",\n",
       " 'Sailing Mixed 30 metres',\n",
       " \"Athletics Men's 4,000 metres Steeplechase\",\n",
       " \"Athletics Men's 5,000 metres, Team\",\n",
       " \"Rowing Men's Coxed Pairs (1 mile)\",\n",
       " 'Art Competitions Mixed Unknown Event',\n",
       " \"Cycling Women's Omnium\",\n",
       " \"Swimming Men's 200 metres Obstacle Course\",\n",
       " \"Swimming Men's 200 metres Team Swimming\",\n",
       " 'Sailing Mixed 12 foot',\n",
       " 'Art Competitions Mixed Music, Instrumental And Chamber',\n",
       " 'Art Competitions Mixed Music, Vocals',\n",
       " 'Art Competitions Mixed Literature, Dramatic Works',\n",
       " \"Jeu De Paume Men's Singles\",\n",
       " 'Sailing Mixed 10-20 Ton',\n",
       " \"Cycling Men's 1/3 mile\",\n",
       " \"Cycling Men's 1 mile\",\n",
       " \"Cycling Men's 2 mile\",\n",
       " 'Art Competitions Mixed Sculpturing, Medals And Plaques',\n",
       " \"Athletics Men's 1,600 metres Medley Relay\",\n",
       " 'Croquet Mixed Singles, Two Balls',\n",
       " \"Canoeing Men's Folding Kayak Doubles, 10 kilometres\",\n",
       " \"Athletics Men's 60 metres\",\n",
       " 'Sailing Mixed 2-3 Ton',\n",
       " \"Shooting Men's Military Rifle, Prone, 600 metres\",\n",
       " \"Canoeing Men's Canadian Doubles, 10,000 metres\",\n",
       " \"Shooting Men's Dueling Pistol, 30 metres, Team\",\n",
       " \"Gymnastics Men's Parallel Bars, Teams\",\n",
       " \"Gymnastics Men's Horizontal Bar, Teams\",\n",
       " \"Shooting Men's Small-Bore Rifle, Disappearing Target, 25 metres, Team\",\n",
       " 'Art Competitions Mixed Sculpturing, Medals And Reliefs',\n",
       " \"Athletics Men's 1,500 metres Walk\",\n",
       " \"Athletics Men's 3 mile, Team\",\n",
       " 'Art Competitions Mixed Sculpturing, Medals',\n",
       " \"Shooting Men's Military Rifle, Kneeling Or Standing, 300 metres\",\n",
       " \"Equestrianism Men's Vaulting, Team\",\n",
       " \"Shooting Men's Free Rifle, Any Position, 300 metres\",\n",
       " \"Shooting Men's Military Rifle, 1873-1874 Gras Model, Kneeling Or Standing, 200 metres\",\n",
       " \"Swimming Men's 100 Yard Backstroke\",\n",
       " \"Swimming Men's 440 Yard Breaststroke\",\n",
       " 'Art Competitions Mixed Literature, Epic Works',\n",
       " 'Art Competitions Mixed Architecture',\n",
       " \"Athletics Men's 3,500 metres Walk\",\n",
       " \"Roque Men's Singles\",\n",
       " \"Gymnastics Men's Side Horse\",\n",
       " \"Archery Men's Double American Round\",\n",
       " \"Archery Men's Team Round\",\n",
       " \"Archery Men's Target Archery, 33 metres, Individual\",\n",
       " \"Archery Men's Target Archery, 50 metres, Individual\",\n",
       " \"Swimming Men's 1,000 metres Freestyle\",\n",
       " \"Athletics Men's 10 mile Walk\",\n",
       " \"Athletics Men's Discus Throw, Both Hands\",\n",
       " \"Golf Men's Team\",\n",
       " 'Sailing Mixed 0-0.5 Ton',\n",
       " 'Sailing Mixed 20+ Ton',\n",
       " \"Cycling Women's Team Sprint\",\n",
       " \"Weightlifting Men's Unlimited, Two Hands\",\n",
       " \"Shooting Men's Free Pistol, 25 metres\",\n",
       " \"Shooting Men's Military Revolver, 1873-1874 Gras Model, 20 metres\",\n",
       " \"Shooting Men's Military Revolver, 20 metres\",\n",
       " \"Shooting Men's Dueling Pistol Au Vise 20 metres\",\n",
       " \"Shooting Men's Dueling Pistol Au Commandement, 25 metres\",\n",
       " \"Shooting Men's Small-Bore Rifle, Prone, 50 metres, Team\",\n",
       " 'Sailing Mixed 6.5 metres',\n",
       " \"Athletics Men's 200 metres Hurdles\",\n",
       " \"Athletics Men's 56-pound Weight Throw\",\n",
       " 'Equestrianism Mixed Four-In-Hand Competition',\n",
       " \"Athletics Men's 2,500 metres Steeplechase\",\n",
       " 'Art Competitions Mixed Music, Unknown Event',\n",
       " \"Athletics Men's All-Around Championship\",\n",
       " \"Archery Men's Pole Archery, Small Birds, Individual\",\n",
       " \"Archery Men's Pole Archery, Large Birds, Individual\",\n",
       " \"Archery Men's Pole Archery, Small Birds, Team\",\n",
       " \"Archery Men's Pole Archery, Large Birds, Team\",\n",
       " \"Athletics Men's 2,590 metres Steeplechase\",\n",
       " \"Archery Women's Double Columbia Round\",\n",
       " \"Athletics Men's 4 mile, Team\",\n",
       " \"Figure Skating Men's Special Figures\",\n",
       " \"Shooting Men's Military Rifle, Standing, 300 metres\",\n",
       " \"Swimming Men's 50 yard Freestyle\",\n",
       " \"Swimming Men's 100 yard Freestyle\",\n",
       " \"Swimming Men's 440 yard Freestyle\",\n",
       " \"Basque Pelota Men's Two-Man Teams With Cesta\",\n",
       " \"Shooting Men's Trap, Single Shot, 16 metres\",\n",
       " \"Shooting Men's Trap, Double Shot, 14 metres\",\n",
       " 'Equestrianism Mixed Long Jump',\n",
       " \"Canoeing Men's Folding Kayak Singles, 10 kilometres\",\n",
       " \"Shooting Men's Free Pistol, 30 metres\",\n",
       " \"Shooting Men's Military Pistol, 25 metres\",\n",
       " \"Swimming Men's 100 metres Freestyle For Sailors\",\n",
       " \"Archery Men's Sur La Perche a La Herse\",\n",
       " 'Sailing Mixed 3-10 Ton',\n",
       " \"Gymnastics Men's Individual All-Around, 4 Events\",\n",
       " 'Alpinism Mixed Alpinism',\n",
       " \"Wrestling Men's Unlimited Class, Greco-Roman\",\n",
       " 'Motorboating Mixed B-Class (Under 60 Feet)',\n",
       " 'Motorboating Mixed C-Class',\n",
       " \"Cycling Men's 10,000 metres\",\n",
       " 'Art Competitions Mixed Sculpturing, Reliefs',\n",
       " \"Shooting Men's Muzzle-Loading Pistol, 25 metres\",\n",
       " 'Equestrianism Mixed High Jump',\n",
       " \"Archery Men's Sur La Perche a La Pyramide\",\n",
       " \"Fencing Men's Single Sticks, Individual\",\n",
       " \"Figure Skating Women's Singles\",\n",
       " \"Gymnastics Men's Tumbling\",\n",
       " \"Shooting Men's Unknown Event\",\n",
       " 'Sailing Mixed 18 foot',\n",
       " \"Archery Men's Unknown Event\",\n",
       " \"Archery Men's Au Chapelet, 50 metres\",\n",
       " \"Archery Men's Championnat Du Monde\",\n",
       " \"Archery Women's Team Round\",\n",
       " \"Wrestling Men's All-Around, Greco-Roman\",\n",
       " \"Cycling Men's 12-Hours Race\",\n",
       " \"Swimming Men's 500 metres Freestyle\",\n",
       " \"Weightlifting Men's All-Around Dumbbell Contest\",\n",
       " \"Archery Men's Au Chapelet, 33 metres\",\n",
       " \"Archery Men's Au Cordon Dore, 33 metres\",\n",
       " \"Archery Men's Target Archery, 28 metres, Individual\",\n",
       " 'Aeronautics Mixed Aeronautics']"
      ]
     },
     "execution_count": 71,
     "metadata": {},
     "output_type": "execute_result"
    }
   ],
   "source": [
    "lista_modalidades = df_olimpiada_verao['Event'].unique().tolist()\n",
    "# print('Modalidades já disputadas nas Olimpíadas de Verão:', *lista_modalidades, sep='\\n- ')\n",
    "lista_modalidades"
   ]
  },
  {
   "cell_type": "markdown",
   "metadata": {
    "heading_collapsed": true,
    "hidden": true,
    "id": "3Thw9SwbHmVt"
   },
   "source": [
    "#### 3.4 Obtenha a lista de todos os países que já disputaram olimpíadas."
   ]
  },
  {
   "cell_type": "code",
   "execution_count": 46,
   "metadata": {
    "ExecuteTime": {
     "end_time": "2021-10-22T22:00:57.006673Z",
     "start_time": "2021-10-22T22:00:56.963701Z"
    },
    "hidden": true,
    "id": "B3DsqAwvHmVu"
   },
   "outputs": [
    {
     "name": "stdout",
     "output_type": "stream",
     "text": [
      "['China', 'Denmark', 'Netherlands', 'USA', 'Finland', 'Norway', 'Romania', 'Estonia', 'France', 'Morocco', 'Spain', 'Egypt', 'Iran', 'Bulgaria', 'Italy', 'Chad', 'Azerbaijan', 'Sudan', 'Russia', 'Argentina', 'Cuba', 'Belarus', 'Greece', 'Cameroon', 'Turkey', 'Chile', 'Mexico', 'Nicaragua', 'Hungary', 'Nigeria', 'Algeria', 'Kuwait', 'Bahrain', 'Pakistan', 'Iraq', 'Syria', 'Lebanon', 'Qatar', 'Malaysia', 'Germany', 'Canada', 'Ireland', 'Australia', 'South Africa', 'Eritrea', 'Tanzania', 'Jordan', 'Tunisia', 'Libya', 'Belgium', 'Djibouti', 'Palestine', 'Comoros', 'Kazakhstan', 'Brunei', 'India', 'Saudi Arabia', 'Maldives', 'Ethiopia', 'United Arab Emirates', 'Yemen', 'Indonesia', 'Philippines', nan, 'Uzbekistan', 'Kyrgyzstan', 'Tajikistan', 'Japan', 'Republic of Congo', 'Switzerland', 'Brazil', 'Monaco', 'Israel', 'Uruguay', 'Sweden', 'Virgin Islands, US', 'Sri Lanka', 'Armenia', 'Ivory Coast', 'Kenya', 'Benin', 'Ukraine', 'UK', 'Ghana', 'Somalia', 'Latvia', 'Niger', 'Mali', 'Afghanistan', 'Poland', 'Costa Rica', 'Panama', 'Georgia', 'Slovenia', 'Croatia', 'Guyana', 'New Zealand', 'Portugal', 'Paraguay', 'Angola', 'Venezuela', 'Colombia', 'Bangladesh', 'Peru', 'El Salvador', 'Puerto Rico', 'Uganda', 'Honduras', 'Ecuador', 'Turkmenistan', 'Mauritius', 'Seychelles', 'Czech Republic', 'Luxembourg', 'Mauritania', 'Saint Kitts', 'Trinidad', 'Dominican Republic', 'Saint Vincent', 'Jamaica', 'Liberia', 'Suriname', 'Nepal', 'Mongolia', 'Austria', 'Palau', 'Lithuania', 'Togo', 'Namibia', 'Curacao', 'Iceland', 'American Samoa', 'Samoa', 'Rwanda', 'Dominica', 'Haiti', 'Malta', 'Cyprus', 'Guinea', 'Belize', 'South Korea', 'Thailand', 'Bermuda', 'Serbia', 'Sierra Leone', 'Papua New Guinea', 'Individual Olympic Athletes', 'Oman', 'Fiji', 'Vanuatu', 'Moldova', 'Bahamas', 'Guatemala', 'Virgin Islands, British', 'Mozambique', 'Central African Republic', 'Madagascar', 'Bosnia and Herzegovina', 'Guam', 'Cayman Islands', 'Slovakia', 'Barbados', 'Guinea-Bissau', 'Timor-Leste', 'Democratic Republic of the Congo', 'Gabon', 'San Marino', 'Laos', 'Botswana', 'Cambodia', 'North Korea', 'Solomon Islands', 'Senegal', 'Cape Verde', 'Equatorial Guinea', 'Boliva', 'Andorra', 'Antigua', 'Zimbabwe', 'Grenada', 'Saint Lucia', 'Micronesia', 'Myanmar', 'Malawi', 'Zambia', 'Taiwan', 'Sao Tome and Principe', 'Macedonia', 'Tonga', 'Liechtenstein', 'Montenegro', 'Gambia', 'Cook Islands', 'Albania', 'Swaziland', 'Burkina Faso', 'Burundi', 'Aruba', 'Nauru', 'Vietnam', 'Bhutan', 'Marshall Islands', 'Kiribati', 'Kosovo', 'South Sudan', 'Lesotho']\n",
      "____________________________________________________________________________________________________________________\n",
      "Total de países que já disputaram olimpíadas: 205\n"
     ]
    }
   ],
   "source": [
    "# 'unique' --> valores únicos são devolvidos por ordem que aparecem | não aceita classificação\n",
    "lista_paises = df_dados_olimpicos['region'].unique().tolist()\n",
    "print(lista_paises)\n",
    "print(\"_\" * 116)\n",
    "# 'nunique' --> mostra quantos valores únicos existem para cada coluna | aceita classificação\n",
    "print('Total de países que já disputaram olimpíadas:',df_dados_olimpicos['region'].nunique())"
   ]
  },
  {
   "cell_type": "markdown",
   "metadata": {
    "heading_collapsed": true,
    "hidden": true,
    "id": "9vLx4ubjHmVw"
   },
   "source": [
    "#### 3.5 Qual atleta foi o maior medalhista (em medalhas totais) da história das olimpíadas de verão?"
   ]
  },
  {
   "cell_type": "code",
   "execution_count": 47,
   "metadata": {
    "ExecuteTime": {
     "end_time": "2021-10-22T22:00:58.227915Z",
     "start_time": "2021-10-22T22:00:58.172944Z"
    },
    "hidden": true,
    "scrolled": true
   },
   "outputs": [
    {
     "data": {
      "text/plain": [
       "Michael Fred Phelps, II    28\n",
       "Name: Name, dtype: int64"
      ]
     },
     "execution_count": 47,
     "metadata": {},
     "output_type": "execute_result"
    }
   ],
   "source": [
    "maior_medalhista_total = df_olimpiada_verao[df_olimpiada_verao['Medal'].notna()]\n",
    "maior_medalhista_total['Name'].value_counts().head(1)"
   ]
  },
  {
   "cell_type": "markdown",
   "metadata": {
    "heading_collapsed": true,
    "hidden": true,
    "id": "L7wu6-j3HmV1"
   },
   "source": [
    "#### 3.6 Qual atleta foi o maior medalhista de ouro da história das olimpíadas de verão?"
   ]
  },
  {
   "cell_type": "code",
   "execution_count": 48,
   "metadata": {
    "ExecuteTime": {
     "end_time": "2021-10-22T22:00:59.361375Z",
     "start_time": "2021-10-22T22:00:59.322398Z"
    },
    "hidden": true,
    "id": "A81AD251HmV2"
   },
   "outputs": [
    {
     "data": {
      "text/plain": [
       "Michael Fred Phelps, II    23\n",
       "Name: Name, dtype: int64"
      ]
     },
     "execution_count": 48,
     "metadata": {},
     "output_type": "execute_result"
    }
   ],
   "source": [
    "maior_medalhista_ouro = df_olimpiada_verao[df_olimpiada_verao['Medal']=='Gold']['Name'].value_counts()\n",
    "maior_medalhista_ouro.head(1)"
   ]
  },
  {
   "cell_type": "markdown",
   "metadata": {
    "heading_collapsed": true,
    "hidden": true,
    "id": "uVrHx61vHmV2"
   },
   "source": [
    "#### 3.7 Qual país foi o maior medalhista de ouro da história das olimpíadas de verão? Lembre-se da questão do evento esportivo, para não considerar múltiplas medalhas para um mesmo evento (ex: uma equipe de futebol fazendo parecer que mais de 20 medalhas foram distribuídas)."
   ]
  },
  {
   "cell_type": "code",
   "execution_count": 49,
   "metadata": {
    "ExecuteTime": {
     "end_time": "2021-10-22T22:01:00.699990Z",
     "start_time": "2021-10-22T22:01:00.651009Z"
    },
    "hidden": true,
    "id": "XlXRfTMLHmV2"
   },
   "outputs": [
    {
     "name": "stderr",
     "output_type": "stream",
     "text": [
      "<ipython-input-49-7258c888c9bd>:1: UserWarning: Boolean Series key will be reindexed to match DataFrame index.\n",
      "  mais_ouro_historia = df_dados_tratados[df_dados_olimpicos['Medal']=='Gold']['NOC'].value_counts()\n"
     ]
    },
    {
     "data": {
      "text/plain": [
       "USA    1131\n",
       "Name: NOC, dtype: int64"
      ]
     },
     "execution_count": 49,
     "metadata": {},
     "output_type": "execute_result"
    }
   ],
   "source": [
    "mais_ouro_historia = df_dados_tratados[df_dados_olimpicos['Medal']=='Gold']['NOC'].value_counts()\n",
    "mais_ouro_historia.head(1)"
   ]
  },
  {
   "cell_type": "markdown",
   "metadata": {
    "heading_collapsed": true,
    "hidden": true,
    "id": "iqGAJHVPHmV2"
   },
   "source": [
    "#### 3.8 Qual país foi o maior medalhista em medalhas totais na história das olimpíadas de verão?"
   ]
  },
  {
   "cell_type": "code",
   "execution_count": 50,
   "metadata": {
    "ExecuteTime": {
     "end_time": "2021-10-22T22:01:01.821751Z",
     "start_time": "2021-10-22T22:01:01.792767Z"
    },
    "hidden": true,
    "id": "ap9CkkZdHmV2"
   },
   "outputs": [
    {
     "data": {
      "text/plain": [
       "United States    6877\n",
       "Name: Team, dtype: int64"
      ]
     },
     "execution_count": 50,
     "metadata": {},
     "output_type": "execute_result"
    }
   ],
   "source": [
    "ranking_paises = df_dados_tratados.Team.value_counts().sort_values(ascending=False).head(1)\n",
    "ranking_paises.head(1)"
   ]
  },
  {
   "cell_type": "markdown",
   "metadata": {
    "heading_collapsed": true,
    "hidden": true,
    "id": "GmC8UgrqHmV3"
   },
   "source": [
    "#### 3.9 Obtenha o total de medalhas de ouro, prata e total por edição das Olimpíadas de verão. Lembre-se da questão do evento esportivo."
   ]
  },
  {
   "cell_type": "code",
   "execution_count": 51,
   "metadata": {
    "ExecuteTime": {
     "end_time": "2021-10-22T22:01:03.036658Z",
     "start_time": "2021-10-22T22:01:02.942711Z"
    },
    "hidden": true,
    "id": "kOqVELzVHmV3"
   },
   "outputs": [
    {
     "data": {
      "text/html": [
       "<div>\n",
       "<style scoped>\n",
       "    .dataframe tbody tr th:only-of-type {\n",
       "        vertical-align: middle;\n",
       "    }\n",
       "\n",
       "    .dataframe tbody tr th {\n",
       "        vertical-align: top;\n",
       "    }\n",
       "\n",
       "    .dataframe thead th {\n",
       "        text-align: right;\n",
       "    }\n",
       "</style>\n",
       "<table border=\"1\" class=\"dataframe\">\n",
       "  <thead>\n",
       "    <tr style=\"text-align: right;\">\n",
       "      <th></th>\n",
       "      <th>Year</th>\n",
       "      <th>Gold</th>\n",
       "      <th>Silver</th>\n",
       "      <th>Bronze</th>\n",
       "    </tr>\n",
       "  </thead>\n",
       "  <tbody>\n",
       "    <tr>\n",
       "      <th>0</th>\n",
       "      <td>1896</td>\n",
       "      <td>44.0</td>\n",
       "      <td>41.0</td>\n",
       "      <td>35.0</td>\n",
       "    </tr>\n",
       "    <tr>\n",
       "      <th>1</th>\n",
       "      <td>1900</td>\n",
       "      <td>102.0</td>\n",
       "      <td>99.0</td>\n",
       "      <td>99.0</td>\n",
       "    </tr>\n",
       "    <tr>\n",
       "      <th>2</th>\n",
       "      <td>1904</td>\n",
       "      <td>97.0</td>\n",
       "      <td>93.0</td>\n",
       "      <td>90.0</td>\n",
       "    </tr>\n",
       "    <tr>\n",
       "      <th>3</th>\n",
       "      <td>1906</td>\n",
       "      <td>74.0</td>\n",
       "      <td>77.0</td>\n",
       "      <td>73.0</td>\n",
       "    </tr>\n",
       "    <tr>\n",
       "      <th>4</th>\n",
       "      <td>1908</td>\n",
       "      <td>109.0</td>\n",
       "      <td>107.0</td>\n",
       "      <td>106.0</td>\n",
       "    </tr>\n",
       "    <tr>\n",
       "      <th>5</th>\n",
       "      <td>1912</td>\n",
       "      <td>108.0</td>\n",
       "      <td>104.0</td>\n",
       "      <td>104.0</td>\n",
       "    </tr>\n",
       "    <tr>\n",
       "      <th>6</th>\n",
       "      <td>1920</td>\n",
       "      <td>158.0</td>\n",
       "      <td>152.0</td>\n",
       "      <td>139.0</td>\n",
       "    </tr>\n",
       "    <tr>\n",
       "      <th>7</th>\n",
       "      <td>1924</td>\n",
       "      <td>149.0</td>\n",
       "      <td>147.0</td>\n",
       "      <td>148.0</td>\n",
       "    </tr>\n",
       "    <tr>\n",
       "      <th>8</th>\n",
       "      <td>1928</td>\n",
       "      <td>133.0</td>\n",
       "      <td>130.0</td>\n",
       "      <td>134.0</td>\n",
       "    </tr>\n",
       "    <tr>\n",
       "      <th>9</th>\n",
       "      <td>1932</td>\n",
       "      <td>139.0</td>\n",
       "      <td>139.0</td>\n",
       "      <td>134.0</td>\n",
       "    </tr>\n",
       "    <tr>\n",
       "      <th>10</th>\n",
       "      <td>1936</td>\n",
       "      <td>158.0</td>\n",
       "      <td>157.0</td>\n",
       "      <td>158.0</td>\n",
       "    </tr>\n",
       "    <tr>\n",
       "      <th>11</th>\n",
       "      <td>1948</td>\n",
       "      <td>166.0</td>\n",
       "      <td>169.0</td>\n",
       "      <td>170.0</td>\n",
       "    </tr>\n",
       "    <tr>\n",
       "      <th>12</th>\n",
       "      <td>1952</td>\n",
       "      <td>171.0</td>\n",
       "      <td>173.0</td>\n",
       "      <td>180.0</td>\n",
       "    </tr>\n",
       "    <tr>\n",
       "      <th>13</th>\n",
       "      <td>1956</td>\n",
       "      <td>177.0</td>\n",
       "      <td>176.0</td>\n",
       "      <td>185.0</td>\n",
       "    </tr>\n",
       "    <tr>\n",
       "      <th>14</th>\n",
       "      <td>1960</td>\n",
       "      <td>180.0</td>\n",
       "      <td>175.0</td>\n",
       "      <td>187.0</td>\n",
       "    </tr>\n",
       "    <tr>\n",
       "      <th>15</th>\n",
       "      <td>1964</td>\n",
       "      <td>197.0</td>\n",
       "      <td>204.0</td>\n",
       "      <td>203.0</td>\n",
       "    </tr>\n",
       "    <tr>\n",
       "      <th>16</th>\n",
       "      <td>1968</td>\n",
       "      <td>209.0</td>\n",
       "      <td>207.0</td>\n",
       "      <td>215.0</td>\n",
       "    </tr>\n",
       "    <tr>\n",
       "      <th>17</th>\n",
       "      <td>1972</td>\n",
       "      <td>231.0</td>\n",
       "      <td>229.0</td>\n",
       "      <td>245.0</td>\n",
       "    </tr>\n",
       "    <tr>\n",
       "      <th>18</th>\n",
       "      <td>1976</td>\n",
       "      <td>235.0</td>\n",
       "      <td>236.0</td>\n",
       "      <td>253.0</td>\n",
       "    </tr>\n",
       "    <tr>\n",
       "      <th>19</th>\n",
       "      <td>1980</td>\n",
       "      <td>242.0</td>\n",
       "      <td>243.0</td>\n",
       "      <td>261.0</td>\n",
       "    </tr>\n",
       "    <tr>\n",
       "      <th>20</th>\n",
       "      <td>1984</td>\n",
       "      <td>263.0</td>\n",
       "      <td>257.0</td>\n",
       "      <td>282.0</td>\n",
       "    </tr>\n",
       "    <tr>\n",
       "      <th>21</th>\n",
       "      <td>1988</td>\n",
       "      <td>286.0</td>\n",
       "      <td>280.0</td>\n",
       "      <td>310.0</td>\n",
       "    </tr>\n",
       "    <tr>\n",
       "      <th>22</th>\n",
       "      <td>1992</td>\n",
       "      <td>315.0</td>\n",
       "      <td>314.0</td>\n",
       "      <td>353.0</td>\n",
       "    </tr>\n",
       "    <tr>\n",
       "      <th>23</th>\n",
       "      <td>1994</td>\n",
       "      <td>59.0</td>\n",
       "      <td>60.0</td>\n",
       "      <td>61.0</td>\n",
       "    </tr>\n",
       "    <tr>\n",
       "      <th>24</th>\n",
       "      <td>1996</td>\n",
       "      <td>271.0</td>\n",
       "      <td>273.0</td>\n",
       "      <td>297.0</td>\n",
       "    </tr>\n",
       "    <tr>\n",
       "      <th>25</th>\n",
       "      <td>1998</td>\n",
       "      <td>67.0</td>\n",
       "      <td>67.0</td>\n",
       "      <td>68.0</td>\n",
       "    </tr>\n",
       "    <tr>\n",
       "      <th>26</th>\n",
       "      <td>2000</td>\n",
       "      <td>299.0</td>\n",
       "      <td>300.0</td>\n",
       "      <td>326.0</td>\n",
       "    </tr>\n",
       "    <tr>\n",
       "      <th>27</th>\n",
       "      <td>2002</td>\n",
       "      <td>79.0</td>\n",
       "      <td>76.0</td>\n",
       "      <td>78.0</td>\n",
       "    </tr>\n",
       "    <tr>\n",
       "      <th>28</th>\n",
       "      <td>2004</td>\n",
       "      <td>301.0</td>\n",
       "      <td>300.0</td>\n",
       "      <td>326.0</td>\n",
       "    </tr>\n",
       "    <tr>\n",
       "      <th>29</th>\n",
       "      <td>2006</td>\n",
       "      <td>84.0</td>\n",
       "      <td>84.0</td>\n",
       "      <td>84.0</td>\n",
       "    </tr>\n",
       "    <tr>\n",
       "      <th>30</th>\n",
       "      <td>2008</td>\n",
       "      <td>304.0</td>\n",
       "      <td>304.0</td>\n",
       "      <td>355.0</td>\n",
       "    </tr>\n",
       "    <tr>\n",
       "      <th>31</th>\n",
       "      <td>2010</td>\n",
       "      <td>86.0</td>\n",
       "      <td>87.0</td>\n",
       "      <td>85.0</td>\n",
       "    </tr>\n",
       "    <tr>\n",
       "      <th>32</th>\n",
       "      <td>2012</td>\n",
       "      <td>302.0</td>\n",
       "      <td>304.0</td>\n",
       "      <td>356.0</td>\n",
       "    </tr>\n",
       "    <tr>\n",
       "      <th>33</th>\n",
       "      <td>2014</td>\n",
       "      <td>99.0</td>\n",
       "      <td>97.0</td>\n",
       "      <td>99.0</td>\n",
       "    </tr>\n",
       "    <tr>\n",
       "      <th>34</th>\n",
       "      <td>2016</td>\n",
       "      <td>307.0</td>\n",
       "      <td>306.0</td>\n",
       "      <td>360.0</td>\n",
       "    </tr>\n",
       "  </tbody>\n",
       "</table>\n",
       "</div>"
      ],
      "text/plain": [
       "    Year   Gold  Silver  Bronze\n",
       "0   1896   44.0    41.0    35.0\n",
       "1   1900  102.0    99.0    99.0\n",
       "2   1904   97.0    93.0    90.0\n",
       "3   1906   74.0    77.0    73.0\n",
       "4   1908  109.0   107.0   106.0\n",
       "5   1912  108.0   104.0   104.0\n",
       "6   1920  158.0   152.0   139.0\n",
       "7   1924  149.0   147.0   148.0\n",
       "8   1928  133.0   130.0   134.0\n",
       "9   1932  139.0   139.0   134.0\n",
       "10  1936  158.0   157.0   158.0\n",
       "11  1948  166.0   169.0   170.0\n",
       "12  1952  171.0   173.0   180.0\n",
       "13  1956  177.0   176.0   185.0\n",
       "14  1960  180.0   175.0   187.0\n",
       "15  1964  197.0   204.0   203.0\n",
       "16  1968  209.0   207.0   215.0\n",
       "17  1972  231.0   229.0   245.0\n",
       "18  1976  235.0   236.0   253.0\n",
       "19  1980  242.0   243.0   261.0\n",
       "20  1984  263.0   257.0   282.0\n",
       "21  1988  286.0   280.0   310.0\n",
       "22  1992  315.0   314.0   353.0\n",
       "23  1994   59.0    60.0    61.0\n",
       "24  1996  271.0   273.0   297.0\n",
       "25  1998   67.0    67.0    68.0\n",
       "26  2000  299.0   300.0   326.0\n",
       "27  2002   79.0    76.0    78.0\n",
       "28  2004  301.0   300.0   326.0\n",
       "29  2006   84.0    84.0    84.0\n",
       "30  2008  304.0   304.0   355.0\n",
       "31  2010   86.0    87.0    85.0\n",
       "32  2012  302.0   304.0   356.0\n",
       "33  2014   99.0    97.0    99.0\n",
       "34  2016  307.0   306.0   360.0"
      ]
     },
     "execution_count": 51,
     "metadata": {},
     "output_type": "execute_result"
    }
   ],
   "source": [
    "df_total_por_ano = df_dados_tratados.groupby('Year').sum()[['Gold','Silver','Bronze']].sort_values('Year',ascending=True).reset_index()\n",
    "df_total_por_ano"
   ]
  },
  {
   "cell_type": "markdown",
   "metadata": {
    "id": "FPseOrqQHmV3"
   },
   "source": [
    "### 4. Brasil vs Mundo"
   ]
  },
  {
   "cell_type": "markdown",
   "metadata": {
    "heading_collapsed": true,
    "id": "e0m_XuvYHmV4"
   },
   "source": [
    "#### 4.1 Para finalizar, vamos fazer algumas comparações entre Brasil e mundo. Qual o ranking do Brasil em cada edição das olimpíadas? Lembrando que o ranking é ordenado por medalhas de ouro."
   ]
  },
  {
   "cell_type": "code",
   "execution_count": 52,
   "metadata": {
    "ExecuteTime": {
     "end_time": "2021-10-22T22:01:04.708972Z",
     "start_time": "2021-10-22T22:01:04.657981Z"
    }
   },
   "outputs": [],
   "source": [
    "summer = ['Summer']\n",
    "df_dados_tratados = df_dados_tratados[df_dados_tratados.Season.isin(summer)]"
   ]
  },
  {
   "cell_type": "code",
   "execution_count": 53,
   "metadata": {
    "ExecuteTime": {
     "end_time": "2021-10-22T22:01:05.254685Z",
     "start_time": "2021-10-22T22:01:05.157741Z"
    },
    "hidden": true,
    "scrolled": false
   },
   "outputs": [
    {
     "data": {
      "text/html": [
       "<div>\n",
       "<style scoped>\n",
       "    .dataframe tbody tr th:only-of-type {\n",
       "        vertical-align: middle;\n",
       "    }\n",
       "\n",
       "    .dataframe tbody tr th {\n",
       "        vertical-align: top;\n",
       "    }\n",
       "\n",
       "    .dataframe thead th {\n",
       "        text-align: right;\n",
       "    }\n",
       "</style>\n",
       "<table border=\"1\" class=\"dataframe\">\n",
       "  <thead>\n",
       "    <tr style=\"text-align: right;\">\n",
       "      <th></th>\n",
       "      <th>NOC</th>\n",
       "      <th>Medal</th>\n",
       "      <th>Quantidade de medalhas</th>\n",
       "      <th>Ranking</th>\n",
       "    </tr>\n",
       "    <tr>\n",
       "      <th>Year</th>\n",
       "      <th></th>\n",
       "      <th></th>\n",
       "      <th></th>\n",
       "      <th></th>\n",
       "    </tr>\n",
       "  </thead>\n",
       "  <tbody>\n",
       "    <tr>\n",
       "      <th>1920</th>\n",
       "      <td>BRA</td>\n",
       "      <td>Gold</td>\n",
       "      <td>1</td>\n",
       "      <td>7</td>\n",
       "    </tr>\n",
       "    <tr>\n",
       "      <th>1952</th>\n",
       "      <td>BRA</td>\n",
       "      <td>Gold</td>\n",
       "      <td>1</td>\n",
       "      <td>12</td>\n",
       "    </tr>\n",
       "    <tr>\n",
       "      <th>1956</th>\n",
       "      <td>BRA</td>\n",
       "      <td>Gold</td>\n",
       "      <td>1</td>\n",
       "      <td>9</td>\n",
       "    </tr>\n",
       "    <tr>\n",
       "      <th>1980</th>\n",
       "      <td>BRA</td>\n",
       "      <td>Gold</td>\n",
       "      <td>2</td>\n",
       "      <td>9</td>\n",
       "    </tr>\n",
       "    <tr>\n",
       "      <th>1984</th>\n",
       "      <td>BRA</td>\n",
       "      <td>Gold</td>\n",
       "      <td>1</td>\n",
       "      <td>13</td>\n",
       "    </tr>\n",
       "    <tr>\n",
       "      <th>1988</th>\n",
       "      <td>BRA</td>\n",
       "      <td>Gold</td>\n",
       "      <td>1</td>\n",
       "      <td>11</td>\n",
       "    </tr>\n",
       "    <tr>\n",
       "      <th>1992</th>\n",
       "      <td>BRA</td>\n",
       "      <td>Gold</td>\n",
       "      <td>2</td>\n",
       "      <td>11</td>\n",
       "    </tr>\n",
       "    <tr>\n",
       "      <th>1996</th>\n",
       "      <td>BRA</td>\n",
       "      <td>Gold</td>\n",
       "      <td>3</td>\n",
       "      <td>22</td>\n",
       "    </tr>\n",
       "    <tr>\n",
       "      <th>2004</th>\n",
       "      <td>BRA</td>\n",
       "      <td>Gold</td>\n",
       "      <td>5</td>\n",
       "      <td>18</td>\n",
       "    </tr>\n",
       "    <tr>\n",
       "      <th>2008</th>\n",
       "      <td>BRA</td>\n",
       "      <td>Gold</td>\n",
       "      <td>3</td>\n",
       "      <td>24</td>\n",
       "    </tr>\n",
       "    <tr>\n",
       "      <th>2012</th>\n",
       "      <td>BRA</td>\n",
       "      <td>Gold</td>\n",
       "      <td>3</td>\n",
       "      <td>23</td>\n",
       "    </tr>\n",
       "    <tr>\n",
       "      <th>2016</th>\n",
       "      <td>BRA</td>\n",
       "      <td>Gold</td>\n",
       "      <td>7</td>\n",
       "      <td>22</td>\n",
       "    </tr>\n",
       "  </tbody>\n",
       "</table>\n",
       "</div>"
      ],
      "text/plain": [
       "      NOC Medal  Quantidade de medalhas  Ranking\n",
       "Year                                            \n",
       "1920  BRA  Gold                       1        7\n",
       "1952  BRA  Gold                       1       12\n",
       "1956  BRA  Gold                       1        9\n",
       "1980  BRA  Gold                       2        9\n",
       "1984  BRA  Gold                       1       13\n",
       "1988  BRA  Gold                       1       11\n",
       "1992  BRA  Gold                       2       11\n",
       "1996  BRA  Gold                       3       22\n",
       "2004  BRA  Gold                       5       18\n",
       "2008  BRA  Gold                       3       24\n",
       "2012  BRA  Gold                       3       23\n",
       "2016  BRA  Gold                       7       22"
      ]
     },
     "execution_count": 53,
     "metadata": {},
     "output_type": "execute_result"
    }
   ],
   "source": [
    "ranking_brasil =df_dados_tratados.groupby(by=['Year','NOC'])['Medal'].value_counts().to_frame(name='Quantidade de medalhas')\n",
    "\n",
    "ranking_brasil.rename(columns = {'NOC': 'Gold Medals'}, inplace=True)\n",
    "\n",
    "ranking_brasil_2 = ranking_brasil.copy()\n",
    "\n",
    "df_cumcount = ranking_brasil_2.groupby('Year').cumcount()\n",
    "\n",
    "ranking_brasil_2['Ranking'] = df_cumcount + 1\n",
    "\n",
    "ranking_brasil_2.reset_index(inplace=True)\n",
    "\n",
    "df_final = ranking_brasil_2[ranking_brasil_2['NOC'] == 'BRA']\n",
    "\n",
    "df_temp = df_final['Medal']=='Gold'\n",
    "\n",
    "df_final = df_final[df_temp]\n",
    "\n",
    "df_final.set_index('Year',inplace=True)\n",
    "\n",
    "df_final"
   ]
  },
  {
   "cell_type": "markdown",
   "metadata": {
    "heading_collapsed": true,
    "id": "hwo26fzqHmV4"
   },
   "source": [
    "#### 4.2 Compare o maior medalhista em ouros do Brasil com o maior medalhista em ouros do mundo."
   ]
  },
  {
   "cell_type": "code",
   "execution_count": 54,
   "metadata": {
    "ExecuteTime": {
     "end_time": "2021-10-22T22:01:06.390960Z",
     "start_time": "2021-10-22T22:01:06.374973Z"
    },
    "hidden": true,
    "id": "PBd_P1hLHmV4"
   },
   "outputs": [
    {
     "name": "stdout",
     "output_type": "stream",
     "text": [
      "Maior medalhista de ouro em comparação direta EUA x BRA:\n",
      "\n",
      "------------Mundo------------\n",
      "Michael Fred Phelps, II    23\n",
      "Name: Name, dtype: int64\n",
      "\n",
      "-------- ---Brasil-----------\n",
      "Marcelo Bastos Ferreira    2\n",
      "Name: Name, dtype: int64\n"
     ]
    }
   ],
   "source": [
    "print('Maior medalhista de ouro em comparação direta EUA x BRA:')\n",
    "print('\\n------------Mundo------------')\n",
    "print(maior_medalhista_ouro.head(1))\n",
    "print('\\n-------- ---Brasil-----------')\n",
    "print(medalhistas_ouro.head(1))"
   ]
  },
  {
   "cell_type": "markdown",
   "metadata": {
    "heading_collapsed": true,
    "id": "lHOdHecnHmV5"
   },
   "source": [
    "#### 4.3 Compare o maior medalhista em total de medalhas do Brasil com o maior medalhista em total de medalhas do mundo."
   ]
  },
  {
   "cell_type": "code",
   "execution_count": 55,
   "metadata": {
    "ExecuteTime": {
     "end_time": "2021-10-22T22:01:07.474863Z",
     "start_time": "2021-10-22T22:01:07.445880Z"
    },
    "hidden": true,
    "id": "xwSfGYinHmV5"
   },
   "outputs": [
    {
     "name": "stdout",
     "output_type": "stream",
     "text": [
      "Maior medalhista geral em comparação direta EUA x BRA:\n",
      "----------Estados Unidos da América----------\n",
      "Michael Fred Phelps, II    28\n",
      "Name: Name, dtype: int64\n",
      "--------------------Brasil-------------------\n",
      "                   Name  Medals    Sport\n",
      "0  Torben Schmidt Grael       5  Sailing\n"
     ]
    }
   ],
   "source": [
    "print('Maior medalhista geral em comparação direta EUA x BRA:')\n",
    "print('----------Estados Unidos da América----------')\n",
    "print(maior_medalhista_total['Name'].value_counts().head(1))\n",
    "print('--------------------Brasil-------------------')\n",
    "print(top_atletas_br.head(1))"
   ]
  },
  {
   "cell_type": "markdown",
   "metadata": {
    "heading_collapsed": true,
    "id": "7Nzov9NkHmV5"
   },
   "source": [
    "#### 4.4 Compare o maior medalhista em ouros do Brasil com o maior medalhista do mundo no mesmo esporte."
   ]
  },
  {
   "cell_type": "code",
   "execution_count": 56,
   "metadata": {
    "ExecuteTime": {
     "end_time": "2021-10-22T22:01:08.549954Z",
     "start_time": "2021-10-22T22:01:08.504961Z"
    },
    "hidden": true,
    "id": "LLk049v-HmV5"
   },
   "outputs": [
    {
     "name": "stdout",
     "output_type": "stream",
     "text": [
      "--------------------Brasil-------------------\n",
      "                   Name  Gold  Silver  Bronze\n",
      "0  Torben Schmidt Grael     2       1       2\n",
      "--------------------Mundo--------------------\n",
      "                             Name  Gold  Silver  Bronze\n",
      "0  Charles Benedict \"Ben\" Ainslie     4       1       0\n"
     ]
    }
   ],
   "source": [
    "print('--------------------Brasil-------------------')\n",
    "gold_br = df_brasil_olimpico[df_brasil_olimpico['Sport']=='Sailing']\n",
    "print(gold_br.groupby('Name').sum()[['Gold','Silver','Bronze']].sort_values('Gold',ascending=False).reset_index().head(1))\n",
    "print('--------------------Mundo--------------------')\n",
    "best_sailor = df_dados_tratados[df_dados_tratados['Sport']=='Sailing']\n",
    "print(best_sailor.groupby('Name').sum()[['Gold','Silver','Bronze']].sort_values('Gold',ascending=False).reset_index().head(1))"
   ]
  },
  {
   "cell_type": "markdown",
   "metadata": {
    "heading_collapsed": true,
    "id": "SzL10hy6HmWA"
   },
   "source": [
    "#### 4.5 Compare o maior medalhista em total de medalhas do Brasil com o maior medalhista do mundo no mesmo esporte."
   ]
  },
  {
   "cell_type": "code",
   "execution_count": 57,
   "metadata": {
    "ExecuteTime": {
     "end_time": "2021-10-22T22:01:09.640954Z",
     "start_time": "2021-10-22T22:01:09.609955Z"
    },
    "hidden": true
   },
   "outputs": [
    {
     "name": "stdout",
     "output_type": "stream",
     "text": [
      "--------------------Brasil-------------------\n",
      "                   Name  Medals    Sport\n",
      "0  Torben Schmidt Grael       5  Sailing\n",
      "--------------------Mundo--------------------\n",
      "                             Name  Gold  Silver  Bronze\n",
      "0  Charles Benedict \"Ben\" Ainslie     4       1       0\n"
     ]
    }
   ],
   "source": [
    "print('--------------------Brasil-------------------')\n",
    "print(top_atletas_br.head(1))\n",
    "print('--------------------Mundo--------------------')\n",
    "print(best_sailor.groupby('Name').sum()[['Gold','Silver','Bronze']].sort_values('Gold',ascending=False).reset_index().head(1))"
   ]
  },
  {
   "cell_type": "markdown",
   "metadata": {
    "id": "c2d6MqKuHmWz"
   },
   "source": [
    "#### 4.6 Calcule o percentual de medalhas de ouro, prata e bronze que o Brasil ganhou em cada olimpíada."
   ]
  },
  {
   "cell_type": "markdown",
   "metadata": {
    "heading_collapsed": true
   },
   "source": [
    "#### Em relação ao total brasileiro de medalhas"
   ]
  },
  {
   "cell_type": "code",
   "execution_count": 58,
   "metadata": {
    "ExecuteTime": {
     "end_time": "2021-10-22T22:01:11.200086Z",
     "start_time": "2021-10-22T22:01:11.174100Z"
    },
    "hidden": true,
    "scrolled": true
   },
   "outputs": [
    {
     "data": {
      "text/html": [
       "<div>\n",
       "<style scoped>\n",
       "    .dataframe tbody tr th:only-of-type {\n",
       "        vertical-align: middle;\n",
       "    }\n",
       "\n",
       "    .dataframe tbody tr th {\n",
       "        vertical-align: top;\n",
       "    }\n",
       "\n",
       "    .dataframe thead th {\n",
       "        text-align: right;\n",
       "    }\n",
       "</style>\n",
       "<table border=\"1\" class=\"dataframe\">\n",
       "  <thead>\n",
       "    <tr style=\"text-align: right;\">\n",
       "      <th></th>\n",
       "      <th>Year</th>\n",
       "      <th>Gold</th>\n",
       "      <th>Silver</th>\n",
       "      <th>Bronze</th>\n",
       "      <th>Total</th>\n",
       "      <th>% Gold</th>\n",
       "      <th>% Silver</th>\n",
       "      <th>% Bronze</th>\n",
       "    </tr>\n",
       "  </thead>\n",
       "  <tbody>\n",
       "    <tr>\n",
       "      <th>9</th>\n",
       "      <td>1964</td>\n",
       "      <td>0</td>\n",
       "      <td>0</td>\n",
       "      <td>1</td>\n",
       "      <td>1</td>\n",
       "      <td>0.000000</td>\n",
       "      <td>0.000000</td>\n",
       "      <td>100.000000</td>\n",
       "    </tr>\n",
       "    <tr>\n",
       "      <th>5</th>\n",
       "      <td>1948</td>\n",
       "      <td>0</td>\n",
       "      <td>0</td>\n",
       "      <td>1</td>\n",
       "      <td>1</td>\n",
       "      <td>0.000000</td>\n",
       "      <td>0.000000</td>\n",
       "      <td>100.000000</td>\n",
       "    </tr>\n",
       "    <tr>\n",
       "      <th>14</th>\n",
       "      <td>1984</td>\n",
       "      <td>1</td>\n",
       "      <td>5</td>\n",
       "      <td>2</td>\n",
       "      <td>8</td>\n",
       "      <td>12.500000</td>\n",
       "      <td>62.500000</td>\n",
       "      <td>25.000000</td>\n",
       "    </tr>\n",
       "    <tr>\n",
       "      <th>18</th>\n",
       "      <td>1996</td>\n",
       "      <td>3</td>\n",
       "      <td>3</td>\n",
       "      <td>9</td>\n",
       "      <td>15</td>\n",
       "      <td>20.000000</td>\n",
       "      <td>20.000000</td>\n",
       "      <td>60.000000</td>\n",
       "    </tr>\n",
       "    <tr>\n",
       "      <th>22</th>\n",
       "      <td>2004</td>\n",
       "      <td>5</td>\n",
       "      <td>2</td>\n",
       "      <td>3</td>\n",
       "      <td>10</td>\n",
       "      <td>50.000000</td>\n",
       "      <td>20.000000</td>\n",
       "      <td>30.000000</td>\n",
       "    </tr>\n",
       "    <tr>\n",
       "      <th>8</th>\n",
       "      <td>1960</td>\n",
       "      <td>0</td>\n",
       "      <td>0</td>\n",
       "      <td>2</td>\n",
       "      <td>2</td>\n",
       "      <td>0.000000</td>\n",
       "      <td>0.000000</td>\n",
       "      <td>100.000000</td>\n",
       "    </tr>\n",
       "    <tr>\n",
       "      <th>7</th>\n",
       "      <td>1956</td>\n",
       "      <td>1</td>\n",
       "      <td>0</td>\n",
       "      <td>0</td>\n",
       "      <td>1</td>\n",
       "      <td>100.000000</td>\n",
       "      <td>0.000000</td>\n",
       "      <td>0.000000</td>\n",
       "    </tr>\n",
       "    <tr>\n",
       "      <th>13</th>\n",
       "      <td>1980</td>\n",
       "      <td>2</td>\n",
       "      <td>0</td>\n",
       "      <td>2</td>\n",
       "      <td>4</td>\n",
       "      <td>50.000000</td>\n",
       "      <td>0.000000</td>\n",
       "      <td>50.000000</td>\n",
       "    </tr>\n",
       "    <tr>\n",
       "      <th>6</th>\n",
       "      <td>1952</td>\n",
       "      <td>1</td>\n",
       "      <td>0</td>\n",
       "      <td>2</td>\n",
       "      <td>3</td>\n",
       "      <td>33.333333</td>\n",
       "      <td>0.000000</td>\n",
       "      <td>66.666667</td>\n",
       "    </tr>\n",
       "    <tr>\n",
       "      <th>28</th>\n",
       "      <td>2016</td>\n",
       "      <td>7</td>\n",
       "      <td>6</td>\n",
       "      <td>6</td>\n",
       "      <td>19</td>\n",
       "      <td>36.842105</td>\n",
       "      <td>31.578947</td>\n",
       "      <td>31.578947</td>\n",
       "    </tr>\n",
       "  </tbody>\n",
       "</table>\n",
       "</div>"
      ],
      "text/plain": [
       "    Year  Gold  Silver  Bronze  Total      % Gold   % Silver    % Bronze\n",
       "9   1964     0       0       1      1    0.000000   0.000000  100.000000\n",
       "5   1948     0       0       1      1    0.000000   0.000000  100.000000\n",
       "14  1984     1       5       2      8   12.500000  62.500000   25.000000\n",
       "18  1996     3       3       9     15   20.000000  20.000000   60.000000\n",
       "22  2004     5       2       3     10   50.000000  20.000000   30.000000\n",
       "8   1960     0       0       2      2    0.000000   0.000000  100.000000\n",
       "7   1956     1       0       0      1  100.000000   0.000000    0.000000\n",
       "13  1980     2       0       2      4   50.000000   0.000000   50.000000\n",
       "6   1952     1       0       2      3   33.333333   0.000000   66.666667\n",
       "28  2016     7       6       6     19   36.842105  31.578947   31.578947"
      ]
     },
     "execution_count": 58,
     "metadata": {},
     "output_type": "execute_result"
    }
   ],
   "source": [
    "# PERCENTUAIS MEDALHAS BRASIL EM RELAÇÃO AO PRÓPRIO BRASIL\n",
    "total = medalhas_brasil_totais['Gold'] + medalhas_brasil_totais['Silver'] + medalhas_brasil_totais['Bronze']\n",
    "medalhas_brasil_totais['% Gold'] = medalhas_brasil_totais['Gold'] / total * 100\n",
    "medalhas_brasil_totais['% Silver'] = medalhas_brasil_totais['Silver'] / total * 100\n",
    "medalhas_brasil_totais['% Bronze'] = medalhas_brasil_totais['Bronze'] / total * 100\n",
    "# medalhas_brasil_totais.fillna(0, inplace=True)\n",
    "medalhas_brasil_totais.dropna(axis=0,inplace=True)\n",
    "medalhas_brasil_totais.sample(10)"
   ]
  },
  {
   "cell_type": "markdown",
   "metadata": {
    "heading_collapsed": true
   },
   "source": [
    "#### Em relação ao total de medalhas distribuídos por edição"
   ]
  },
  {
   "cell_type": "code",
   "execution_count": 59,
   "metadata": {
    "ExecuteTime": {
     "end_time": "2021-10-22T22:01:12.313179Z",
     "start_time": "2021-10-22T22:01:12.289173Z"
    },
    "hidden": true
   },
   "outputs": [
    {
     "data": {
      "text/plain": [
       "Year  Medal \n",
       "1920  Bronze    0.131579\n",
       "      Gold      0.026316\n",
       "      Silver    0.026316\n",
       "dtype: float64"
      ]
     },
     "execution_count": 59,
     "metadata": {},
     "output_type": "execute_result"
    }
   ],
   "source": [
    "# PERCENTUAIS MEDALHAS BRASIL EM RELAÇÃO AO TOTAL DE MEDALHAS EM DISPUTA\n",
    "percentual_em_relacao_total = df_brasil_olimpico.groupby(['Year', 'Medal']).size() / df_brasil_olimpico.groupby('Year').size()\n",
    "percentual_em_relacao_total.head(3)"
   ]
  },
  {
   "cell_type": "markdown",
   "metadata": {},
   "source": [
    "#### EXTRAS"
   ]
  },
  {
   "cell_type": "code",
   "execution_count": 72,
   "metadata": {
    "ExecuteTime": {
     "end_time": "2021-10-22T23:46:32.274125Z",
     "start_time": "2021-10-22T23:46:31.932318Z"
    },
    "id": "tTPPOzzWHmVZ",
    "scrolled": true
   },
   "outputs": [
    {
     "data": {
      "text/html": [
       "<div>\n",
       "<style scoped>\n",
       "    .dataframe tbody tr th:only-of-type {\n",
       "        vertical-align: middle;\n",
       "    }\n",
       "\n",
       "    .dataframe tbody tr th {\n",
       "        vertical-align: top;\n",
       "    }\n",
       "\n",
       "    .dataframe thead th {\n",
       "        text-align: right;\n",
       "    }\n",
       "</style>\n",
       "<table border=\"1\" class=\"dataframe\">\n",
       "  <thead>\n",
       "    <tr style=\"text-align: right;\">\n",
       "      <th></th>\n",
       "      <th>Year</th>\n",
       "      <th>Male</th>\n",
       "      <th>Female</th>\n",
       "    </tr>\n",
       "  </thead>\n",
       "  <tbody>\n",
       "    <tr>\n",
       "      <th>14</th>\n",
       "      <td>1960</td>\n",
       "      <td>3007</td>\n",
       "      <td>560.0</td>\n",
       "    </tr>\n",
       "    <tr>\n",
       "      <th>16</th>\n",
       "      <td>1968</td>\n",
       "      <td>3131</td>\n",
       "      <td>798.0</td>\n",
       "    </tr>\n",
       "    <tr>\n",
       "      <th>0</th>\n",
       "      <td>1896</td>\n",
       "      <td>231</td>\n",
       "      <td>0.0</td>\n",
       "    </tr>\n",
       "    <tr>\n",
       "      <th>3</th>\n",
       "      <td>1906</td>\n",
       "      <td>679</td>\n",
       "      <td>8.0</td>\n",
       "    </tr>\n",
       "    <tr>\n",
       "      <th>27</th>\n",
       "      <td>2012</td>\n",
       "      <td>4132</td>\n",
       "      <td>3232.0</td>\n",
       "    </tr>\n",
       "    <tr>\n",
       "      <th>12</th>\n",
       "      <td>1952</td>\n",
       "      <td>2698</td>\n",
       "      <td>461.0</td>\n",
       "    </tr>\n",
       "    <tr>\n",
       "      <th>24</th>\n",
       "      <td>2000</td>\n",
       "      <td>4611</td>\n",
       "      <td>2787.0</td>\n",
       "    </tr>\n",
       "    <tr>\n",
       "      <th>7</th>\n",
       "      <td>1924</td>\n",
       "      <td>1796</td>\n",
       "      <td>127.0</td>\n",
       "    </tr>\n",
       "    <tr>\n",
       "      <th>20</th>\n",
       "      <td>1984</td>\n",
       "      <td>3662</td>\n",
       "      <td>1104.0</td>\n",
       "    </tr>\n",
       "    <tr>\n",
       "      <th>2</th>\n",
       "      <td>1904</td>\n",
       "      <td>413</td>\n",
       "      <td>9.0</td>\n",
       "    </tr>\n",
       "  </tbody>\n",
       "</table>\n",
       "</div>"
      ],
      "text/plain": [
       "    Year  Male  Female\n",
       "14  1960  3007   560.0\n",
       "16  1968  3131   798.0\n",
       "0   1896   231     0.0\n",
       "3   1906   679     8.0\n",
       "27  2012  4132  3232.0\n",
       "12  1952  2698   461.0\n",
       "24  2000  4611  2787.0\n",
       "7   1924  1796   127.0\n",
       "20  1984  3662  1104.0\n",
       "2   1904   413     9.0"
      ]
     },
     "execution_count": 72,
     "metadata": {},
     "output_type": "execute_result"
    }
   ],
   "source": [
    "# LISTAR PRESENÇA MASCULINA POR ANO\n",
    "homens = df_dados_tratados[df_dados_tratados['Sex'] == 'M'].groupby('Year').count()['Name'].reset_index()\n",
    "# LISTAR PRESENÇA FEMININA POR ANO\n",
    "mulheres = df_dados_tratados[df_dados_tratados['Sex'] == 'F'].groupby('Year').count()['Name'].reset_index()\n",
    "# MERGE NAS DUAS LISTAS SUBSTITUINDO NULOS POR '0'\n",
    "lista_final = homens.merge(mulheres,on='Year',how='left')\n",
    "lista_final.rename(columns={'Name_x':'Male','Name_y':'Female'},inplace=True)\n",
    "lista_final = lista_final.fillna(0)\n",
    "lista_final.sample(10)"
   ]
  },
  {
   "cell_type": "code",
   "execution_count": 61,
   "metadata": {
    "ExecuteTime": {
     "end_time": "2021-10-22T22:01:14.530103Z",
     "start_time": "2021-10-22T22:01:14.439154Z"
    },
    "scrolled": true
   },
   "outputs": [
    {
     "data": {
      "text/html": [
       "<div>\n",
       "<style scoped>\n",
       "    .dataframe tbody tr th:only-of-type {\n",
       "        vertical-align: middle;\n",
       "    }\n",
       "\n",
       "    .dataframe tbody tr th {\n",
       "        vertical-align: top;\n",
       "    }\n",
       "\n",
       "    .dataframe thead th {\n",
       "        text-align: right;\n",
       "    }\n",
       "</style>\n",
       "<table border=\"1\" class=\"dataframe\">\n",
       "  <thead>\n",
       "    <tr style=\"text-align: right;\">\n",
       "      <th></th>\n",
       "      <th>City</th>\n",
       "      <th>Years</th>\n",
       "      <th>No. Eventos</th>\n",
       "    </tr>\n",
       "  </thead>\n",
       "  <tbody>\n",
       "    <tr>\n",
       "      <th>2</th>\n",
       "      <td>Athina</td>\n",
       "      <td>[2004, 1906, 1896]</td>\n",
       "      <td>3</td>\n",
       "    </tr>\n",
       "    <tr>\n",
       "      <th>8</th>\n",
       "      <td>London</td>\n",
       "      <td>[2012, 1948, 1908]</td>\n",
       "      <td>3</td>\n",
       "    </tr>\n",
       "    <tr>\n",
       "      <th>20</th>\n",
       "      <td>Stockholm</td>\n",
       "      <td>[1912, 1956]</td>\n",
       "      <td>2</td>\n",
       "    </tr>\n",
       "    <tr>\n",
       "      <th>9</th>\n",
       "      <td>Los Angeles</td>\n",
       "      <td>[1932, 1984]</td>\n",
       "      <td>2</td>\n",
       "    </tr>\n",
       "    <tr>\n",
       "      <th>15</th>\n",
       "      <td>Paris</td>\n",
       "      <td>[1900, 1924]</td>\n",
       "      <td>2</td>\n",
       "    </tr>\n",
       "    <tr>\n",
       "      <th>0</th>\n",
       "      <td>Amsterdam</td>\n",
       "      <td>[1928]</td>\n",
       "      <td>1</td>\n",
       "    </tr>\n",
       "    <tr>\n",
       "      <th>13</th>\n",
       "      <td>Moskva</td>\n",
       "      <td>[1980]</td>\n",
       "      <td>1</td>\n",
       "    </tr>\n",
       "    <tr>\n",
       "      <th>21</th>\n",
       "      <td>Sydney</td>\n",
       "      <td>[2000]</td>\n",
       "      <td>1</td>\n",
       "    </tr>\n",
       "    <tr>\n",
       "      <th>19</th>\n",
       "      <td>St. Louis</td>\n",
       "      <td>[1904]</td>\n",
       "      <td>1</td>\n",
       "    </tr>\n",
       "    <tr>\n",
       "      <th>18</th>\n",
       "      <td>Seoul</td>\n",
       "      <td>[1988]</td>\n",
       "      <td>1</td>\n",
       "    </tr>\n",
       "    <tr>\n",
       "      <th>17</th>\n",
       "      <td>Roma</td>\n",
       "      <td>[1960]</td>\n",
       "      <td>1</td>\n",
       "    </tr>\n",
       "    <tr>\n",
       "      <th>16</th>\n",
       "      <td>Rio de Janeiro</td>\n",
       "      <td>[2016]</td>\n",
       "      <td>1</td>\n",
       "    </tr>\n",
       "    <tr>\n",
       "      <th>14</th>\n",
       "      <td>Munich</td>\n",
       "      <td>[1972]</td>\n",
       "      <td>1</td>\n",
       "    </tr>\n",
       "    <tr>\n",
       "      <th>11</th>\n",
       "      <td>Mexico City</td>\n",
       "      <td>[1968]</td>\n",
       "      <td>1</td>\n",
       "    </tr>\n",
       "    <tr>\n",
       "      <th>12</th>\n",
       "      <td>Montreal</td>\n",
       "      <td>[1976]</td>\n",
       "      <td>1</td>\n",
       "    </tr>\n",
       "    <tr>\n",
       "      <th>1</th>\n",
       "      <td>Antwerpen</td>\n",
       "      <td>[1920]</td>\n",
       "      <td>1</td>\n",
       "    </tr>\n",
       "    <tr>\n",
       "      <th>10</th>\n",
       "      <td>Melbourne</td>\n",
       "      <td>[1956]</td>\n",
       "      <td>1</td>\n",
       "    </tr>\n",
       "    <tr>\n",
       "      <th>7</th>\n",
       "      <td>Helsinki</td>\n",
       "      <td>[1952]</td>\n",
       "      <td>1</td>\n",
       "    </tr>\n",
       "    <tr>\n",
       "      <th>6</th>\n",
       "      <td>Berlin</td>\n",
       "      <td>[1936]</td>\n",
       "      <td>1</td>\n",
       "    </tr>\n",
       "    <tr>\n",
       "      <th>5</th>\n",
       "      <td>Beijing</td>\n",
       "      <td>[2008]</td>\n",
       "      <td>1</td>\n",
       "    </tr>\n",
       "    <tr>\n",
       "      <th>4</th>\n",
       "      <td>Barcelona</td>\n",
       "      <td>[1992]</td>\n",
       "      <td>1</td>\n",
       "    </tr>\n",
       "    <tr>\n",
       "      <th>3</th>\n",
       "      <td>Atlanta</td>\n",
       "      <td>[1996]</td>\n",
       "      <td>1</td>\n",
       "    </tr>\n",
       "    <tr>\n",
       "      <th>22</th>\n",
       "      <td>Tokyo</td>\n",
       "      <td>[1964]</td>\n",
       "      <td>1</td>\n",
       "    </tr>\n",
       "  </tbody>\n",
       "</table>\n",
       "</div>"
      ],
      "text/plain": [
       "              City               Years  No. Eventos\n",
       "2           Athina  [2004, 1906, 1896]            3\n",
       "8           London  [2012, 1948, 1908]            3\n",
       "20       Stockholm        [1912, 1956]            2\n",
       "9      Los Angeles        [1932, 1984]            2\n",
       "15           Paris        [1900, 1924]            2\n",
       "0        Amsterdam              [1928]            1\n",
       "13          Moskva              [1980]            1\n",
       "21          Sydney              [2000]            1\n",
       "19       St. Louis              [1904]            1\n",
       "18           Seoul              [1988]            1\n",
       "17            Roma              [1960]            1\n",
       "16  Rio de Janeiro              [2016]            1\n",
       "14          Munich              [1972]            1\n",
       "11     Mexico City              [1968]            1\n",
       "12        Montreal              [1976]            1\n",
       "1        Antwerpen              [1920]            1\n",
       "10       Melbourne              [1956]            1\n",
       "7         Helsinki              [1952]            1\n",
       "6           Berlin              [1936]            1\n",
       "5          Beijing              [2008]            1\n",
       "4        Barcelona              [1992]            1\n",
       "3          Atlanta              [1996]            1\n",
       "22           Tokyo              [1964]            1"
      ]
     },
     "execution_count": 61,
     "metadata": {},
     "output_type": "execute_result"
    }
   ],
   "source": [
    "cidades = df_dados_tratados.groupby('City').apply(lambda x:x['Year'].unique()).to_frame().reset_index()\n",
    "cidades.columns = ['City', 'Years']\n",
    "cidades['No. Eventos'] = [len(c) for c in cidades['Years']]\n",
    "cidades.sort_values('No. Eventos', ascending=False)"
   ]
  }
 ],
 "metadata": {
  "colab": {
   "name": "Projeto - Pandas.ipynb",
   "provenance": []
  },
  "kernelspec": {
   "display_name": "Python 3",
   "language": "python",
   "name": "python3"
  },
  "language_info": {
   "codemirror_mode": {
    "name": "ipython",
    "version": 3
   },
   "file_extension": ".py",
   "mimetype": "text/x-python",
   "name": "python",
   "nbconvert_exporter": "python",
   "pygments_lexer": "ipython3",
   "version": "3.8.8"
  },
  "varInspector": {
   "cols": {
    "lenName": 16,
    "lenType": 16,
    "lenVar": 40
   },
   "kernels_config": {
    "python": {
     "delete_cmd_postfix": "",
     "delete_cmd_prefix": "del ",
     "library": "var_list.py",
     "varRefreshCmd": "print(var_dic_list())"
    },
    "r": {
     "delete_cmd_postfix": ") ",
     "delete_cmd_prefix": "rm(",
     "library": "var_list.r",
     "varRefreshCmd": "cat(var_dic_list()) "
    }
   },
   "types_to_exclude": [
    "module",
    "function",
    "builtin_function_or_method",
    "instance",
    "_Feature"
   ],
   "window_display": false
  }
 },
 "nbformat": 4,
 "nbformat_minor": 1
}
